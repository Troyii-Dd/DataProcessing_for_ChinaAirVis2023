{
 "cells": [
  {
   "cell_type": "code",
   "execution_count": 1,
   "id": "81bbb1fd",
   "metadata": {},
   "outputs": [],
   "source": [
    "import pandas as pd"
   ]
  },
  {
   "cell_type": "code",
   "execution_count": 2,
   "id": "98caa640",
   "metadata": {},
   "outputs": [],
   "source": [
    "# prov data\n",
    "df1 = pd.read_csv('./data-temp/AQI_daily.csv', encoding='utf-8')\n",
    "df2 = pd.read_csv('./data-temp/AQI_monthly.csv', encoding='utf-8')"
   ]
  },
  {
   "cell_type": "code",
   "execution_count": 3,
   "id": "be8dcf62",
   "metadata": {},
   "outputs": [
    {
     "data": {
      "text/html": [
       "<div>\n",
       "<style scoped>\n",
       "    .dataframe tbody tr th:only-of-type {\n",
       "        vertical-align: middle;\n",
       "    }\n",
       "\n",
       "    .dataframe tbody tr th {\n",
       "        vertical-align: top;\n",
       "    }\n",
       "\n",
       "    .dataframe thead th {\n",
       "        text-align: right;\n",
       "    }\n",
       "</style>\n",
       "<table border=\"1\" class=\"dataframe\">\n",
       "  <thead>\n",
       "    <tr style=\"text-align: right;\">\n",
       "      <th></th>\n",
       "      <th>province</th>\n",
       "      <th>pm2.5</th>\n",
       "      <th>pm10</th>\n",
       "      <th>so2</th>\n",
       "      <th>no2</th>\n",
       "      <th>co</th>\n",
       "      <th>o3</th>\n",
       "      <th>date</th>\n",
       "      <th>AQI</th>\n",
       "      <th>Lv</th>\n",
       "    </tr>\n",
       "  </thead>\n",
       "  <tbody>\n",
       "    <tr>\n",
       "      <th>0</th>\n",
       "      <td>上海市</td>\n",
       "      <td>73.768400</td>\n",
       "      <td>105.406800</td>\n",
       "      <td>42.533600</td>\n",
       "      <td>69.246400</td>\n",
       "      <td>1.592000</td>\n",
       "      <td>16.167200</td>\n",
       "      <td>2013-01-01</td>\n",
       "      <td>99</td>\n",
       "      <td>二级</td>\n",
       "    </tr>\n",
       "    <tr>\n",
       "      <th>1</th>\n",
       "      <td>云南省</td>\n",
       "      <td>27.068275</td>\n",
       "      <td>32.544532</td>\n",
       "      <td>11.662401</td>\n",
       "      <td>5.608646</td>\n",
       "      <td>0.448882</td>\n",
       "      <td>59.421960</td>\n",
       "      <td>2013-01-01</td>\n",
       "      <td>39</td>\n",
       "      <td>一级</td>\n",
       "    </tr>\n",
       "    <tr>\n",
       "      <th>2</th>\n",
       "      <td>内蒙古自治区</td>\n",
       "      <td>3.831791</td>\n",
       "      <td>5.107371</td>\n",
       "      <td>4.400595</td>\n",
       "      <td>2.568498</td>\n",
       "      <td>0.304605</td>\n",
       "      <td>47.037432</td>\n",
       "      <td>2013-01-01</td>\n",
       "      <td>24</td>\n",
       "      <td>一级</td>\n",
       "    </tr>\n",
       "  </tbody>\n",
       "</table>\n",
       "</div>"
      ],
      "text/plain": [
       "  province      pm2.5        pm10        so2        no2        co         o3  \\\n",
       "0      上海市  73.768400  105.406800  42.533600  69.246400  1.592000  16.167200   \n",
       "1      云南省  27.068275   32.544532  11.662401   5.608646  0.448882  59.421960   \n",
       "2   内蒙古自治区   3.831791    5.107371   4.400595   2.568498  0.304605  47.037432   \n",
       "\n",
       "         date  AQI  Lv  \n",
       "0  2013-01-01   99  二级  \n",
       "1  2013-01-01   39  一级  \n",
       "2  2013-01-01   24  一级  "
      ]
     },
     "execution_count": 3,
     "metadata": {},
     "output_type": "execute_result"
    }
   ],
   "source": [
    "df1.head(3)"
   ]
  },
  {
   "cell_type": "code",
   "execution_count": 4,
   "id": "8df797c4",
   "metadata": {},
   "outputs": [],
   "source": [
    "# df1['date'] = df1['date'].astype(str)\n",
    "df1['date_'] = df1.date.apply(lambda x: int(x[0:4]+x[5:7]+x[8:10]))"
   ]
  },
  {
   "cell_type": "code",
   "execution_count": 5,
   "id": "74ebd2eb",
   "metadata": {},
   "outputs": [],
   "source": [
    "df1.drop(['date'], axis='columns', inplace=True)\n",
    "df1 = df1.rename(columns={'date_': 'date'})"
   ]
  },
  {
   "cell_type": "code",
   "execution_count": 6,
   "id": "e67cb6ea",
   "metadata": {},
   "outputs": [
    {
     "data": {
      "text/html": [
       "<div>\n",
       "<style scoped>\n",
       "    .dataframe tbody tr th:only-of-type {\n",
       "        vertical-align: middle;\n",
       "    }\n",
       "\n",
       "    .dataframe tbody tr th {\n",
       "        vertical-align: top;\n",
       "    }\n",
       "\n",
       "    .dataframe thead th {\n",
       "        text-align: right;\n",
       "    }\n",
       "</style>\n",
       "<table border=\"1\" class=\"dataframe\">\n",
       "  <thead>\n",
       "    <tr style=\"text-align: right;\">\n",
       "      <th></th>\n",
       "      <th>province</th>\n",
       "      <th>AQI</th>\n",
       "      <th>date</th>\n",
       "    </tr>\n",
       "  </thead>\n",
       "  <tbody>\n",
       "    <tr>\n",
       "      <th>0</th>\n",
       "      <td>上海市</td>\n",
       "      <td>99</td>\n",
       "      <td>20130101</td>\n",
       "    </tr>\n",
       "    <tr>\n",
       "      <th>1</th>\n",
       "      <td>云南省</td>\n",
       "      <td>39</td>\n",
       "      <td>20130101</td>\n",
       "    </tr>\n",
       "    <tr>\n",
       "      <th>2</th>\n",
       "      <td>内蒙古自治区</td>\n",
       "      <td>24</td>\n",
       "      <td>20130101</td>\n",
       "    </tr>\n",
       "  </tbody>\n",
       "</table>\n",
       "</div>"
      ],
      "text/plain": [
       "  province  AQI      date\n",
       "0      上海市   99  20130101\n",
       "1      云南省   39  20130101\n",
       "2   内蒙古自治区   24  20130101"
      ]
     },
     "execution_count": 6,
     "metadata": {},
     "output_type": "execute_result"
    }
   ],
   "source": [
    "df1.drop(['pm2.5','pm10','so2','no2','co','o3','Lv'], axis='columns', inplace=True)\n",
    "df1.head(3)"
   ]
  },
  {
   "cell_type": "code",
   "execution_count": 8,
   "id": "0609b0c8",
   "metadata": {},
   "outputs": [
    {
     "data": {
      "text/html": [
       "<div>\n",
       "<style scoped>\n",
       "    .dataframe tbody tr th:only-of-type {\n",
       "        vertical-align: middle;\n",
       "    }\n",
       "\n",
       "    .dataframe tbody tr th {\n",
       "        vertical-align: top;\n",
       "    }\n",
       "\n",
       "    .dataframe thead th {\n",
       "        text-align: right;\n",
       "    }\n",
       "</style>\n",
       "<table border=\"1\" class=\"dataframe\">\n",
       "  <thead>\n",
       "    <tr style=\"text-align: right;\">\n",
       "      <th></th>\n",
       "      <th>province</th>\n",
       "      <th>month</th>\n",
       "      <th>pm2.5</th>\n",
       "      <th>pm10</th>\n",
       "      <th>so2</th>\n",
       "      <th>no2</th>\n",
       "      <th>co</th>\n",
       "      <th>o3</th>\n",
       "      <th>AQI</th>\n",
       "      <th>Lv</th>\n",
       "    </tr>\n",
       "  </thead>\n",
       "  <tbody>\n",
       "    <tr>\n",
       "      <th>0</th>\n",
       "      <td>上海市</td>\n",
       "      <td>2013-01</td>\n",
       "      <td>90.837135</td>\n",
       "      <td>98.366877</td>\n",
       "      <td>33.541794</td>\n",
       "      <td>59.150839</td>\n",
       "      <td>1.496465</td>\n",
       "      <td>31.554826</td>\n",
       "      <td>120</td>\n",
       "      <td>三级</td>\n",
       "    </tr>\n",
       "    <tr>\n",
       "      <th>1</th>\n",
       "      <td>上海市</td>\n",
       "      <td>2013-02</td>\n",
       "      <td>53.495900</td>\n",
       "      <td>60.697186</td>\n",
       "      <td>16.699600</td>\n",
       "      <td>32.592729</td>\n",
       "      <td>0.823357</td>\n",
       "      <td>56.077186</td>\n",
       "      <td>74</td>\n",
       "      <td>二级</td>\n",
       "    </tr>\n",
       "    <tr>\n",
       "      <th>2</th>\n",
       "      <td>上海市</td>\n",
       "      <td>2013-03</td>\n",
       "      <td>56.886026</td>\n",
       "      <td>83.154645</td>\n",
       "      <td>21.387613</td>\n",
       "      <td>47.625729</td>\n",
       "      <td>0.795832</td>\n",
       "      <td>60.840632</td>\n",
       "      <td>78</td>\n",
       "      <td>二级</td>\n",
       "    </tr>\n",
       "  </tbody>\n",
       "</table>\n",
       "</div>"
      ],
      "text/plain": [
       "  province    month      pm2.5       pm10        so2        no2        co  \\\n",
       "0      上海市  2013-01  90.837135  98.366877  33.541794  59.150839  1.496465   \n",
       "1      上海市  2013-02  53.495900  60.697186  16.699600  32.592729  0.823357   \n",
       "2      上海市  2013-03  56.886026  83.154645  21.387613  47.625729  0.795832   \n",
       "\n",
       "          o3  AQI  Lv  \n",
       "0  31.554826  120  三级  \n",
       "1  56.077186   74  二级  \n",
       "2  60.840632   78  二级  "
      ]
     },
     "execution_count": 8,
     "metadata": {},
     "output_type": "execute_result"
    }
   ],
   "source": [
    "df2.head(3)"
   ]
  },
  {
   "cell_type": "code",
   "execution_count": 9,
   "id": "52743ffa",
   "metadata": {},
   "outputs": [
    {
     "data": {
      "text/html": [
       "<div>\n",
       "<style scoped>\n",
       "    .dataframe tbody tr th:only-of-type {\n",
       "        vertical-align: middle;\n",
       "    }\n",
       "\n",
       "    .dataframe tbody tr th {\n",
       "        vertical-align: top;\n",
       "    }\n",
       "\n",
       "    .dataframe thead th {\n",
       "        text-align: right;\n",
       "    }\n",
       "</style>\n",
       "<table border=\"1\" class=\"dataframe\">\n",
       "  <thead>\n",
       "    <tr style=\"text-align: right;\">\n",
       "      <th></th>\n",
       "      <th>province</th>\n",
       "      <th>month</th>\n",
       "      <th>AQI</th>\n",
       "    </tr>\n",
       "  </thead>\n",
       "  <tbody>\n",
       "    <tr>\n",
       "      <th>0</th>\n",
       "      <td>上海市</td>\n",
       "      <td>2013-01</td>\n",
       "      <td>120</td>\n",
       "    </tr>\n",
       "    <tr>\n",
       "      <th>1</th>\n",
       "      <td>上海市</td>\n",
       "      <td>2013-02</td>\n",
       "      <td>74</td>\n",
       "    </tr>\n",
       "    <tr>\n",
       "      <th>2</th>\n",
       "      <td>上海市</td>\n",
       "      <td>2013-03</td>\n",
       "      <td>78</td>\n",
       "    </tr>\n",
       "  </tbody>\n",
       "</table>\n",
       "</div>"
      ],
      "text/plain": [
       "  province    month  AQI\n",
       "0      上海市  2013-01  120\n",
       "1      上海市  2013-02   74\n",
       "2      上海市  2013-03   78"
      ]
     },
     "execution_count": 9,
     "metadata": {},
     "output_type": "execute_result"
    }
   ],
   "source": [
    "df2.drop(['pm2.5','pm10','so2','no2','co','o3','Lv'], axis='columns', inplace=True)\n",
    "df2.head(3)"
   ]
  },
  {
   "cell_type": "code",
   "execution_count": 11,
   "id": "919f60f2",
   "metadata": {},
   "outputs": [],
   "source": [
    "df1.to_csv('AQI_daily_Gap.csv', encoding='utf-8-sig', index = False)\n",
    "df2.to_csv('AQI_monthly_Gap.csv', encoding='utf-8-sig', index = False)"
   ]
  },
  {
   "cell_type": "code",
   "execution_count": null,
   "id": "4fde92f4",
   "metadata": {},
   "outputs": [],
   "source": []
  }
 ],
 "metadata": {
  "kernelspec": {
   "display_name": "Python [conda env:Python3_8] *",
   "language": "python",
   "name": "conda-env-Python3_8-py"
  },
  "language_info": {
   "codemirror_mode": {
    "name": "ipython",
    "version": 3
   },
   "file_extension": ".py",
   "mimetype": "text/x-python",
   "name": "python",
   "nbconvert_exporter": "python",
   "pygments_lexer": "ipython3",
   "version": "3.8.12"
  }
 },
 "nbformat": 4,
 "nbformat_minor": 5
}
