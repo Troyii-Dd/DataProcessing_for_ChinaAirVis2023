{
 "cells": [
  {
   "cell_type": "code",
   "execution_count": 1,
   "id": "8c9b8ffa",
   "metadata": {},
   "outputs": [],
   "source": [
    "import pandas as pd\n",
    "pd.set_option('display.max_rows', 5)"
   ]
  },
  {
   "cell_type": "code",
   "execution_count": 2,
   "id": "3aa41aab",
   "metadata": {},
   "outputs": [],
   "source": [
    "df = pd.read_csv('./data-temp/PollutionType.csv', encoding='utf-8')"
   ]
  },
  {
   "cell_type": "code",
   "execution_count": 3,
   "id": "92e0d5dd",
   "metadata": {},
   "outputs": [
    {
     "data": {
      "text/html": [
       "<div>\n",
       "<style scoped>\n",
       "    .dataframe tbody tr th:only-of-type {\n",
       "        vertical-align: middle;\n",
       "    }\n",
       "\n",
       "    .dataframe tbody tr th {\n",
       "        vertical-align: top;\n",
       "    }\n",
       "\n",
       "    .dataframe thead th {\n",
       "        text-align: right;\n",
       "    }\n",
       "</style>\n",
       "<table border=\"1\" class=\"dataframe\">\n",
       "  <thead>\n",
       "    <tr style=\"text-align: right;\">\n",
       "      <th></th>\n",
       "      <th>province</th>\n",
       "      <th>date</th>\n",
       "      <th>Type</th>\n",
       "    </tr>\n",
       "  </thead>\n",
       "  <tbody>\n",
       "    <tr>\n",
       "      <th>0</th>\n",
       "      <td>上海市</td>\n",
       "      <td>2013-01-01</td>\n",
       "      <td>偏燃煤型</td>\n",
       "    </tr>\n",
       "    <tr>\n",
       "      <th>1</th>\n",
       "      <td>云南省</td>\n",
       "      <td>2013-01-01</td>\n",
       "      <td>其他型</td>\n",
       "    </tr>\n",
       "    <tr>\n",
       "      <th>...</th>\n",
       "      <td>...</td>\n",
       "      <td>...</td>\n",
       "      <td>...</td>\n",
       "    </tr>\n",
       "    <tr>\n",
       "      <th>72301</th>\n",
       "      <td>香港特别行政区</td>\n",
       "      <td>2018-12-31</td>\n",
       "      <td>标准型</td>\n",
       "    </tr>\n",
       "    <tr>\n",
       "      <th>72302</th>\n",
       "      <td>黑龙江省</td>\n",
       "      <td>2018-12-31</td>\n",
       "      <td>标准型</td>\n",
       "    </tr>\n",
       "  </tbody>\n",
       "</table>\n",
       "<p>72303 rows × 3 columns</p>\n",
       "</div>"
      ],
      "text/plain": [
       "      province        date  Type\n",
       "0          上海市  2013-01-01  偏燃煤型\n",
       "1          云南省  2013-01-01   其他型\n",
       "...        ...         ...   ...\n",
       "72301  香港特别行政区  2018-12-31   标准型\n",
       "72302     黑龙江省  2018-12-31   标准型\n",
       "\n",
       "[72303 rows x 3 columns]"
      ]
     },
     "execution_count": 3,
     "metadata": {},
     "output_type": "execute_result"
    }
   ],
   "source": [
    "df"
   ]
  },
  {
   "cell_type": "code",
   "execution_count": 4,
   "id": "cdf2ab1d",
   "metadata": {},
   "outputs": [],
   "source": [
    "prov = df['province']\n",
    "prov = prov.drop_duplicates()\n",
    "prov = list(prov)"
   ]
  },
  {
   "cell_type": "code",
   "execution_count": 5,
   "id": "bf091ea0",
   "metadata": {},
   "outputs": [
    {
     "data": {
      "text/plain": [
       "33"
      ]
     },
     "execution_count": 5,
     "metadata": {},
     "output_type": "execute_result"
    }
   ],
   "source": [
    "len(prov)"
   ]
  },
  {
   "cell_type": "code",
   "execution_count": 7,
   "id": "80a85a86",
   "metadata": {},
   "outputs": [],
   "source": [
    "df20130101 = df.iloc[0:33:1]"
   ]
  },
  {
   "cell_type": "code",
   "execution_count": 8,
   "id": "f92157ec",
   "metadata": {},
   "outputs": [
    {
     "data": {
      "text/html": [
       "<div>\n",
       "<style scoped>\n",
       "    .dataframe tbody tr th:only-of-type {\n",
       "        vertical-align: middle;\n",
       "    }\n",
       "\n",
       "    .dataframe tbody tr th {\n",
       "        vertical-align: top;\n",
       "    }\n",
       "\n",
       "    .dataframe thead th {\n",
       "        text-align: right;\n",
       "    }\n",
       "</style>\n",
       "<table border=\"1\" class=\"dataframe\">\n",
       "  <thead>\n",
       "    <tr style=\"text-align: right;\">\n",
       "      <th></th>\n",
       "      <th>province</th>\n",
       "      <th>date</th>\n",
       "      <th>Type</th>\n",
       "    </tr>\n",
       "  </thead>\n",
       "  <tbody>\n",
       "    <tr>\n",
       "      <th>0</th>\n",
       "      <td>上海市</td>\n",
       "      <td>2013-01-01</td>\n",
       "      <td>偏燃煤型</td>\n",
       "    </tr>\n",
       "    <tr>\n",
       "      <th>1</th>\n",
       "      <td>云南省</td>\n",
       "      <td>2013-01-01</td>\n",
       "      <td>其他型</td>\n",
       "    </tr>\n",
       "    <tr>\n",
       "      <th>...</th>\n",
       "      <td>...</td>\n",
       "      <td>...</td>\n",
       "      <td>...</td>\n",
       "    </tr>\n",
       "    <tr>\n",
       "      <th>31</th>\n",
       "      <td>香港特别行政区</td>\n",
       "      <td>2013-01-01</td>\n",
       "      <td>其他型</td>\n",
       "    </tr>\n",
       "    <tr>\n",
       "      <th>32</th>\n",
       "      <td>黑龙江省</td>\n",
       "      <td>2013-01-01</td>\n",
       "      <td>其他型</td>\n",
       "    </tr>\n",
       "  </tbody>\n",
       "</table>\n",
       "<p>33 rows × 3 columns</p>\n",
       "</div>"
      ],
      "text/plain": [
       "   province        date  Type\n",
       "0       上海市  2013-01-01  偏燃煤型\n",
       "1       云南省  2013-01-01   其他型\n",
       "..      ...         ...   ...\n",
       "31  香港特别行政区  2013-01-01   其他型\n",
       "32     黑龙江省  2013-01-01   其他型\n",
       "\n",
       "[33 rows x 3 columns]"
      ]
     },
     "execution_count": 8,
     "metadata": {},
     "output_type": "execute_result"
    }
   ],
   "source": [
    "df20130101"
   ]
  },
  {
   "cell_type": "code",
   "execution_count": 9,
   "id": "7a798ae1",
   "metadata": {},
   "outputs": [],
   "source": [
    "df20130101.to_csv('df20130101.csv', encoding='utf-8-sig', index=False)"
   ]
  },
  {
   "cell_type": "code",
   "execution_count": null,
   "id": "0a274b7b",
   "metadata": {},
   "outputs": [],
   "source": []
  }
 ],
 "metadata": {
  "kernelspec": {
   "display_name": "Python [conda env:Python3_8] *",
   "language": "python",
   "name": "conda-env-Python3_8-py"
  },
  "language_info": {
   "codemirror_mode": {
    "name": "ipython",
    "version": 3
   },
   "file_extension": ".py",
   "mimetype": "text/x-python",
   "name": "python",
   "nbconvert_exporter": "python",
   "pygments_lexer": "ipython3",
   "version": "3.8.12"
  }
 },
 "nbformat": 4,
 "nbformat_minor": 5
}
