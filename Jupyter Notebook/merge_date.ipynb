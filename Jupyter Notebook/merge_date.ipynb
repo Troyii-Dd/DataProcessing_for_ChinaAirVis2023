{
 "cells": [
  {
   "cell_type": "code",
   "execution_count": 1,
   "id": "37e8faa2",
   "metadata": {},
   "outputs": [],
   "source": [
    "import pandas as pd"
   ]
  },
  {
   "cell_type": "code",
   "execution_count": 4,
   "id": "0e9bce74",
   "metadata": {},
   "outputs": [],
   "source": [
    "df = pd.read_csv('./data-temp/daily.csv', encoding='utf-8')  # city-daily"
   ]
  },
  {
   "cell_type": "code",
   "execution_count": 5,
   "id": "6035294d",
   "metadata": {},
   "outputs": [
    {
     "name": "stdout",
     "output_type": "stream",
     "text": [
      "<class 'pandas.core.frame.DataFrame'>\n",
      "RangeIndex: 810670 entries, 0 to 810669\n",
      "Data columns (total 17 columns):\n",
      " #   Column         Non-Null Count   Dtype  \n",
      "---  ------         --------------   -----  \n",
      " 0   Unnamed: 0     810670 non-null  int64  \n",
      " 1   province       810670 non-null  object \n",
      " 2   city           810670 non-null  object \n",
      " 3   pm2.5(微克每立方米)  810670 non-null  float64\n",
      " 4   pm10(微克每立方米)   810670 non-null  float64\n",
      " 5   so2(微克每立方米)    810670 non-null  float64\n",
      " 6   no2(微克每立方米)    810670 non-null  float64\n",
      " 7   co(毫克每立方米)     810670 non-null  float64\n",
      " 8   o3(微克每立方米)     810670 non-null  float64\n",
      " 9   u(m/s)         810670 non-null  float64\n",
      " 10  v(m/s)         810670 non-null  float64\n",
      " 11  temp(k)        810670 non-null  float64\n",
      " 12  rh(%)          810670 non-null  float64\n",
      " 13  psfc(pa)       810670 non-null  float64\n",
      " 14  lat            810670 non-null  float64\n",
      " 15  lon            810670 non-null  float64\n",
      " 16  date           810670 non-null  object \n",
      "dtypes: float64(13), int64(1), object(3)\n",
      "memory usage: 105.1+ MB\n"
     ]
    }
   ],
   "source": [
    "df.info()"
   ]
  },
  {
   "cell_type": "code",
   "execution_count": 6,
   "id": "8bef0540",
   "metadata": {},
   "outputs": [],
   "source": [
    "df.drop(df.columns[[0,14,15]], axis=1, inplace=True)"
   ]
  },
  {
   "cell_type": "code",
   "execution_count": 7,
   "id": "eed6bde8",
   "metadata": {},
   "outputs": [],
   "source": [
    "df['date'] = pd.to_datetime(df['date'])"
   ]
  },
  {
   "cell_type": "code",
   "execution_count": 8,
   "id": "b164c435",
   "metadata": {},
   "outputs": [],
   "source": [
    "df.rename(columns={'pm2.5(微克每立方米)':'pm2.5', \n",
    "                   'pm10(微克每立方米)':'pm10', \n",
    "                   'so2(微克每立方米)':'so2',\n",
    "                   'no2(微克每立方米)':'no2',\n",
    "                   'co(毫克每立方米)':'co',\n",
    "                   'o3(微克每立方米)':'o3',\n",
    "                   'u(m/s)':'U',\n",
    "                   'v(m/s)':'V',\n",
    "                   'temp(k)':'temp',\n",
    "                   'rh(%)':'rh',\n",
    "                   'psfc(pa)':'psfc'}, inplace=True)"
   ]
  },
  {
   "cell_type": "code",
   "execution_count": 9,
   "id": "141bbf09",
   "metadata": {},
   "outputs": [],
   "source": [
    "df1 = df"
   ]
  },
  {
   "cell_type": "code",
   "execution_count": 10,
   "id": "975e9091",
   "metadata": {},
   "outputs": [],
   "source": [
    "df1['year'] = df1['date'].dt.to_period('Y')\n",
    "df1['month'] = df1['date'].dt.to_period('M')"
   ]
  },
  {
   "cell_type": "code",
   "execution_count": 11,
   "id": "f0448746",
   "metadata": {},
   "outputs": [
    {
     "data": {
      "text/html": [
       "<div>\n",
       "<style scoped>\n",
       "    .dataframe tbody tr th:only-of-type {\n",
       "        vertical-align: middle;\n",
       "    }\n",
       "\n",
       "    .dataframe tbody tr th {\n",
       "        vertical-align: top;\n",
       "    }\n",
       "\n",
       "    .dataframe thead th {\n",
       "        text-align: right;\n",
       "    }\n",
       "</style>\n",
       "<table border=\"1\" class=\"dataframe\">\n",
       "  <thead>\n",
       "    <tr style=\"text-align: right;\">\n",
       "      <th></th>\n",
       "      <th>province</th>\n",
       "      <th>city</th>\n",
       "      <th>pm2.5</th>\n",
       "      <th>pm10</th>\n",
       "      <th>so2</th>\n",
       "      <th>no2</th>\n",
       "      <th>co</th>\n",
       "      <th>o3</th>\n",
       "      <th>U</th>\n",
       "      <th>V</th>\n",
       "      <th>temp</th>\n",
       "      <th>rh</th>\n",
       "      <th>psfc</th>\n",
       "      <th>date</th>\n",
       "      <th>year</th>\n",
       "      <th>month</th>\n",
       "    </tr>\n",
       "  </thead>\n",
       "  <tbody>\n",
       "    <tr>\n",
       "      <th>0</th>\n",
       "      <td>上海市</td>\n",
       "      <td>上海市</td>\n",
       "      <td>73.768400</td>\n",
       "      <td>105.406800</td>\n",
       "      <td>42.533600</td>\n",
       "      <td>69.246400</td>\n",
       "      <td>1.592000</td>\n",
       "      <td>16.167200</td>\n",
       "      <td>5.578800</td>\n",
       "      <td>-0.040800</td>\n",
       "      <td>276.585200</td>\n",
       "      <td>63.680800</td>\n",
       "      <td>102374.963600</td>\n",
       "      <td>2013-01-01</td>\n",
       "      <td>2013</td>\n",
       "      <td>2013-01</td>\n",
       "    </tr>\n",
       "    <tr>\n",
       "      <th>1</th>\n",
       "      <td>云南省</td>\n",
       "      <td>临沧市</td>\n",
       "      <td>25.521759</td>\n",
       "      <td>27.578333</td>\n",
       "      <td>8.968889</td>\n",
       "      <td>2.099907</td>\n",
       "      <td>0.294167</td>\n",
       "      <td>62.829259</td>\n",
       "      <td>2.473241</td>\n",
       "      <td>3.043981</td>\n",
       "      <td>284.202037</td>\n",
       "      <td>82.732407</td>\n",
       "      <td>83894.393333</td>\n",
       "      <td>2013-01-01</td>\n",
       "      <td>2013</td>\n",
       "      <td>2013-01</td>\n",
       "    </tr>\n",
       "    <tr>\n",
       "      <th>2</th>\n",
       "      <td>云南省</td>\n",
       "      <td>丽江市</td>\n",
       "      <td>10.348989</td>\n",
       "      <td>11.545056</td>\n",
       "      <td>4.188764</td>\n",
       "      <td>2.734944</td>\n",
       "      <td>0.189213</td>\n",
       "      <td>65.888989</td>\n",
       "      <td>4.467640</td>\n",
       "      <td>0.941461</td>\n",
       "      <td>277.627978</td>\n",
       "      <td>60.219438</td>\n",
       "      <td>74367.928764</td>\n",
       "      <td>2013-01-01</td>\n",
       "      <td>2013</td>\n",
       "      <td>2013-01</td>\n",
       "    </tr>\n",
       "  </tbody>\n",
       "</table>\n",
       "</div>"
      ],
      "text/plain": [
       "  province city      pm2.5        pm10        so2        no2        co  \\\n",
       "0      上海市  上海市  73.768400  105.406800  42.533600  69.246400  1.592000   \n",
       "1      云南省  临沧市  25.521759   27.578333   8.968889   2.099907  0.294167   \n",
       "2      云南省  丽江市  10.348989   11.545056   4.188764   2.734944  0.189213   \n",
       "\n",
       "          o3         U         V        temp         rh           psfc  \\\n",
       "0  16.167200  5.578800 -0.040800  276.585200  63.680800  102374.963600   \n",
       "1  62.829259  2.473241  3.043981  284.202037  82.732407   83894.393333   \n",
       "2  65.888989  4.467640  0.941461  277.627978  60.219438   74367.928764   \n",
       "\n",
       "        date  year    month  \n",
       "0 2013-01-01  2013  2013-01  \n",
       "1 2013-01-01  2013  2013-01  \n",
       "2 2013-01-01  2013  2013-01  "
      ]
     },
     "execution_count": 11,
     "metadata": {},
     "output_type": "execute_result"
    }
   ],
   "source": [
    "df1.head(3)"
   ]
  },
  {
   "cell_type": "code",
   "execution_count": 12,
   "id": "ea60f74f",
   "metadata": {},
   "outputs": [],
   "source": [
    "df2 = df1.groupby(['province','city','year'], \n",
    "                  as_index=False)[['pm2.5','pm10','so2','no2','co','o3','U','V','temp','rh','psfc']].mean()"
   ]
  },
  {
   "cell_type": "code",
   "execution_count": 13,
   "id": "135b5d04",
   "metadata": {},
   "outputs": [
    {
     "data": {
      "text/html": [
       "<div>\n",
       "<style scoped>\n",
       "    .dataframe tbody tr th:only-of-type {\n",
       "        vertical-align: middle;\n",
       "    }\n",
       "\n",
       "    .dataframe tbody tr th {\n",
       "        vertical-align: top;\n",
       "    }\n",
       "\n",
       "    .dataframe thead th {\n",
       "        text-align: right;\n",
       "    }\n",
       "</style>\n",
       "<table border=\"1\" class=\"dataframe\">\n",
       "  <thead>\n",
       "    <tr style=\"text-align: right;\">\n",
       "      <th></th>\n",
       "      <th>province</th>\n",
       "      <th>city</th>\n",
       "      <th>year</th>\n",
       "      <th>pm2.5</th>\n",
       "      <th>pm10</th>\n",
       "      <th>so2</th>\n",
       "      <th>no2</th>\n",
       "      <th>co</th>\n",
       "      <th>o3</th>\n",
       "      <th>U</th>\n",
       "      <th>V</th>\n",
       "      <th>temp</th>\n",
       "      <th>rh</th>\n",
       "      <th>psfc</th>\n",
       "    </tr>\n",
       "  </thead>\n",
       "  <tbody>\n",
       "    <tr>\n",
       "      <th>0</th>\n",
       "      <td>上海市</td>\n",
       "      <td>上海市</td>\n",
       "      <td>2013</td>\n",
       "      <td>56.900274</td>\n",
       "      <td>74.923948</td>\n",
       "      <td>21.638148</td>\n",
       "      <td>40.291135</td>\n",
       "      <td>0.840812</td>\n",
       "      <td>61.143050</td>\n",
       "      <td>-1.069035</td>\n",
       "      <td>-0.871024</td>\n",
       "      <td>289.762556</td>\n",
       "      <td>73.667670</td>\n",
       "      <td>101601.170134</td>\n",
       "    </tr>\n",
       "    <tr>\n",
       "      <th>1</th>\n",
       "      <td>上海市</td>\n",
       "      <td>上海市</td>\n",
       "      <td>2014</td>\n",
       "      <td>49.158305</td>\n",
       "      <td>67.564199</td>\n",
       "      <td>17.930888</td>\n",
       "      <td>38.541208</td>\n",
       "      <td>0.761265</td>\n",
       "      <td>64.017287</td>\n",
       "      <td>-1.346656</td>\n",
       "      <td>-1.456547</td>\n",
       "      <td>289.304283</td>\n",
       "      <td>75.853396</td>\n",
       "      <td>101632.392347</td>\n",
       "    </tr>\n",
       "    <tr>\n",
       "      <th>2</th>\n",
       "      <td>上海市</td>\n",
       "      <td>上海市</td>\n",
       "      <td>2015</td>\n",
       "      <td>49.275272</td>\n",
       "      <td>65.485645</td>\n",
       "      <td>15.563773</td>\n",
       "      <td>38.810031</td>\n",
       "      <td>0.773898</td>\n",
       "      <td>66.972914</td>\n",
       "      <td>-1.183504</td>\n",
       "      <td>-1.253453</td>\n",
       "      <td>289.424598</td>\n",
       "      <td>75.654335</td>\n",
       "      <td>101663.662026</td>\n",
       "    </tr>\n",
       "  </tbody>\n",
       "</table>\n",
       "</div>"
      ],
      "text/plain": [
       "  province city  year      pm2.5       pm10        so2        no2        co  \\\n",
       "0      上海市  上海市  2013  56.900274  74.923948  21.638148  40.291135  0.840812   \n",
       "1      上海市  上海市  2014  49.158305  67.564199  17.930888  38.541208  0.761265   \n",
       "2      上海市  上海市  2015  49.275272  65.485645  15.563773  38.810031  0.773898   \n",
       "\n",
       "          o3         U         V        temp         rh           psfc  \n",
       "0  61.143050 -1.069035 -0.871024  289.762556  73.667670  101601.170134  \n",
       "1  64.017287 -1.346656 -1.456547  289.304283  75.853396  101632.392347  \n",
       "2  66.972914 -1.183504 -1.253453  289.424598  75.654335  101663.662026  "
      ]
     },
     "execution_count": 13,
     "metadata": {},
     "output_type": "execute_result"
    }
   ],
   "source": [
    "df2.head(3)"
   ]
  },
  {
   "cell_type": "code",
   "execution_count": 14,
   "id": "e0cc099a",
   "metadata": {},
   "outputs": [
    {
     "name": "stdout",
     "output_type": "stream",
     "text": [
      "<class 'pandas.core.frame.DataFrame'>\n",
      "RangeIndex: 2220 entries, 0 to 2219\n",
      "Data columns (total 14 columns):\n",
      " #   Column    Non-Null Count  Dtype        \n",
      "---  ------    --------------  -----        \n",
      " 0   province  2220 non-null   object       \n",
      " 1   city      2220 non-null   object       \n",
      " 2   year      2220 non-null   period[A-DEC]\n",
      " 3   pm2.5     2220 non-null   float64      \n",
      " 4   pm10      2220 non-null   float64      \n",
      " 5   so2       2220 non-null   float64      \n",
      " 6   no2       2220 non-null   float64      \n",
      " 7   co        2220 non-null   float64      \n",
      " 8   o3        2220 non-null   float64      \n",
      " 9   U         2220 non-null   float64      \n",
      " 10  V         2220 non-null   float64      \n",
      " 11  temp      2220 non-null   float64      \n",
      " 12  rh        2220 non-null   float64      \n",
      " 13  psfc      2220 non-null   float64      \n",
      "dtypes: float64(11), object(2), period[A-DEC](1)\n",
      "memory usage: 242.9+ KB\n"
     ]
    }
   ],
   "source": [
    "df2.info()"
   ]
  },
  {
   "cell_type": "code",
   "execution_count": 15,
   "id": "0419158a",
   "metadata": {},
   "outputs": [],
   "source": [
    "df3 = df1.groupby(['province','city','month'], \n",
    "                  as_index=False)[['pm2.5','pm10','so2','no2','co','o3','U','V','temp','rh','psfc']].mean()"
   ]
  },
  {
   "cell_type": "code",
   "execution_count": 16,
   "id": "b4e3553a",
   "metadata": {},
   "outputs": [
    {
     "data": {
      "text/html": [
       "<div>\n",
       "<style scoped>\n",
       "    .dataframe tbody tr th:only-of-type {\n",
       "        vertical-align: middle;\n",
       "    }\n",
       "\n",
       "    .dataframe tbody tr th {\n",
       "        vertical-align: top;\n",
       "    }\n",
       "\n",
       "    .dataframe thead th {\n",
       "        text-align: right;\n",
       "    }\n",
       "</style>\n",
       "<table border=\"1\" class=\"dataframe\">\n",
       "  <thead>\n",
       "    <tr style=\"text-align: right;\">\n",
       "      <th></th>\n",
       "      <th>province</th>\n",
       "      <th>city</th>\n",
       "      <th>month</th>\n",
       "      <th>pm2.5</th>\n",
       "      <th>pm10</th>\n",
       "      <th>so2</th>\n",
       "      <th>no2</th>\n",
       "      <th>co</th>\n",
       "      <th>o3</th>\n",
       "      <th>U</th>\n",
       "      <th>V</th>\n",
       "      <th>temp</th>\n",
       "      <th>rh</th>\n",
       "      <th>psfc</th>\n",
       "    </tr>\n",
       "  </thead>\n",
       "  <tbody>\n",
       "    <tr>\n",
       "      <th>0</th>\n",
       "      <td>上海市</td>\n",
       "      <td>上海市</td>\n",
       "      <td>2013-01</td>\n",
       "      <td>90.837135</td>\n",
       "      <td>98.366877</td>\n",
       "      <td>33.541794</td>\n",
       "      <td>59.150839</td>\n",
       "      <td>1.496465</td>\n",
       "      <td>31.554826</td>\n",
       "      <td>0.398116</td>\n",
       "      <td>-2.757471</td>\n",
       "      <td>277.686826</td>\n",
       "      <td>76.014258</td>\n",
       "      <td>102684.166323</td>\n",
       "    </tr>\n",
       "    <tr>\n",
       "      <th>1</th>\n",
       "      <td>上海市</td>\n",
       "      <td>上海市</td>\n",
       "      <td>2013-02</td>\n",
       "      <td>53.495900</td>\n",
       "      <td>60.697186</td>\n",
       "      <td>16.699600</td>\n",
       "      <td>32.592729</td>\n",
       "      <td>0.823357</td>\n",
       "      <td>56.077186</td>\n",
       "      <td>-2.297714</td>\n",
       "      <td>-2.714886</td>\n",
       "      <td>279.179000</td>\n",
       "      <td>83.063814</td>\n",
       "      <td>102528.775443</td>\n",
       "    </tr>\n",
       "    <tr>\n",
       "      <th>2</th>\n",
       "      <td>上海市</td>\n",
       "      <td>上海市</td>\n",
       "      <td>2013-03</td>\n",
       "      <td>56.886026</td>\n",
       "      <td>83.154645</td>\n",
       "      <td>21.387613</td>\n",
       "      <td>47.625729</td>\n",
       "      <td>0.795832</td>\n",
       "      <td>60.840632</td>\n",
       "      <td>-1.556013</td>\n",
       "      <td>-1.058852</td>\n",
       "      <td>283.192284</td>\n",
       "      <td>73.895239</td>\n",
       "      <td>101957.980271</td>\n",
       "    </tr>\n",
       "  </tbody>\n",
       "</table>\n",
       "</div>"
      ],
      "text/plain": [
       "  province city    month      pm2.5       pm10        so2        no2  \\\n",
       "0      上海市  上海市  2013-01  90.837135  98.366877  33.541794  59.150839   \n",
       "1      上海市  上海市  2013-02  53.495900  60.697186  16.699600  32.592729   \n",
       "2      上海市  上海市  2013-03  56.886026  83.154645  21.387613  47.625729   \n",
       "\n",
       "         co         o3         U         V        temp         rh  \\\n",
       "0  1.496465  31.554826  0.398116 -2.757471  277.686826  76.014258   \n",
       "1  0.823357  56.077186 -2.297714 -2.714886  279.179000  83.063814   \n",
       "2  0.795832  60.840632 -1.556013 -1.058852  283.192284  73.895239   \n",
       "\n",
       "            psfc  \n",
       "0  102684.166323  \n",
       "1  102528.775443  \n",
       "2  101957.980271  "
      ]
     },
     "execution_count": 16,
     "metadata": {},
     "output_type": "execute_result"
    }
   ],
   "source": [
    "df3.head(3)"
   ]
  },
  {
   "cell_type": "code",
   "execution_count": 17,
   "id": "4c5b060d",
   "metadata": {},
   "outputs": [
    {
     "name": "stdout",
     "output_type": "stream",
     "text": [
      "<class 'pandas.core.frame.DataFrame'>\n",
      "RangeIndex: 26640 entries, 0 to 26639\n",
      "Data columns (total 14 columns):\n",
      " #   Column    Non-Null Count  Dtype    \n",
      "---  ------    --------------  -----    \n",
      " 0   province  26640 non-null  object   \n",
      " 1   city      26640 non-null  object   \n",
      " 2   month     26640 non-null  period[M]\n",
      " 3   pm2.5     26640 non-null  float64  \n",
      " 4   pm10      26640 non-null  float64  \n",
      " 5   so2       26640 non-null  float64  \n",
      " 6   no2       26640 non-null  float64  \n",
      " 7   co        26640 non-null  float64  \n",
      " 8   o3        26640 non-null  float64  \n",
      " 9   U         26640 non-null  float64  \n",
      " 10  V         26640 non-null  float64  \n",
      " 11  temp      26640 non-null  float64  \n",
      " 12  rh        26640 non-null  float64  \n",
      " 13  psfc      26640 non-null  float64  \n",
      "dtypes: float64(11), object(2), period[M](1)\n",
      "memory usage: 2.8+ MB\n"
     ]
    }
   ],
   "source": [
    "df3.info()"
   ]
  },
  {
   "cell_type": "code",
   "execution_count": null,
   "id": "a984dab3",
   "metadata": {},
   "outputs": [],
   "source": []
  },
  {
   "cell_type": "code",
   "execution_count": 2,
   "id": "95537873",
   "metadata": {},
   "outputs": [
    {
     "name": "stdout",
     "output_type": "stream",
     "text": [
      "        Joined date\n",
      "Hisila   2019-11-20\n",
      "Shristi  2020-01-02\n",
      "Zeppy    2020-02-05\n",
      "Alina    2020-03-10\n",
      "Jerry    2020-04-16\n"
     ]
    }
   ],
   "source": [
    "list_of_dates = ['2019-11-20', '2020-01-02', '2020-02-05','2020-03-10','2020-04-16']\n",
    "employees = ['Hisila', 'Shristi','Zeppy','Alina','Jerry']\n",
    "df = pd.DataFrame({'Joined date': pd.to_datetime(list_of_dates)}, index=employees)\n",
    "print(df)"
   ]
  },
  {
   "cell_type": "code",
   "execution_count": 3,
   "id": "949c0e9c",
   "metadata": {},
   "outputs": [
    {
     "name": "stdout",
     "output_type": "stream",
     "text": [
      "        Joined date  Year  Month  Day       Date\n",
      "Hisila   2019-11-20  2019     11   20 2019-11-20\n",
      "Shristi  2020-01-02  2020      1    2 2020-01-02\n",
      "Zeppy    2020-02-05  2020      2    5 2020-02-05\n",
      "Alina    2020-03-10  2020      3   10 2020-03-10\n",
      "Jerry    2020-04-16  2020      4   16 2020-04-16\n"
     ]
    }
   ],
   "source": [
    "df['Year'] = df['Joined date'].dt.year\n",
    "df['Month'] = df['Joined date'].dt.month\n",
    "df['Day'] = df['Joined date'].dt.day\n",
    "# 转化为日期类型datetime64[ns]\n",
    "df['Date'] = pd.to_datetime(df['Joined date'].dt.date)\n",
    "print(df)"
   ]
  },
  {
   "cell_type": "code",
   "execution_count": null,
   "id": "f4e6aa75",
   "metadata": {},
   "outputs": [],
   "source": []
  },
  {
   "cell_type": "code",
   "execution_count": null,
   "id": "a683e644",
   "metadata": {},
   "outputs": [],
   "source": [
    "df.groupby(df['date'].dt.to_period(\"M\")).mean()"
   ]
  },
  {
   "cell_type": "code",
   "execution_count": null,
   "id": "25e3805f",
   "metadata": {},
   "outputs": [],
   "source": [
    "df.set_index('date').resample('M').mean()"
   ]
  },
  {
   "cell_type": "code",
   "execution_count": null,
   "id": "c7a425d4",
   "metadata": {},
   "outputs": [],
   "source": [
    "# 将date列设为索引\n",
    "df_new = df.set_index('date')"
   ]
  },
  {
   "cell_type": "code",
   "execution_count": null,
   "id": "afebff68",
   "metadata": {},
   "outputs": [],
   "source": [
    "# 把索引变成以年份为单位\n",
    "df_new.index.to_period('A')"
   ]
  },
  {
   "cell_type": "code",
   "execution_count": null,
   "id": "763f9f44",
   "metadata": {},
   "outputs": [],
   "source": [
    "# 按年份分组\n",
    "df_new.groupby(df_new.index.to_period('A'))"
   ]
  },
  {
   "cell_type": "code",
   "execution_count": null,
   "id": "ef10e230",
   "metadata": {},
   "outputs": [],
   "source": [
    "# 使用均值对每个列聚合\n",
    "df_new.groupby(df_new.index.to_period('A')).mean()"
   ]
  },
  {
   "cell_type": "code",
   "execution_count": null,
   "id": "dca16da0",
   "metadata": {},
   "outputs": [],
   "source": [
    "# 按月份聚合\n",
    "df_new.groupby(df_new.index.to_period('M')).mean()"
   ]
  },
  {
   "cell_type": "code",
   "execution_count": null,
   "id": "49afe124",
   "metadata": {},
   "outputs": [],
   "source": []
  }
 ],
 "metadata": {
  "kernelspec": {
   "display_name": "Python [conda env:Python3_8] *",
   "language": "python",
   "name": "conda-env-Python3_8-py"
  },
  "language_info": {
   "codemirror_mode": {
    "name": "ipython",
    "version": 3
   },
   "file_extension": ".py",
   "mimetype": "text/x-python",
   "name": "python",
   "nbconvert_exporter": "python",
   "pygments_lexer": "ipython3",
   "version": "3.8.12"
  }
 },
 "nbformat": 4,
 "nbformat_minor": 5
}
