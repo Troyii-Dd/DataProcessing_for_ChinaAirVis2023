{
 "cells": [
  {
   "cell_type": "code",
   "execution_count": 1,
   "id": "b5d29c49",
   "metadata": {},
   "outputs": [],
   "source": [
    "import pandas as pd\n",
    "import glob\n",
    "import re\n",
    "import os"
   ]
  },
  {
   "cell_type": "code",
   "execution_count": 2,
   "id": "2301f8d1",
   "metadata": {},
   "outputs": [
    {
     "name": "stdout",
     "output_type": "stream",
     "text": [
      "41\n",
      "<re.Match object; span=(0, 41), match='Hello 123 4567 World_This is a Regex Demo'>\n",
      "Hello 123 4567 World_This is a Regex Demo\n",
      "(0, 41)\n"
     ]
    }
   ],
   "source": [
    "content = 'Hello 123 4567 World_This is a Regex Demo'\n",
    "result = re.match('^Hello\\s\\d\\d\\d\\s\\d{4}\\s\\w{10}.*Demo$',content)\n",
    "# ^符号匹配字符串开头，Hello开头的字符串写过来\n",
    "# \\s匹配任意的空白字符\n",
    "# \\d可以匹配任意的数字\n",
    "# 后面有4567，写4个\\d太麻烦了，\\d{4}\n",
    "# \\w匹配字母或者下划线\n",
    "# 后面一长串字符不想写了,直接用.来全部代替,匹配任意字符\n",
    "# * 匹配0个或多个表达式\n",
    "# .*可以匹配任意的字符除了换行符\n",
    "# 用Demo$制定正则表达式的结尾\n",
    "print(len(content))\n",
    "print(result)\n",
    "print(result.group())#返回匹配结果\n",
    "print(result.span())#输出返回结果的范围"
   ]
  },
  {
   "cell_type": "code",
   "execution_count": 3,
   "id": "cf7658fb",
   "metadata": {},
   "outputs": [
    {
     "name": "stdout",
     "output_type": "stream",
     "text": [
      "<re.Match object; span=(0, 40), match='Hello 1234567 World_This is a Regex Demo'>\n",
      "Hello 1234567 World_This is a Regex Demo\n",
      "1234567\n",
      "(0, 40)\n"
     ]
    }
   ],
   "source": [
    "content = 'Hello 1234567 World_This is a Regex Demo'\n",
    "result = re.match('^Hello\\s(\\d+)\\sWorld.*Demo$',content)\n",
    "print(result)\n",
    "print(result.group())\n",
    "print(result.group(1))  # 上面第一个d加了括号，把第一个括号里的内容取出来\n",
    "print(result.span())"
   ]
  },
  {
   "cell_type": "code",
   "execution_count": 4,
   "id": "c11689dc",
   "metadata": {},
   "outputs": [
    {
     "name": "stdout",
     "output_type": "stream",
     "text": [
      "<re.Match object; span=(0, 40), match='Hello 1234567 World_This is a Regex Demo'>\n",
      "7\n"
     ]
    }
   ],
   "source": [
    "content = 'Hello 1234567 World_This is a Regex Demo'\n",
    "result = re.match('^He.*(\\d+).*Demo$',content)\n",
    "# 开头直接不写全了，就^He后面直接.*\n",
    "# 我们的目标用括号括起来\n",
    "print(result)\n",
    "print(result.group(1))  # 打印结果不是1234567，而是7，也就是说.*会尽可能多的匹配，把123456都匹配进去了，\\d+至少会有一个"
   ]
  },
  {
   "cell_type": "code",
   "execution_count": 5,
   "id": "f409b411",
   "metadata": {},
   "outputs": [
    {
     "name": "stdout",
     "output_type": "stream",
     "text": [
      "20130101\n"
     ]
    }
   ],
   "source": [
    "content = './data-temp/CN-Reanalysis-daily-2013010100.csv'\n",
    "result = re.match('.*(\\d{8})\\d{2}',content)\n",
    "print(result.group(1))"
   ]
  },
  {
   "cell_type": "code",
   "execution_count": 6,
   "id": "c4f687d8",
   "metadata": {},
   "outputs": [
    {
     "name": "stdout",
     "output_type": "stream",
     "text": [
      "20130101\n",
      "00\n"
     ]
    }
   ],
   "source": [
    "content = './data-temp/CN-Reanalysis-daily-2013010100.csv'\n",
    "result = re.match('.*(\\d{8})(\\d{2})',content)\n",
    "print(result.group(1))\n",
    "print(result.group(2))"
   ]
  },
  {
   "cell_type": "code",
   "execution_count": 7,
   "id": "4dd081af",
   "metadata": {},
   "outputs": [],
   "source": [
    "def extract_date(string):\n",
    "    match = re.match('.*(\\d{8})\\d{2}', string)\n",
    "    if match != None:\n",
    "        return match.group(1)"
   ]
  },
  {
   "cell_type": "code",
   "execution_count": 8,
   "id": "c8d3f532",
   "metadata": {},
   "outputs": [],
   "source": [
    "in_path = './data-temp'\n",
    "path_ = []\n",
    "for i in os.listdir(in_path):\n",
    "    path = os.path.join(in_path, i)\n",
    "    path_.append(path)"
   ]
  },
  {
   "cell_type": "code",
   "execution_count": 9,
   "id": "50d57b63",
   "metadata": {},
   "outputs": [
    {
     "data": {
      "text/plain": [
       "['./data-temp\\\\CN-Reanalysis-daily-2013010100.csv',\n",
       " './data-temp\\\\CN-Reanalysis-daily-2013010200.csv',\n",
       " './data-temp\\\\CN-Reanalysis-daily-2013010300.csv',\n",
       " './data-temp\\\\daily.csv',\n",
       " './data-temp\\\\template.csv']"
      ]
     },
     "execution_count": 9,
     "metadata": {},
     "output_type": "execute_result"
    }
   ],
   "source": [
    "path_"
   ]
  },
  {
   "cell_type": "code",
   "execution_count": 10,
   "id": "33b93e12",
   "metadata": {},
   "outputs": [
    {
     "data": {
      "text/plain": [
       "list"
      ]
     },
     "execution_count": 10,
     "metadata": {},
     "output_type": "execute_result"
    }
   ],
   "source": [
    "type(path_)"
   ]
  },
  {
   "cell_type": "code",
   "execution_count": 11,
   "id": "4621522d",
   "metadata": {},
   "outputs": [
    {
     "name": "stdout",
     "output_type": "stream",
     "text": [
      "['./data-temp\\\\CN-Reanalysis-daily-2013010100.csv', './data-temp\\\\CN-Reanalysis-daily-2013010200.csv', './data-temp\\\\CN-Reanalysis-daily-2013010300.csv']\n"
     ]
    }
   ],
   "source": [
    "path = './data-temp'\n",
    "allFiles = glob.glob(path+'/CN-Reanalysis-daily-201*.csv')\n",
    "print(allFiles)"
   ]
  },
  {
   "cell_type": "code",
   "execution_count": 12,
   "id": "8778bf48",
   "metadata": {},
   "outputs": [
    {
     "data": {
      "text/plain": [
       "list"
      ]
     },
     "execution_count": 12,
     "metadata": {},
     "output_type": "execute_result"
    }
   ],
   "source": [
    "type(allFiles)"
   ]
  },
  {
   "cell_type": "code",
   "execution_count": 13,
   "id": "113c3a6d",
   "metadata": {},
   "outputs": [],
   "source": [
    "path = './data-temp'\n",
    "allFiles = glob.glob(path+'/CN-Reanalysis-daily-201*.csv')\n",
    "df_list = []\n",
    "for file_ in allFiles:\n",
    "    df = pd.read_csv(file_, index_col=None, header=0)\n",
    "    df.columns = map(str.lower, df.columns)\n",
    "    df['date'] = extract_date(file_)\n",
    "    df_list.append(df)"
   ]
  },
  {
   "cell_type": "code",
   "execution_count": 14,
   "id": "6c9e8879",
   "metadata": {},
   "outputs": [],
   "source": [
    "df = pd.concat(df_list)"
   ]
  },
  {
   "cell_type": "code",
   "execution_count": 15,
   "id": "0c2cec4d",
   "metadata": {},
   "outputs": [
    {
     "data": {
      "text/html": [
       "<div>\n",
       "<style scoped>\n",
       "    .dataframe tbody tr th:only-of-type {\n",
       "        vertical-align: middle;\n",
       "    }\n",
       "\n",
       "    .dataframe tbody tr th {\n",
       "        vertical-align: top;\n",
       "    }\n",
       "\n",
       "    .dataframe thead th {\n",
       "        text-align: right;\n",
       "    }\n",
       "</style>\n",
       "<table border=\"1\" class=\"dataframe\">\n",
       "  <thead>\n",
       "    <tr style=\"text-align: right;\">\n",
       "      <th></th>\n",
       "      <th>province</th>\n",
       "      <th>city</th>\n",
       "      <th>pm2.5(微克每立方米)</th>\n",
       "      <th>pm10(微克每立方米)</th>\n",
       "      <th>so2(微克每立方米)</th>\n",
       "      <th>no2(微克每立方米)</th>\n",
       "      <th>co(毫克每立方米)</th>\n",
       "      <th>o3(微克每立方米)</th>\n",
       "      <th>u(m/s)</th>\n",
       "      <th>v(m/s)</th>\n",
       "      <th>temp(k)</th>\n",
       "      <th>rh(%)</th>\n",
       "      <th>psfc(pa)</th>\n",
       "      <th>lat</th>\n",
       "      <th>lon</th>\n",
       "      <th>date</th>\n",
       "    </tr>\n",
       "  </thead>\n",
       "  <tbody>\n",
       "    <tr>\n",
       "      <th>0</th>\n",
       "      <td>上海市</td>\n",
       "      <td>上海市</td>\n",
       "      <td>73.768400</td>\n",
       "      <td>105.406800</td>\n",
       "      <td>42.533600</td>\n",
       "      <td>69.246400</td>\n",
       "      <td>1.592000</td>\n",
       "      <td>16.167200</td>\n",
       "      <td>5.578800</td>\n",
       "      <td>-0.040800</td>\n",
       "      <td>276.585200</td>\n",
       "      <td>63.680800</td>\n",
       "      <td>102374.963600</td>\n",
       "      <td>31.172800</td>\n",
       "      <td>121.420000</td>\n",
       "      <td>20130101</td>\n",
       "    </tr>\n",
       "    <tr>\n",
       "      <th>1</th>\n",
       "      <td>云南省</td>\n",
       "      <td>临沧市</td>\n",
       "      <td>25.521759</td>\n",
       "      <td>27.578333</td>\n",
       "      <td>8.968889</td>\n",
       "      <td>2.099907</td>\n",
       "      <td>0.294167</td>\n",
       "      <td>62.829259</td>\n",
       "      <td>2.473241</td>\n",
       "      <td>3.043981</td>\n",
       "      <td>284.202037</td>\n",
       "      <td>82.732407</td>\n",
       "      <td>83894.393333</td>\n",
       "      <td>23.934907</td>\n",
       "      <td>99.685833</td>\n",
       "      <td>20130101</td>\n",
       "    </tr>\n",
       "    <tr>\n",
       "      <th>2</th>\n",
       "      <td>云南省</td>\n",
       "      <td>丽江市</td>\n",
       "      <td>10.348989</td>\n",
       "      <td>11.545056</td>\n",
       "      <td>4.188764</td>\n",
       "      <td>2.734944</td>\n",
       "      <td>0.189213</td>\n",
       "      <td>65.888989</td>\n",
       "      <td>4.467640</td>\n",
       "      <td>0.941461</td>\n",
       "      <td>277.627978</td>\n",
       "      <td>60.219438</td>\n",
       "      <td>74367.928764</td>\n",
       "      <td>26.959888</td>\n",
       "      <td>100.515393</td>\n",
       "      <td>20130101</td>\n",
       "    </tr>\n",
       "    <tr>\n",
       "      <th>3</th>\n",
       "      <td>云南省</td>\n",
       "      <td>保山市</td>\n",
       "      <td>22.846588</td>\n",
       "      <td>24.944471</td>\n",
       "      <td>7.408941</td>\n",
       "      <td>3.031176</td>\n",
       "      <td>0.282824</td>\n",
       "      <td>62.948824</td>\n",
       "      <td>2.923529</td>\n",
       "      <td>1.507765</td>\n",
       "      <td>282.182471</td>\n",
       "      <td>82.275294</td>\n",
       "      <td>81815.787765</td>\n",
       "      <td>24.953176</td>\n",
       "      <td>98.961647</td>\n",
       "      <td>20130101</td>\n",
       "    </tr>\n",
       "    <tr>\n",
       "      <th>4</th>\n",
       "      <td>云南省</td>\n",
       "      <td>大理白族自治州</td>\n",
       "      <td>18.596565</td>\n",
       "      <td>20.494198</td>\n",
       "      <td>6.160840</td>\n",
       "      <td>3.004656</td>\n",
       "      <td>0.251069</td>\n",
       "      <td>64.491985</td>\n",
       "      <td>5.587939</td>\n",
       "      <td>2.083817</td>\n",
       "      <td>279.801985</td>\n",
       "      <td>71.500458</td>\n",
       "      <td>77957.550687</td>\n",
       "      <td>25.725878</td>\n",
       "      <td>100.052901</td>\n",
       "      <td>20130101</td>\n",
       "    </tr>\n",
       "  </tbody>\n",
       "</table>\n",
       "</div>"
      ],
      "text/plain": [
       "  province     city  pm2.5(微克每立方米)  pm10(微克每立方米)  so2(微克每立方米)  no2(微克每立方米)  \\\n",
       "0      上海市      上海市      73.768400    105.406800    42.533600    69.246400   \n",
       "1      云南省      临沧市      25.521759     27.578333     8.968889     2.099907   \n",
       "2      云南省      丽江市      10.348989     11.545056     4.188764     2.734944   \n",
       "3      云南省      保山市      22.846588     24.944471     7.408941     3.031176   \n",
       "4      云南省  大理白族自治州      18.596565     20.494198     6.160840     3.004656   \n",
       "\n",
       "   co(毫克每立方米)  o3(微克每立方米)    u(m/s)    v(m/s)     temp(k)      rh(%)  \\\n",
       "0    1.592000   16.167200  5.578800 -0.040800  276.585200  63.680800   \n",
       "1    0.294167   62.829259  2.473241  3.043981  284.202037  82.732407   \n",
       "2    0.189213   65.888989  4.467640  0.941461  277.627978  60.219438   \n",
       "3    0.282824   62.948824  2.923529  1.507765  282.182471  82.275294   \n",
       "4    0.251069   64.491985  5.587939  2.083817  279.801985  71.500458   \n",
       "\n",
       "        psfc(pa)        lat         lon      date  \n",
       "0  102374.963600  31.172800  121.420000  20130101  \n",
       "1   83894.393333  23.934907   99.685833  20130101  \n",
       "2   74367.928764  26.959888  100.515393  20130101  \n",
       "3   81815.787765  24.953176   98.961647  20130101  \n",
       "4   77957.550687  25.725878  100.052901  20130101  "
      ]
     },
     "execution_count": 15,
     "metadata": {},
     "output_type": "execute_result"
    }
   ],
   "source": [
    "df.head()"
   ]
  },
  {
   "cell_type": "code",
   "execution_count": 16,
   "id": "bd23b896",
   "metadata": {},
   "outputs": [
    {
     "name": "stdout",
     "output_type": "stream",
     "text": [
      "<class 'pandas.core.frame.DataFrame'>\n",
      "Int64Index: 1110 entries, 0 to 369\n",
      "Data columns (total 16 columns):\n",
      " #   Column         Non-Null Count  Dtype  \n",
      "---  ------         --------------  -----  \n",
      " 0   province       1110 non-null   object \n",
      " 1   city           1110 non-null   object \n",
      " 2   pm2.5(微克每立方米)  1110 non-null   float64\n",
      " 3   pm10(微克每立方米)   1110 non-null   float64\n",
      " 4   so2(微克每立方米)    1110 non-null   float64\n",
      " 5   no2(微克每立方米)    1110 non-null   float64\n",
      " 6   co(毫克每立方米)     1110 non-null   float64\n",
      " 7   o3(微克每立方米)     1110 non-null   float64\n",
      " 8   u(m/s)         1110 non-null   float64\n",
      " 9   v(m/s)         1110 non-null   float64\n",
      " 10  temp(k)        1110 non-null   float64\n",
      " 11  rh(%)          1110 non-null   float64\n",
      " 12  psfc(pa)       1110 non-null   float64\n",
      " 13  lat            1110 non-null   float64\n",
      " 14  lon            1110 non-null   float64\n",
      " 15  date           1110 non-null   object \n",
      "dtypes: float64(13), object(3)\n",
      "memory usage: 147.4+ KB\n"
     ]
    }
   ],
   "source": [
    "df.info()"
   ]
  },
  {
   "cell_type": "code",
   "execution_count": 17,
   "id": "f809d06c",
   "metadata": {},
   "outputs": [
    {
     "name": "stdout",
     "output_type": "stream",
     "text": [
      "<class 'pandas.core.frame.DataFrame'>\n",
      "RangeIndex: 370 entries, 0 to 369\n",
      "Data columns (total 15 columns):\n",
      " #   Column         Non-Null Count  Dtype  \n",
      "---  ------         --------------  -----  \n",
      " 0   province       370 non-null    object \n",
      " 1   city           370 non-null    object \n",
      " 2   PM2.5(微克每立方米)  370 non-null    float64\n",
      " 3   PM10(微克每立方米)   370 non-null    float64\n",
      " 4   SO2(微克每立方米)    370 non-null    float64\n",
      " 5   NO2(微克每立方米)    370 non-null    float64\n",
      " 6   CO(毫克每立方米)     370 non-null    float64\n",
      " 7   O3(微克每立方米)     370 non-null    float64\n",
      " 8   U(m/s)         370 non-null    float64\n",
      " 9   V(m/s)         370 non-null    float64\n",
      " 10  TEMP(K)        370 non-null    float64\n",
      " 11  RH(%)          370 non-null    float64\n",
      " 12  PSFC(Pa)       370 non-null    float64\n",
      " 13  lat            370 non-null    float64\n",
      " 14  lon            370 non-null    float64\n",
      "dtypes: float64(13), object(2)\n",
      "memory usage: 43.5+ KB\n"
     ]
    }
   ],
   "source": [
    "df1 = pd.read_csv('./data-temp/CN-Reanalysis-daily-2013010100.csv', encoding='utf-8')\n",
    "df1.info()"
   ]
  },
  {
   "cell_type": "code",
   "execution_count": null,
   "id": "1ba5fcf0",
   "metadata": {},
   "outputs": [],
   "source": []
  }
 ],
 "metadata": {
  "kernelspec": {
   "display_name": "Python [conda env:Python3_8] *",
   "language": "python",
   "name": "conda-env-Python3_8-py"
  },
  "language_info": {
   "codemirror_mode": {
    "name": "ipython",
    "version": 3
   },
   "file_extension": ".py",
   "mimetype": "text/x-python",
   "name": "python",
   "nbconvert_exporter": "python",
   "pygments_lexer": "ipython3",
   "version": "3.8.12"
  }
 },
 "nbformat": 4,
 "nbformat_minor": 5
}
