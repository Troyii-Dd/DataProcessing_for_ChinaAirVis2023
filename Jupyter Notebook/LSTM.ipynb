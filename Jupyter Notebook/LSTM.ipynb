{
 "cells": [
  {
   "cell_type": "code",
   "execution_count": null,
   "metadata": {},
   "outputs": [],
   "source": [
    "# 赛博炼丹有风险"
   ]
  },
  {
   "cell_type": "code",
   "execution_count": 1,
   "metadata": {},
   "outputs": [],
   "source": [
    "import numpy as np\n",
    "import pandas as pd\n",
    "import torch\n",
    "import torch.nn as nn\n",
    "import matplotlib.pyplot as plt\n",
    "from sklearn import preprocessing\n",
    "import seaborn as sns\n",
    "from pylab import rcParams"
   ]
  },
  {
   "cell_type": "code",
   "execution_count": 2,
   "metadata": {},
   "outputs": [],
   "source": [
    "data_cs = pd.read_csv('./data-temp/pre/changsha.csv')"
   ]
  },
  {
   "cell_type": "markdown",
   "metadata": {},
   "source": [
    "```\n",
    "data_cd = pd.read_csv('./data-temp/pre/chengdu.csv')\n",
    "data_heb = pd.read_csv('./data-temp/pre/haerbin.csv')\n",
    "data_hz = pd.read_csv('./data-temp/pre/hangzhou.csv')\n",
    "data_jn = pd.read_csv('./data-temp/pre/jinan.csv')\n",
    "data_wulu = pd.read_csv('./data-temp/pre/wulumuqi.csv')\n",
    "data_zz = pd.read_csv('./data-temp/pre/zhengzhou.csv')\n",
    "```"
   ]
  },
  {
   "cell_type": "code",
   "execution_count": 3,
   "metadata": {},
   "outputs": [],
   "source": [
    "def split_date(city_data):\n",
    "    new_names = ['Year','Month','Day']\n",
    "    splits = city_data['Time'].str.split('-', expand=True)\n",
    "    splits.columns = new_names\n",
    "    city_data = city_data.join(splits)\n",
    "    return city_data"
   ]
  },
  {
   "cell_type": "code",
   "execution_count": 4,
   "metadata": {},
   "outputs": [],
   "source": [
    "data_cs = split_date(data_cs)"
   ]
  },
  {
   "cell_type": "markdown",
   "metadata": {},
   "source": [
    "```\n",
    "data_cd = split_date(data_cd)\n",
    "data_heb = split_date(data_heb)\n",
    "data_hz = split_date(data_hz)\n",
    "data_jn = split_date(data_jn)\n",
    "data_wulu = split_date(data_wulu)\n",
    "data_zz = split_date(data_zz)\n",
    "```"
   ]
  },
  {
   "cell_type": "code",
   "execution_count": 5,
   "metadata": {},
   "outputs": [],
   "source": [
    "data_cs[['Year', 'Month', 'Day']] = data_cs[['Year', 'Month', 'Day']].astype(\"int64\")"
   ]
  },
  {
   "cell_type": "code",
   "execution_count": 6,
   "metadata": {},
   "outputs": [
    {
     "name": "stdout",
     "output_type": "stream",
     "text": [
      "<class 'pandas.core.frame.DataFrame'>\n",
      "RangeIndex: 2191 entries, 0 to 2190\n",
      "Data columns (total 11 columns):\n",
      " #   Column  Non-Null Count  Dtype  \n",
      "---  ------  --------------  -----  \n",
      " 0   AQI     2191 non-null   float64\n",
      " 1   PM2_5   2191 non-null   float64\n",
      " 2   PM10    2191 non-null   float64\n",
      " 3   SO2     2191 non-null   float64\n",
      " 4   NO2     2191 non-null   float64\n",
      " 5   CO      2191 non-null   float64\n",
      " 6   O3      2191 non-null   float64\n",
      " 7   Time    2191 non-null   object \n",
      " 8   Year    2191 non-null   int64  \n",
      " 9   Month   2191 non-null   int64  \n",
      " 10  Day     2191 non-null   int64  \n",
      "dtypes: float64(7), int64(3), object(1)\n",
      "memory usage: 188.4+ KB\n"
     ]
    }
   ],
   "source": [
    "data_cs.info()"
   ]
  },
  {
   "cell_type": "markdown",
   "metadata": {},
   "source": [
    "```\n",
    "data_cd[['Year', 'Month', 'Day']] = data_cd[['Year', 'Month', 'Day']].astype(\"int64\")\n",
    "data_heb[['Year', 'Month', 'Day']] = data_heb[['Year', 'Month', 'Day']].astype(\"int64\")\n",
    "data_hz[['Year', 'Month', 'Day']] = data_hz[['Year', 'Month', 'Day']].astype(\"int64\")\n",
    "data_jn[['Year', 'Month', 'Day']] = data_jn[['Year', 'Month', 'Day']].astype(\"int64\")\n",
    "data_wulu[['Year', 'Month', 'Day']] = data_wulu[['Year', 'Month', 'Day']].astype(\"int64\")\n",
    "data_zz[['Year', 'Month', 'Day']] = data_zz[['Year', 'Month', 'Day']].astype(\"int64\")\n",
    "```"
   ]
  },
  {
   "cell_type": "code",
   "execution_count": null,
   "metadata": {},
   "outputs": [],
   "source": []
  },
  {
   "cell_type": "code",
   "execution_count": 7,
   "metadata": {},
   "outputs": [],
   "source": [
    "training_set_size = 0.8\n",
    "look_back = 30"
   ]
  },
  {
   "cell_type": "code",
   "execution_count": 8,
   "metadata": {},
   "outputs": [],
   "source": [
    "def smooth(city_data, column_name, window_size):\n",
    "    temp_data = city_data[column_name]\n",
    "    temp = []\n",
    "    temp_sum = 0\n",
    "    for i in range(len(temp_data)):\n",
    "        temp_sum += temp_data[i]\n",
    "        if np.mod(i+1,window_size) == 0:\n",
    "            temp.append(temp_sum/window_size)\n",
    "            temp_sum = 0\n",
    "    return temp"
   ]
  },
  {
   "cell_type": "code",
   "execution_count": 9,
   "metadata": {},
   "outputs": [],
   "source": [
    "# MinMax_scaler\n",
    "scaler = preprocessing.MinMaxScaler(feature_range=(0,1))\n",
    "\n",
    "# 归一化\n",
    "def normalization(city_data):\n",
    "    AQI_data = scaler.fit_transform(city_data.values.reshape(-1,1))\n",
    "    return AQI_data\n",
    "\n",
    "# 反归一化\n",
    "def inverse_normalization(city_data):\n",
    "    AQI_inverse = scaler.inverse_transform(city_data)\n",
    "    return AQI_inverse\n",
    "\n",
    "# 划分数据\n",
    "def split(city_data):\n",
    "    split = int(len(city_data)*training_set_size)\n",
    "    train = city_data[:split]\n",
    "    test = city_data[split+1:]\n",
    "    return train,test"
   ]
  },
  {
   "cell_type": "code",
   "execution_count": 10,
   "metadata": {},
   "outputs": [],
   "source": [
    "train_set_cs,test_set_cs = split(data_cs['AQI'])\n",
    "train_set_cs = normalization(train_set_cs)\n",
    "test_set_cs = normalization(test_set_cs)"
   ]
  },
  {
   "cell_type": "code",
   "execution_count": 11,
   "metadata": {},
   "outputs": [],
   "source": [
    "def creat_dataset(dataset,look_back):\n",
    "    data_x = []\n",
    "    data_y = []\n",
    "    for i in range(len(dataset)-look_back):  # 用前30个数据预测下一个数据\n",
    "        data_x.append(dataset[i:i+look_back])\n",
    "        data_y.append(dataset[i+look_back])\n",
    "    return np.asarray(data_x).reshape(-1, 1, look_back),np.asarray(data_y).reshape(-1, 1, 1)"
   ]
  },
  {
   "cell_type": "code",
   "execution_count": 12,
   "metadata": {},
   "outputs": [],
   "source": [
    "x_train_cs, y_train_cs = creat_dataset(train_set_cs,look_back)"
   ]
  },
  {
   "cell_type": "code",
   "execution_count": 13,
   "metadata": {},
   "outputs": [],
   "source": [
    "epoch = 300  # 训练次数\n",
    "lr = 0.01  # 学习率\n",
    "hidden_layer_size = 32    # 隐藏层神经元个数\n",
    "num_layers = 4  # 隐藏层层数"
   ]
  },
  {
   "cell_type": "code",
   "execution_count": 14,
   "metadata": {},
   "outputs": [],
   "source": [
    "class RNN(nn.Module):\n",
    "    def __init__(self):\n",
    "        super(RNN,self).__init__()\n",
    "        # input_size = lookback(30)\n",
    "        self.lstm = nn.LSTM(look_back,hidden_layer_size,num_layers)  # lstm层\n",
    "        # output_size = 1\n",
    "        self.out = nn.Linear(hidden_layer_size,1)  # 输出层\n",
    "    def forward(self,x):  # 前向传播\n",
    "        x1,_ = self.lstm(x)\n",
    "        a,b,c = x1.shape\n",
    "        # 线性层输入:二维数据，lstm输出:三维数据\n",
    "        # 输出的特征维度不能变\n",
    "        out = self.out(x1.view(-1,c))\n",
    "        # 循环神经网络，把二维output调整成三维数据，下一次循环使用\n",
    "        out1 = out.view(a,b,-1)\n",
    "        return out1"
   ]
  },
  {
   "cell_type": "code",
   "execution_count": 15,
   "metadata": {},
   "outputs": [
    {
     "name": "stdout",
     "output_type": "stream",
     "text": [
      "RNN(\n",
      "  (lstm): LSTM(30, 32, num_layers=4)\n",
      "  (out): Linear(in_features=32, out_features=1, bias=True)\n",
      ")\n"
     ]
    }
   ],
   "source": [
    "rnn = RNN()\n",
    "print(rnn)\n",
    "optimizer = torch.optim.Adam(rnn.parameters(),lr = 0.02)\n",
    "loss_func = nn.MSELoss()"
   ]
  },
  {
   "cell_type": "code",
   "execution_count": 16,
   "metadata": {},
   "outputs": [],
   "source": [
    "loss_list = []\n",
    "def train(x_train, y_train):    \n",
    "    for i in range(epoch):\n",
    "        x = torch.from_numpy(x_train).type(torch.FloatTensor)\n",
    "        y = torch.from_numpy(y_train).type(torch.FloatTensor)\n",
    "        out = rnn(x)\n",
    "        loss = loss_func(out,y)\n",
    "        loss_list.append(loss)\n",
    "        optimizer.zero_grad()\n",
    "        loss.backward()\n",
    "        optimizer.step()"
   ]
  },
  {
   "cell_type": "code",
   "execution_count": null,
   "metadata": {
    "scrolled": true
   },
   "outputs": [],
   "source": [
    "train(x_train_cs, y_train_cs)"
   ]
  },
  {
   "cell_type": "code",
   "execution_count": null,
   "metadata": {},
   "outputs": [],
   "source": [
    "plt.plot(k_range, inertias, 'o-')\n",
    "plt.xlabel('Epoch')\n",
    "plt.ylabel('Loss')\n",
    "plt.show()"
   ]
  },
  {
   "cell_type": "code",
   "execution_count": null,
   "metadata": {},
   "outputs": [],
   "source": [
    "# 画图\n",
    "rcParams['figure.figsize'] = (10,8)\n",
    "def plot(title,ylabel,xlabel,data,sta=0):\n",
    "    plt.title(title)\n",
    "    plt.ylabel(ylabel)\n",
    "    plt.xlabel(xlabel)\n",
    "    plt.grid(True)\n",
    "    plt.autoscale(axis='x',tight=True)\n",
    "    plt.plot(data[sta:])\n",
    "\n",
    "def plot_AQI(city_data,window_size):\n",
    "    AQI_list = smooth(city_data,'AQI',window_size)\n",
    "    plot('AQI','time',AQI_list) "
   ]
  },
  {
   "cell_type": "code",
   "execution_count": null,
   "metadata": {},
   "outputs": [],
   "source": [
    "# 测试\n",
    "rnn.eval()\n",
    "# 构建数据集\n",
    "x_test_cs,y_test_cs = creat_dataset(test_set_cs,look_back)\n",
    "\n",
    "def test_rnn(x_test,y_test):\n",
    "    y_pred = rnn(torch.from_numpy(x_test).type(torch.FloatTensor).to(device))\n",
    "\n",
    "    pred = y_pred.data.cpu().numpy().reshape(-1,1)\n",
    "    test = y_test.reshape(-1,1)\n",
    "    pred_list = []\n",
    "    test_list = []\n",
    "    pred_sum = 0\n",
    "    test_sum = 0\n",
    "\n",
    "    for i in range(len(pred)):\n",
    "        pred_sum += pred[i]\n",
    "        test_sum += test[i]\n",
    "        if np.mod(i+1,look_back)==0:\n",
    "            pred_list.append(pred_sum/look_back)\n",
    "            test_list.append(test_sum/look_back)\n",
    "            pred_sum = 0\n",
    "            test_sum = 0\n",
    "\n",
    "test_rnn(x_test_cs,y_test_cs)"
   ]
  },
  {
   "cell_type": "code",
   "execution_count": null,
   "metadata": {},
   "outputs": [],
   "source": [
    "time_forward = 30\n",
    "\n",
    "# 迭代：将预测得到的第a天的数据加入数据集,用作预测第a+1天\n",
    "def fut_iter(in_seq):\n",
    "    x = torch.from_numpy(in_seq).type(torch.FloatTensor).to(device)\n",
    "    out_data = rnn(x).to(device)\n",
    "    return out_data\n",
    "\n",
    "def pred_future(city_data,time_forward=30):\n",
    "    AQI_data = normalization(city_data['AQI'])\n",
    "    # 创建初始数据集\n",
    "    data,_ = creat_dataset(AQI_data,look_back)\n",
    "    pred = rnn(torch.from_numpy(data).type(torch.FloatTensor).to(device))\n",
    "    pred = pred.data.cpu().numpy().reshape(-1,1)\n",
    "    in_seq = np.delete(data[-1,0],0)\n",
    "    in_seq = np.append(in_seq,pred[-1]).reshape(1,-1,look_back)\n",
    "    for i in range(time_forward):\n",
    "        out = fut_iter(in_seq).item()\n",
    "        pred = np.append(pred,out)\n",
    "        in_seq = np.delete(in_seq[-1,0],0)\n",
    "        # 扩增数据集\n",
    "        in_seq = np.append(in_seq,out).reshape(1,-1,look_back)\n",
    "    pred = pred.reshape(-1,1)\n",
    "    # 反归一化\n",
    "    pred = inverse_normalization(pred)\n",
    "    return pred[-time_forward:]"
   ]
  },
  {
   "cell_type": "code",
   "execution_count": null,
   "metadata": {},
   "outputs": [],
   "source": [
    "result_data = pred_future(data_cs,time_forward)"
   ]
  },
  {
   "cell_type": "code",
   "execution_count": null,
   "metadata": {
    "scrolled": true
   },
   "outputs": [],
   "source": [
    "result_df = pd.DataFrame(result_data,columns=['AQI'])\n",
    "result_df"
   ]
  },
  {
   "cell_type": "code",
   "execution_count": null,
   "metadata": {},
   "outputs": [],
   "source": []
  },
  {
   "cell_type": "code",
   "execution_count": null,
   "metadata": {},
   "outputs": [],
   "source": [
    "result_df.to_csv('re_changsha.csv',index=False)"
   ]
  },
  {
   "cell_type": "code",
   "execution_count": null,
   "metadata": {},
   "outputs": [],
   "source": []
  }
 ],
 "metadata": {
  "interpreter": {
   "hash": "aaf50f420e4d2e933931954fad28853c17475f62de49278c8dd32dccfcf603f3"
  },
  "kernelspec": {
   "display_name": "Python [conda env:Python3_8] *",
   "language": "python",
   "name": "conda-env-Python3_8-py"
  },
  "language_info": {
   "codemirror_mode": {
    "name": "ipython",
    "version": 3
   },
   "file_extension": ".py",
   "mimetype": "text/x-python",
   "name": "python",
   "nbconvert_exporter": "python",
   "pygments_lexer": "ipython3",
   "version": "3.8.12"
  }
 },
 "nbformat": 4,
 "nbformat_minor": 4
}
