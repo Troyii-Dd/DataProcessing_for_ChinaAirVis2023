{
 "cells": [
  {
   "cell_type": "code",
   "execution_count": null,
   "metadata": {},
   "outputs": [],
   "source": [
    "# 用哪种聚类方法，参数设定"
   ]
  },
  {
   "cell_type": "code",
   "execution_count": 1,
   "metadata": {},
   "outputs": [],
   "source": [
    "import pandas as pd\n",
    "import numpy as np\n",
    "from sklearn.cluster import Birch\n",
    "from sklearn.cluster import DBSCAN\n",
    "from sklearn.cluster import KMeans\n",
    "from sklearn import metrics\n",
    "import matplotlib.pyplot as plt"
   ]
  },
  {
   "cell_type": "code",
   "execution_count": 24,
   "metadata": {},
   "outputs": [],
   "source": [
    "# 基于特征值\n",
    "pm25 = pd.read_csv(\"./data-temp/EI_pm25_daily.csv\")\n",
    "pm10 = pd.read_csv(\"./data-temp/EI_pm10_daily.csv\")\n",
    "so2 = pd.read_csv(\"./data-temp/EI_so2_daily.csv\")\n",
    "no2 = pd.read_csv(\"./data-temp/EI_no2_daily.csv\")\n",
    "co = pd.read_csv(\"./data-temp/EI_co_daily.csv\")\n",
    "o3 = pd.read_csv(\"./data-temp/EI_o3_daily.csv\")"
   ]
  },
  {
   "cell_type": "code",
   "execution_count": 27,
   "metadata": {},
   "outputs": [],
   "source": [
    "df = pd.merge(pm25, pm10)"
   ]
  },
  {
   "cell_type": "code",
   "execution_count": 29,
   "metadata": {},
   "outputs": [],
   "source": [
    "df = pd.merge(df, so2)\n",
    "df = pd.merge(df, no2)\n",
    "df = pd.merge(df, co)\n",
    "df = pd.merge(df, o3)"
   ]
  },
  {
   "cell_type": "code",
   "execution_count": 31,
   "metadata": {},
   "outputs": [],
   "source": [
    "df.columns = ['province', 'date', 'pm25', 'pm10', 'so2', 'no2', 'co', 'o3']"
   ]
  },
  {
   "cell_type": "code",
   "execution_count": 33,
   "metadata": {},
   "outputs": [],
   "source": [
    "X = df[['pm25', 'pm10', 'so2', 'no2', 'co', 'o3']]"
   ]
  },
  {
   "cell_type": "code",
   "execution_count": 34,
   "metadata": {},
   "outputs": [
    {
     "data": {
      "text/html": [
       "<div>\n",
       "<style scoped>\n",
       "    .dataframe tbody tr th:only-of-type {\n",
       "        vertical-align: middle;\n",
       "    }\n",
       "\n",
       "    .dataframe tbody tr th {\n",
       "        vertical-align: top;\n",
       "    }\n",
       "\n",
       "    .dataframe thead th {\n",
       "        text-align: right;\n",
       "    }\n",
       "</style>\n",
       "<table border=\"1\" class=\"dataframe\">\n",
       "  <thead>\n",
       "    <tr style=\"text-align: right;\">\n",
       "      <th></th>\n",
       "      <th>pm25</th>\n",
       "      <th>pm10</th>\n",
       "      <th>so2</th>\n",
       "      <th>no2</th>\n",
       "      <th>co</th>\n",
       "      <th>o3</th>\n",
       "    </tr>\n",
       "  </thead>\n",
       "  <tbody>\n",
       "    <tr>\n",
       "      <th>0</th>\n",
       "      <td>0.869471</td>\n",
       "      <td>1.141625</td>\n",
       "      <td>1.298958</td>\n",
       "      <td>1.148138</td>\n",
       "      <td>1.029111</td>\n",
       "      <td>0.437687</td>\n",
       "    </tr>\n",
       "    <tr>\n",
       "      <th>1</th>\n",
       "      <td>0.791364</td>\n",
       "      <td>1.226107</td>\n",
       "      <td>0.956687</td>\n",
       "      <td>0.879651</td>\n",
       "      <td>1.403257</td>\n",
       "      <td>1.132052</td>\n",
       "    </tr>\n",
       "    <tr>\n",
       "      <th>2</th>\n",
       "      <td>0.730568</td>\n",
       "      <td>0.852860</td>\n",
       "      <td>1.289182</td>\n",
       "      <td>0.875354</td>\n",
       "      <td>1.647687</td>\n",
       "      <td>1.906702</td>\n",
       "    </tr>\n",
       "    <tr>\n",
       "      <th>3</th>\n",
       "      <td>0.841148</td>\n",
       "      <td>0.851362</td>\n",
       "      <td>1.203761</td>\n",
       "      <td>1.059770</td>\n",
       "      <td>1.213926</td>\n",
       "      <td>1.449228</td>\n",
       "    </tr>\n",
       "    <tr>\n",
       "      <th>4</th>\n",
       "      <td>0.906887</td>\n",
       "      <td>0.816223</td>\n",
       "      <td>1.187525</td>\n",
       "      <td>1.157466</td>\n",
       "      <td>1.575167</td>\n",
       "      <td>1.225809</td>\n",
       "    </tr>\n",
       "    <tr>\n",
       "      <th>...</th>\n",
       "      <td>...</td>\n",
       "      <td>...</td>\n",
       "      <td>...</td>\n",
       "      <td>...</td>\n",
       "      <td>...</td>\n",
       "      <td>...</td>\n",
       "    </tr>\n",
       "    <tr>\n",
       "      <th>72298</th>\n",
       "      <td>0.415109</td>\n",
       "      <td>0.506736</td>\n",
       "      <td>0.556642</td>\n",
       "      <td>0.504792</td>\n",
       "      <td>0.922944</td>\n",
       "      <td>1.666138</td>\n",
       "    </tr>\n",
       "    <tr>\n",
       "      <th>72299</th>\n",
       "      <td>0.487200</td>\n",
       "      <td>0.473545</td>\n",
       "      <td>0.619801</td>\n",
       "      <td>0.576729</td>\n",
       "      <td>0.960459</td>\n",
       "      <td>1.633408</td>\n",
       "    </tr>\n",
       "    <tr>\n",
       "      <th>72300</th>\n",
       "      <td>0.538732</td>\n",
       "      <td>0.525204</td>\n",
       "      <td>0.633784</td>\n",
       "      <td>0.636865</td>\n",
       "      <td>0.968062</td>\n",
       "      <td>1.570229</td>\n",
       "    </tr>\n",
       "    <tr>\n",
       "      <th>72301</th>\n",
       "      <td>0.730877</td>\n",
       "      <td>0.652063</td>\n",
       "      <td>0.814461</td>\n",
       "      <td>0.854816</td>\n",
       "      <td>1.012431</td>\n",
       "      <td>1.355729</td>\n",
       "    </tr>\n",
       "    <tr>\n",
       "      <th>72302</th>\n",
       "      <td>0.998895</td>\n",
       "      <td>0.875092</td>\n",
       "      <td>0.830472</td>\n",
       "      <td>0.957974</td>\n",
       "      <td>1.040917</td>\n",
       "      <td>1.100803</td>\n",
       "    </tr>\n",
       "  </tbody>\n",
       "</table>\n",
       "<p>72303 rows × 6 columns</p>\n",
       "</div>"
      ],
      "text/plain": [
       "           pm25      pm10       so2       no2        co        o3\n",
       "0      0.869471  1.141625  1.298958  1.148138  1.029111  0.437687\n",
       "1      0.791364  1.226107  0.956687  0.879651  1.403257  1.132052\n",
       "2      0.730568  0.852860  1.289182  0.875354  1.647687  1.906702\n",
       "3      0.841148  0.851362  1.203761  1.059770  1.213926  1.449228\n",
       "4      0.906887  0.816223  1.187525  1.157466  1.575167  1.225809\n",
       "...         ...       ...       ...       ...       ...       ...\n",
       "72298  0.415109  0.506736  0.556642  0.504792  0.922944  1.666138\n",
       "72299  0.487200  0.473545  0.619801  0.576729  0.960459  1.633408\n",
       "72300  0.538732  0.525204  0.633784  0.636865  0.968062  1.570229\n",
       "72301  0.730877  0.652063  0.814461  0.854816  1.012431  1.355729\n",
       "72302  0.998895  0.875092  0.830472  0.957974  1.040917  1.100803\n",
       "\n",
       "[72303 rows x 6 columns]"
      ]
     },
     "execution_count": 34,
     "metadata": {},
     "output_type": "execute_result"
    }
   ],
   "source": [
    "X"
   ]
  },
  {
   "cell_type": "code",
   "execution_count": 35,
   "metadata": {},
   "outputs": [],
   "source": [
    "X = np.array(X)"
   ]
  },
  {
   "cell_type": "code",
   "execution_count": 43,
   "metadata": {},
   "outputs": [
    {
     "data": {
      "text/plain": [
       "array([[0.86947124, 1.14162459, 1.29895826, 1.14813808, 1.02911094,\n",
       "        0.43768744],\n",
       "       [0.79136366, 1.22610654, 0.95668683, 0.87965077, 1.40325734,\n",
       "        1.13205157],\n",
       "       [0.73056784, 0.85285962, 1.28918245, 0.87535374, 1.64768692,\n",
       "        1.90670152],\n",
       "       ...,\n",
       "       [0.5387323 , 0.52520406, 0.63378446, 0.63686471, 0.968062  ,\n",
       "        1.57022893],\n",
       "       [0.73087749, 0.65206271, 0.81446068, 0.85481587, 1.01243057,\n",
       "        1.35572918],\n",
       "       [0.99889484, 0.87509201, 0.8304723 , 0.95797425, 1.04091734,\n",
       "        1.10080298]])"
      ]
     },
     "execution_count": 43,
     "metadata": {},
     "output_type": "execute_result"
    }
   ],
   "source": [
    "X"
   ]
  },
  {
   "cell_type": "code",
   "execution_count": null,
   "metadata": {},
   "outputs": [],
   "source": []
  },
  {
   "cell_type": "code",
   "execution_count": 45,
   "metadata": {},
   "outputs": [
    {
     "data": {
      "text/html": [
       "<div>\n",
       "<style scoped>\n",
       "    .dataframe tbody tr th:only-of-type {\n",
       "        vertical-align: middle;\n",
       "    }\n",
       "\n",
       "    .dataframe tbody tr th {\n",
       "        vertical-align: top;\n",
       "    }\n",
       "\n",
       "    .dataframe thead th {\n",
       "        text-align: right;\n",
       "    }\n",
       "</style>\n",
       "<table border=\"1\" class=\"dataframe\">\n",
       "  <thead>\n",
       "    <tr style=\"text-align: right;\">\n",
       "      <th></th>\n",
       "      <th>PM2.5(微克每立方米)</th>\n",
       "      <th>PM10(微克每立方米)</th>\n",
       "      <th>SO2(微克每立方米)</th>\n",
       "      <th>NO2(微克每立方米)</th>\n",
       "      <th>CO(毫克每立方米)</th>\n",
       "      <th>O3(微克每立方米)</th>\n",
       "      <th>U(m/s)</th>\n",
       "      <th>V(m/s)</th>\n",
       "      <th>TEMP(K)</th>\n",
       "      <th>RH(%)</th>\n",
       "      <th>PSFC(Pa)</th>\n",
       "      <th>lat</th>\n",
       "      <th>lon</th>\n",
       "      <th>AQI</th>\n",
       "      <th>Major pollutants</th>\n",
       "      <th>id</th>\n",
       "    </tr>\n",
       "  </thead>\n",
       "  <tbody>\n",
       "    <tr>\n",
       "      <th>0</th>\n",
       "      <td>20.209999</td>\n",
       "      <td>23.559999</td>\n",
       "      <td>8.65</td>\n",
       "      <td>4.58</td>\n",
       "      <td>0.29</td>\n",
       "      <td>63.439999</td>\n",
       "      <td>-2.48</td>\n",
       "      <td>-2.31</td>\n",
       "      <td>291.540009</td>\n",
       "      <td>68.139999</td>\n",
       "      <td>100350.109375</td>\n",
       "      <td>18.34</td>\n",
       "      <td>109.25</td>\n",
       "      <td>28.871428</td>\n",
       "      <td>PM2.5</td>\n",
       "      <td>0</td>\n",
       "    </tr>\n",
       "    <tr>\n",
       "      <th>1</th>\n",
       "      <td>20.410000</td>\n",
       "      <td>23.959999</td>\n",
       "      <td>9.28</td>\n",
       "      <td>5.24</td>\n",
       "      <td>0.29</td>\n",
       "      <td>62.529999</td>\n",
       "      <td>-3.43</td>\n",
       "      <td>-3.21</td>\n",
       "      <td>291.959991</td>\n",
       "      <td>67.410004</td>\n",
       "      <td>100546.632812</td>\n",
       "      <td>18.34</td>\n",
       "      <td>109.38</td>\n",
       "      <td>29.157143</td>\n",
       "      <td>PM2.5</td>\n",
       "      <td>1</td>\n",
       "    </tr>\n",
       "    <tr>\n",
       "      <th>2</th>\n",
       "      <td>21.170000</td>\n",
       "      <td>24.780001</td>\n",
       "      <td>10.07</td>\n",
       "      <td>5.47</td>\n",
       "      <td>0.30</td>\n",
       "      <td>62.240002</td>\n",
       "      <td>-3.43</td>\n",
       "      <td>-4.72</td>\n",
       "      <td>291.369995</td>\n",
       "      <td>69.589996</td>\n",
       "      <td>100428.132812</td>\n",
       "      <td>18.33</td>\n",
       "      <td>109.52</td>\n",
       "      <td>30.242857</td>\n",
       "      <td>PM2.5</td>\n",
       "      <td>2</td>\n",
       "    </tr>\n",
       "    <tr>\n",
       "      <th>3</th>\n",
       "      <td>22.240000</td>\n",
       "      <td>26.040001</td>\n",
       "      <td>10.36</td>\n",
       "      <td>5.28</td>\n",
       "      <td>0.30</td>\n",
       "      <td>63.580002</td>\n",
       "      <td>-2.92</td>\n",
       "      <td>-5.32</td>\n",
       "      <td>290.739990</td>\n",
       "      <td>72.940002</td>\n",
       "      <td>100569.273438</td>\n",
       "      <td>18.33</td>\n",
       "      <td>109.66</td>\n",
       "      <td>31.771429</td>\n",
       "      <td>PM2.5</td>\n",
       "      <td>3</td>\n",
       "    </tr>\n",
       "    <tr>\n",
       "      <th>4</th>\n",
       "      <td>19.680000</td>\n",
       "      <td>22.340000</td>\n",
       "      <td>7.62</td>\n",
       "      <td>3.58</td>\n",
       "      <td>0.29</td>\n",
       "      <td>66.209999</td>\n",
       "      <td>-2.51</td>\n",
       "      <td>-3.13</td>\n",
       "      <td>291.670013</td>\n",
       "      <td>65.970001</td>\n",
       "      <td>101620.343750</td>\n",
       "      <td>18.49</td>\n",
       "      <td>108.83</td>\n",
       "      <td>28.114286</td>\n",
       "      <td>PM2.5</td>\n",
       "      <td>4</td>\n",
       "    </tr>\n",
       "  </tbody>\n",
       "</table>\n",
       "</div>"
      ],
      "text/plain": [
       "   PM2.5(微克每立方米)  PM10(微克每立方米)  SO2(微克每立方米)  NO2(微克每立方米)  CO(毫克每立方米)  \\\n",
       "0      20.209999     23.559999         8.65         4.58        0.29   \n",
       "1      20.410000     23.959999         9.28         5.24        0.29   \n",
       "2      21.170000     24.780001        10.07         5.47        0.30   \n",
       "3      22.240000     26.040001        10.36         5.28        0.30   \n",
       "4      19.680000     22.340000         7.62         3.58        0.29   \n",
       "\n",
       "   O3(微克每立方米)  U(m/s)  V(m/s)     TEMP(K)      RH(%)       PSFC(Pa)    lat  \\\n",
       "0   63.439999   -2.48   -2.31  291.540009  68.139999  100350.109375  18.34   \n",
       "1   62.529999   -3.43   -3.21  291.959991  67.410004  100546.632812  18.34   \n",
       "2   62.240002   -3.43   -4.72  291.369995  69.589996  100428.132812  18.33   \n",
       "3   63.580002   -2.92   -5.32  290.739990  72.940002  100569.273438  18.33   \n",
       "4   66.209999   -2.51   -3.13  291.670013  65.970001  101620.343750  18.49   \n",
       "\n",
       "      lon        AQI Major pollutants  id  \n",
       "0  109.25  28.871428            PM2.5   0  \n",
       "1  109.38  29.157143            PM2.5   1  \n",
       "2  109.52  30.242857            PM2.5   2  \n",
       "3  109.66  31.771429            PM2.5   3  \n",
       "4  108.83  28.114286            PM2.5   4  "
      ]
     },
     "execution_count": 45,
     "metadata": {},
     "output_type": "execute_result"
    }
   ],
   "source": [
    "df_ = pd.read_csv(\"./data-temp/CN-Reanalysis-daily-2013010100.csv\")\n",
    "df_.head()"
   ]
  },
  {
   "cell_type": "code",
   "execution_count": 46,
   "metadata": {},
   "outputs": [],
   "source": [
    "df_.drop(columns=[\"U(m/s)\",\"V(m/s)\",\"TEMP(K)\",\"RH(%)\",\"PSFC(Pa)\", \"lat\", \"lon\", \"AQI\", \"Major pollutants\", \"id\"], inplace=True)"
   ]
  },
  {
   "cell_type": "code",
   "execution_count": 48,
   "metadata": {},
   "outputs": [],
   "source": [
    "df_.columns = ['pm25', 'pm10', 'so2', 'no2', 'co', 'o3']\n",
    "X_ = np.array(df_)"
   ]
  },
  {
   "cell_type": "code",
   "execution_count": 49,
   "metadata": {},
   "outputs": [
    {
     "data": {
      "text/plain": [
       "array([[20.209999, 23.559999,  8.65    ,  4.58    ,  0.29    , 63.439999],\n",
       "       [20.41    , 23.959999,  9.28    ,  5.24    ,  0.29    , 62.529999],\n",
       "       [21.17    , 24.780001, 10.07    ,  5.47    ,  0.3     , 62.240002],\n",
       "       ...,\n",
       "       [ 0.14    ,  0.16    ,  1.51    ,  0.56    ,  0.22    , 63.93    ],\n",
       "       [ 0.15    ,  0.18    ,  1.27    ,  0.6     ,  0.22    , 64.559998],\n",
       "       [ 0.17    ,  0.2     ,  1.12    ,  0.7     ,  0.22    , 64.879997]])"
      ]
     },
     "execution_count": 49,
     "metadata": {},
     "output_type": "execute_result"
    }
   ],
   "source": [
    "X_"
   ]
  },
  {
   "cell_type": "code",
   "execution_count": null,
   "metadata": {},
   "outputs": [],
   "source": []
  },
  {
   "cell_type": "code",
   "execution_count": 59,
   "metadata": {},
   "outputs": [],
   "source": [
    "df_data = pd.read_csv(\"./data-temp/CN-Reanalysis-daily-2013010100.csv\")\n",
    "Xd = df_data.drop(columns=[\"lat\",\"lon\",\"AQI\",\"Major pollutants\",\"id\"])"
   ]
  },
  {
   "cell_type": "code",
   "execution_count": 58,
   "metadata": {},
   "outputs": [
    {
     "data": {
      "text/plain": [
       "array([[2.02099990e+01, 2.35599990e+01, 8.65000000e+00, ...,\n",
       "        2.91540009e+02, 6.81399990e+01, 1.00350109e+05],\n",
       "       [2.04100000e+01, 2.39599990e+01, 9.28000000e+00, ...,\n",
       "        2.91959991e+02, 6.74100040e+01, 1.00546633e+05],\n",
       "       [2.11700000e+01, 2.47800010e+01, 1.00700000e+01, ...,\n",
       "        2.91369995e+02, 6.95899960e+01, 1.00428133e+05],\n",
       "       ...,\n",
       "       [1.40000000e-01, 1.60000000e-01, 1.51000000e+00, ...,\n",
       "        2.45500000e+02, 5.72200010e+01, 9.66185234e+04],\n",
       "       [1.50000000e-01, 1.80000000e-01, 1.27000000e+00, ...,\n",
       "        2.46059998e+02, 5.46300010e+01, 9.71711875e+04],\n",
       "       [1.70000000e-01, 2.00000000e-01, 1.12000000e+00, ...,\n",
       "        2.46369995e+02, 5.34399990e+01, 9.76471875e+04]])"
      ]
     },
     "execution_count": 58,
     "metadata": {},
     "output_type": "execute_result"
    }
   ],
   "source": [
    "Xd = np.array(Xd)\n",
    "Xd"
   ]
  },
  {
   "cell_type": "code",
   "execution_count": null,
   "metadata": {},
   "outputs": [],
   "source": []
  },
  {
   "cell_type": "code",
   "execution_count": null,
   "metadata": {},
   "outputs": [],
   "source": [
    "cluster_score = []\n",
    "method = []"
   ]
  },
  {
   "cell_type": "code",
   "execution_count": null,
   "metadata": {},
   "outputs": [],
   "source": [
    "# Birch聚类\n",
    "method.append(\"Birch\")\n",
    "brc = Birch(n_clusters=None)\n",
    "brc.fit(X)\n",
    "num = brc.predict(X)\n",
    "cluster_score.append(metrics.calinski_harabasz_score(X, num))"
   ]
  },
  {
   "cell_type": "code",
   "execution_count": null,
   "metadata": {},
   "outputs": [],
   "source": [
    "# DBSCAN聚类\n",
    "method.append(\"DBSCAN\")\n",
    "clustering = DBSCAN(eps=3, min_samples=3).fit(X)\n",
    "cluster_score.append(metrics.calinski_harabasz_score(X, clustering.labels_))"
   ]
  },
  {
   "cell_type": "code",
   "execution_count": null,
   "metadata": {},
   "outputs": [],
   "source": [
    "# Kmeans聚类\n",
    "method.append(\"Kmeans\")\n",
    "kmeans = KMeans(n_clusters=5).fit(X)\n",
    "cluster_score.append(metrics.calinski_harabasz_score(X, kmeans.labels_))"
   ]
  },
  {
   "cell_type": "code",
   "execution_count": null,
   "metadata": {},
   "outputs": [],
   "source": [
    "cluster_score"
   ]
  },
  {
   "cell_type": "code",
   "execution_count": null,
   "metadata": {},
   "outputs": [],
   "source": []
  },
  {
   "cell_type": "code",
   "execution_count": 38,
   "metadata": {},
   "outputs": [],
   "source": [
    "# inertia: 每个样本点到其所在质心的距离之和\n",
    "inertias = []  # 存放每个簇族对应的簇内平方和\n",
    "k_range = range(2, 10)\n",
    "for k in k_range:\n",
    "    estimator = KMeans(n_clusters=k)  # 构造聚类器\n",
    "    estimator.fit(X)\n",
    "    inertias.append(estimator.inertia_)"
   ]
  },
  {
   "cell_type": "code",
   "execution_count": 39,
   "metadata": {},
   "outputs": [
    {
     "data": {
      "image/png": "[encoded data removed]",
      "text/plain": [
       "<Figure size 432x288 with 1 Axes>"
      ]
     },
     "metadata": {
      "needs_background": "light"
     },
     "output_type": "display_data"
    }
   ],
   "source": [
    "plt.plot(k_range, inertias, 'o-')\n",
    "plt.xlabel('k')\n",
    "plt.ylabel('inertias')\n",
    "plt.show()"
   ]
  },
  {
   "cell_type": "code",
   "execution_count": 40,
   "metadata": {},
   "outputs": [],
   "source": [
    "from sklearn.metrics import silhouette_score\n",
    "Scores = []  # 轮廓系数\n",
    "k_range = range(2, 10)\n",
    "for k in k_range:\n",
    "    estimator = KMeans(n_clusters=k)  # 构造聚类器\n",
    "    estimator.fit(X)\n",
    "    Scores.append(silhouette_score(X, estimator.labels_, metric='euclidean'))"
   ]
  },
  {
   "cell_type": "code",
   "execution_count": 41,
   "metadata": {},
   "outputs": [
    {
     "data": {
      "image/png": "[encoded data removed]",
      "text/plain": [
       "<Figure size 432x288 with 1 Axes>"
      ]
     },
     "metadata": {
      "needs_background": "light"
     },
     "output_type": "display_data"
    }
   ],
   "source": [
    "plt.plot(k_range, Scores, 'o-')\n",
    "plt.xlabel('k')\n",
    "plt.ylabel('Scores')\n",
    "plt.show()"
   ]
  },
  {
   "cell_type": "code",
   "execution_count": null,
   "metadata": {},
   "outputs": [],
   "source": []
  },
  {
   "cell_type": "code",
   "execution_count": 50,
   "metadata": {},
   "outputs": [],
   "source": [
    "inertias = []  # 存放每个簇族对应的簇内平方和\n",
    "k_range = range(2, 10)\n",
    "for k in k_range:\n",
    "    estimator = KMeans(n_clusters=k)  # 构造聚类器\n",
    "    estimator.fit(X_)\n",
    "    inertias.append(estimator.inertia_)"
   ]
  },
  {
   "cell_type": "code",
   "execution_count": 51,
   "metadata": {},
   "outputs": [
    {
     "data": {
      "image/png": "[encoded data removed]",
      "text/plain": [
       "<Figure size 432x288 with 1 Axes>"
      ]
     },
     "metadata": {
      "needs_background": "light"
     },
     "output_type": "display_data"
    }
   ],
   "source": [
    "plt.plot(k_range, inertias, 'o-')\n",
    "plt.xlabel('k')\n",
    "plt.ylabel('inertias')\n",
    "plt.show()"
   ]
  },
  {
   "cell_type": "code",
   "execution_count": 52,
   "metadata": {},
   "outputs": [],
   "source": [
    "Scores = []  # 轮廓系数\n",
    "k_range = range(2, 10)\n",
    "for k in k_range:\n",
    "    estimator = KMeans(n_clusters=k)  # 构造聚类器\n",
    "    estimator.fit(X_)\n",
    "    Scores.append(silhouette_score(X_, estimator.labels_, metric='euclidean'))"
   ]
  },
  {
   "cell_type": "code",
   "execution_count": 53,
   "metadata": {},
   "outputs": [
    {
     "data": {
      "image/png": "[encoded data removed]",
      "text/plain": [
       "<Figure size 432x288 with 1 Axes>"
      ]
     },
     "metadata": {
      "needs_background": "light"
     },
     "output_type": "display_data"
    }
   ],
   "source": [
    "plt.plot(k_range, Scores, 'o-')\n",
    "plt.xlabel('k')\n",
    "plt.ylabel('Scores')\n",
    "plt.show()"
   ]
  },
  {
   "cell_type": "code",
   "execution_count": null,
   "metadata": {},
   "outputs": [],
   "source": []
  },
  {
   "cell_type": "code",
   "execution_count": 61,
   "metadata": {},
   "outputs": [],
   "source": [
    "inertias = []  # 存放每个簇族对应的簇内平方和\n",
    "k_range = range(2, 10)\n",
    "for k in k_range:\n",
    "    estimator = KMeans(n_clusters=k)  # 构造聚类器\n",
    "    estimator.fit(Xd)\n",
    "    inertias.append(estimator.inertia_)"
   ]
  },
  {
   "cell_type": "code",
   "execution_count": 62,
   "metadata": {},
   "outputs": [
    {
     "data": {
      "image/png": "[encoded data removed]",
      "text/plain": [
       "<Figure size 432x288 with 1 Axes>"
      ]
     },
     "metadata": {
      "needs_background": "light"
     },
     "output_type": "display_data"
    }
   ],
   "source": [
    "plt.plot(k_range, inertias, 'o-')\n",
    "plt.xlabel('k')\n",
    "plt.ylabel('inertias')\n",
    "plt.show()"
   ]
  },
  {
   "cell_type": "code",
   "execution_count": 63,
   "metadata": {},
   "outputs": [],
   "source": [
    "Scores = []  # 轮廓系数\n",
    "k_range = range(2, 10)\n",
    "for k in k_range:\n",
    "    estimator = KMeans(n_clusters=k)  # 构造聚类器\n",
    "    estimator.fit(Xd)\n",
    "    Scores.append(silhouette_score(Xd, estimator.labels_, metric='euclidean'))"
   ]
  },
  {
   "cell_type": "code",
   "execution_count": 64,
   "metadata": {},
   "outputs": [
    {
     "data": {
      "image/png": "[encoded data removed]",
      "text/plain": [
       "<Figure size 432x288 with 1 Axes>"
      ]
     },
     "metadata": {
      "needs_background": "light"
     },
     "output_type": "display_data"
    }
   ],
   "source": [
    "plt.plot(k_range, Scores, 'o-')\n",
    "plt.xlabel('k')\n",
    "plt.ylabel('Scores')\n",
    "plt.show()"
   ]
  },
  {
   "cell_type": "code",
   "execution_count": null,
   "metadata": {},
   "outputs": [],
   "source": []
  }
 ],
 "metadata": {
  "interpreter": {
   "hash": "13111f494e6ebc1524ade641c93be0c72e955777feacba29664e4dc2ee24faea"
  },
  "kernelspec": {
   "display_name": "Python 3 (ipykernel)",
   "language": "python",
   "name": "python3"
  },
  "language_info": {
   "codemirror_mode": {
    "name": "ipython",
    "version": 3
   },
   "file_extension": ".py",
   "mimetype": "text/x-python",
   "name": "python",
   "nbconvert_exporter": "python",
   "pygments_lexer": "ipython3",
   "version": "3.8.12"
  }
 },
 "nbformat": 4,
 "nbformat_minor": 2
}
