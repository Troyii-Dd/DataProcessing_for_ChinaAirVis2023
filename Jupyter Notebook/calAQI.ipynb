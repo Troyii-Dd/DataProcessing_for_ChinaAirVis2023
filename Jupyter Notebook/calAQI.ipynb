{
 "cells": [
  {
   "cell_type": "code",
   "execution_count": 1,
   "id": "05eccc90",
   "metadata": {},
   "outputs": [],
   "source": [
    "import pandas as pd\n",
    "import numpy as np"
   ]
  },
  {
   "cell_type": "code",
   "execution_count": 2,
   "id": "46aa7986",
   "metadata": {},
   "outputs": [],
   "source": [
    "# df1 = pd.read_csv('./data-temp/hourly.csv', encoding='utf-8')\n",
    "df2 = pd.read_csv('./data-temp/daily.csv', encoding='utf-8')\n",
    "# df3 = pd.read_csv('./data-temp/monthly.csv', encoding='utf-8')\n",
    "# df4 = pd.read_csv('./data-temp/yearly.csv', encoding='utf-8')"
   ]
  },
  {
   "cell_type": "code",
   "execution_count": 3,
   "id": "c00242a7",
   "metadata": {},
   "outputs": [],
   "source": [
    "# df1.drop(df1.columns[[0]], axis=1, inplace=True)\n",
    "df2.drop(df2.columns[[0]], axis=1, inplace=True)\n",
    "# df3.drop(df3.columns[[0]], axis=1, inplace=True)\n",
    "# df4.drop(df4.columns[[0]], axis=1, inplace=True)"
   ]
  },
  {
   "cell_type": "code",
   "execution_count": 4,
   "id": "00145d7d",
   "metadata": {},
   "outputs": [],
   "source": [
    "df2.drop(['U','V','temp','rh','psfc'], axis='columns', inplace=True)"
   ]
  },
  {
   "cell_type": "code",
   "execution_count": 5,
   "id": "cd69d40b",
   "metadata": {},
   "outputs": [],
   "source": [
    "pm25 = df2['pm2.5'].values.tolist()\n",
    "pm10 = df2['pm10'].values.tolist()\n",
    "so2 = df2['so2'].values.tolist()\n",
    "no2 = df2['no2'].values.tolist()\n",
    "co = df2['co'].values.tolist()\n",
    "o3 = df2['o3'].values.tolist()"
   ]
  },
  {
   "cell_type": "code",
   "execution_count": 6,
   "id": "a5117151",
   "metadata": {},
   "outputs": [],
   "source": [
    "key_list = ['pm2.5','pm10','so2','no2','co','o3']\n",
    "value_list = [pm25,pm10,so2,no2,co,o3]\n",
    "dict1 = dict(zip(key_list,value_list))"
   ]
  },
  {
   "cell_type": "code",
   "execution_count": 7,
   "id": "3d8046ea",
   "metadata": {},
   "outputs": [],
   "source": [
    "data1 = np.array([[dict1]])"
   ]
  },
  {
   "cell_type": "markdown",
   "id": "ab022460",
   "metadata": {},
   "source": [
    "```\n",
    "data = pd.read_json(\"./data-temp/data4.json\")\n",
    "data1 = data.values\n",
    "```"
   ]
  },
  {
   "cell_type": "code",
   "execution_count": 8,
   "id": "952240ce",
   "metadata": {},
   "outputs": [
    {
     "name": "stdout",
     "output_type": "stream",
     "text": [
      "dict_keys(['pm2.5', 'pm10', 'so2', 'no2', 'co', 'o3'])\n"
     ]
    }
   ],
   "source": [
    "print((data1[0][0]).keys())"
   ]
  },
  {
   "cell_type": "markdown",
   "id": "4faa8766",
   "metadata": {},
   "source": [
    "```\n",
    "Idata = [\n",
    "    [0, 35, 75, 115, 150, 250, 350, 500],  # PM2.5 24小时平均\n",
    "    [0, 50, 150, 250, 350, 420, 500, 600],  # PM10 24小时平均\n",
    "    [0, 150, 500, 650, 800],  # SO2 1小时平均\n",
    "    [0, 100, 200, 700, 1200, 2340, 3090, 3840],  # NO2 1小时平均\n",
    "    [0, 5, 10, 35, 60, 90, 120, 150],  # CO 1小时平均\n",
    "    [0, 160, 200, 300, 400, 800, 1000, 1200]  # O3 1小时平均\n",
    "]\n",
    "```"
   ]
  },
  {
   "cell_type": "code",
   "execution_count": 9,
   "id": "54ee38df",
   "metadata": {},
   "outputs": [],
   "source": [
    "Idata = [\n",
    "        [0, 35, 75, 115, 150, 250, 350, 500],  # PM2.5 24小时平均\n",
    "        [0, 50, 150, 250, 350, 420, 500, 600],  # PM10 24小时平均\n",
    "        [0, 50, 150, 475, 800, 1600, 2100, 2620],  # SO2 24小时平均\n",
    "        [0, 40, 80, 180, 280, 565, 750, 940],  # NO2 24小时平均\n",
    "        [0, 2, 4, 14, 24, 36, 48, 60],  # CO 24小时平均\n",
    "        [0, 100, 160, 215, 265, 800]  # O3 8小时滑动平均\n",
    "    ]"
   ]
  },
  {
   "cell_type": "code",
   "execution_count": 10,
   "id": "ac418c65",
   "metadata": {},
   "outputs": [],
   "source": [
    "qua = [0, 50, 100, 150, 200, 300, 400, 500]"
   ]
  },
  {
   "cell_type": "code",
   "execution_count": 11,
   "id": "e90d7f95",
   "metadata": {},
   "outputs": [],
   "source": [
    "# pri_pol = ['pm2.5','pm10','so2','no2','co','o3']"
   ]
  },
  {
   "cell_type": "code",
   "execution_count": 12,
   "id": "34b7400e",
   "metadata": {},
   "outputs": [],
   "source": [
    "IAQI = list(np.zeros(len(data1[0][0][\"pm2.5\"])))\n",
    "# Pri_pol = list(np.zeros(len(data1[0][0][\"pm2.5\"])))"
   ]
  },
  {
   "cell_type": "code",
   "execution_count": 13,
   "id": "db555c89",
   "metadata": {},
   "outputs": [],
   "source": [
    "Data = np.array(\n",
    "        [data1[0][0][\"pm2.5\"], data1[0][0][\"pm10\"], data1[0][0][\"so2\"], data1[0][0][\"no2\"], data1[0][0][\"co\"],\n",
    "         data1[0][0][\"o3\"]])\n",
    "Data = list(map(list,zip(*Data)))\n",
    "Data = np.array(Data)"
   ]
  },
  {
   "cell_type": "code",
   "execution_count": 14,
   "id": "58838cae",
   "metadata": {},
   "outputs": [
    {
     "data": {
      "text/plain": [
       "array([[ 73.7684    , 105.4068    ,  42.5336    ,  69.2464    ,\n",
       "          1.592     ,  16.1672    ],\n",
       "       [ 25.52175926,  27.57833333,   8.96888889,   2.09990741,\n",
       "          0.29416667,  62.82925926],\n",
       "       [ 10.34898876,  11.54505618,   4.18876404,   2.73494382,\n",
       "          0.18921348,  65.88898876],\n",
       "       ...,\n",
       "       [  5.0925    ,   6.45544118,   2.56426471,   4.08735294,\n",
       "          0.28426471,  53.04720588],\n",
       "       [  3.95382445,   5.4768652 ,   1.94413793,   3.11109718,\n",
       "          0.27272727,  51.31260188],\n",
       "       [ 22.55527638,  26.40175879,   6.89708543,   7.51145729,\n",
       "          0.42261307,  44.79      ]])"
      ]
     },
     "execution_count": 14,
     "metadata": {},
     "output_type": "execute_result"
    }
   ],
   "source": [
    "Data"
   ]
  },
  {
   "cell_type": "code",
   "execution_count": 15,
   "id": "8909f1e2",
   "metadata": {},
   "outputs": [],
   "source": [
    "T_IA = 0\n",
    "i = j = k = 0\n",
    "for i in range(len(Idata)):\n",
    "    T_data = Data[:, i]\n",
    "    T_Idata = Idata[i]\n",
    "    for j in range(len(T_data)):\n",
    "        for k in range(1, len(T_Idata)):\n",
    "            if T_Idata[k] > T_data[j]:\n",
    "                break\n",
    "        if k == (len(T_Idata)-1) and T_Idata[k] < T_data[j]:\n",
    "            T_IA = T_Idata[k]\n",
    "        else:\n",
    "            T_IA = int(round((((qua[k]-qua[k-1]) / (T_Idata[k]-T_Idata[k-1])) * (\n",
    "                    T_data[j]-T_Idata[k-1]) + qua[k-1]) + 0.5))\n",
    "        if T_IA > IAQI[j]:\n",
    "            IAQI[j] = T_IA\n",
    "            # Pri_pol[j] = pri_pol[i]  # “首要污染物”\n",
    "data1[0][0][\"AQI\"] = IAQI\n",
    "# data1[0][0][\"Pri_pol\"] = Pri_pol"
   ]
  },
  {
   "cell_type": "code",
   "execution_count": 16,
   "id": "59a811cc",
   "metadata": {},
   "outputs": [],
   "source": [
    "# data = [data1[0][0][\"AQI\"],data1[0][0][\"Pri_pol\"]]\n",
    "data = data1[0][0][\"AQI\"]\n",
    "df_temp = pd.DataFrame(data).T\n",
    "# df_temp.columns = ['AQI','Pri_pol']\n",
    "df_temp.columns = ['AQI']\n",
    "df_temp['AQI'] = df_temp['AQI'].astype('int')"
   ]
  },
  {
   "cell_type": "code",
   "execution_count": 17,
   "id": "a04993db",
   "metadata": {},
   "outputs": [],
   "source": [
    "df2['AQI'] = df_temp['AQI']\n",
    "# df2['Pri_pol'] = df_temp['Pri_pol']"
   ]
  },
  {
   "cell_type": "code",
   "execution_count": 19,
   "id": "6c6a8ec6",
   "metadata": {},
   "outputs": [],
   "source": [
    "Lv = list()\n",
    "for i in df2['AQI']:\n",
    "    if i > 300:\n",
    "        Lv.append('六级')\n",
    "    elif i > 200:\n",
    "        Lv.append('五级')\n",
    "    elif i > 150:\n",
    "        Lv.append('四级')\n",
    "    elif i > 100:\n",
    "        Lv.append('三级')\n",
    "    elif i > 50:\n",
    "        Lv.append('二级')\n",
    "    else:\n",
    "        Lv.append('一级')"
   ]
  },
  {
   "cell_type": "code",
   "execution_count": 20,
   "id": "6ba4d8d8",
   "metadata": {},
   "outputs": [],
   "source": [
    "df2['Lv'] = pd.DataFrame(Lv)"
   ]
  },
  {
   "cell_type": "code",
   "execution_count": null,
   "id": "7e5493c9",
   "metadata": {},
   "outputs": [],
   "source": [
    "df2.head()"
   ]
  },
  {
   "cell_type": "code",
   "execution_count": null,
   "id": "88137369",
   "metadata": {},
   "outputs": [],
   "source": [
    "df2.info()"
   ]
  },
  {
   "cell_type": "code",
   "execution_count": 23,
   "id": "26e9e204",
   "metadata": {},
   "outputs": [],
   "source": [
    "df2.to_csv('AQI_daily.csv', encoding='utf-8-sig')"
   ]
  },
  {
   "cell_type": "code",
   "execution_count": null,
   "id": "f13fb9a2",
   "metadata": {},
   "outputs": [],
   "source": []
  },
  {
   "cell_type": "code",
   "execution_count": null,
   "id": "f2e82303",
   "metadata": {},
   "outputs": [],
   "source": []
  },
  {
   "cell_type": "code",
   "execution_count": null,
   "id": "943cf7e3",
   "metadata": {},
   "outputs": [],
   "source": [
    "ar = np.arange(16).reshape(2,8)\n",
    "ar"
   ]
  },
  {
   "cell_type": "code",
   "execution_count": null,
   "id": "05db290e",
   "metadata": {},
   "outputs": [],
   "source": [
    "ar1 = ar.reshape(8,2)\n",
    "ar1"
   ]
  },
  {
   "cell_type": "code",
   "execution_count": null,
   "id": "74831194",
   "metadata": {},
   "outputs": [],
   "source": []
  },
  {
   "cell_type": "code",
   "execution_count": null,
   "id": "6c0a5edd",
   "metadata": {},
   "outputs": [],
   "source": [
    "arr = [[1,2,3,4],[5,6,7,8],[9,10,11,12]]\n",
    "arr"
   ]
  },
  {
   "cell_type": "code",
   "execution_count": null,
   "id": "2a0b1059",
   "metadata": {},
   "outputs": [],
   "source": [
    "ar2 =[]\n",
    "for i in range(len(arr[0])):\n",
    "    b =[]\n",
    "    for j in range(len(arr)):\n",
    "        b.append(arr[j][i])\n",
    "    ar2.append(b)\n",
    "print(ar2)"
   ]
  },
  {
   "cell_type": "code",
   "execution_count": null,
   "id": "4a588a8d",
   "metadata": {},
   "outputs": [],
   "source": [
    "ar2 = list(map(list,zip(*arr)))\n",
    "print(ar2)"
   ]
  },
  {
   "cell_type": "code",
   "execution_count": null,
   "id": "8879bda1",
   "metadata": {},
   "outputs": [],
   "source": [
    "ar2 = [ [row[i] for row in arr] for i in range(len(arr[0])) ]\n",
    "print(ar2)"
   ]
  },
  {
   "cell_type": "code",
   "execution_count": null,
   "id": "9dc1d6ac",
   "metadata": {},
   "outputs": [],
   "source": []
  }
 ],
 "metadata": {
  "kernelspec": {
   "display_name": "Python [conda env:Python3_8] *",
   "language": "python",
   "name": "conda-env-Python3_8-py"
  },
  "language_info": {
   "codemirror_mode": {
    "name": "ipython",
    "version": 3
   },
   "file_extension": ".py",
   "mimetype": "text/x-python",
   "name": "python",
   "nbconvert_exporter": "python",
   "pygments_lexer": "ipython3",
   "version": "3.8.12"
  }
 },
 "nbformat": 4,
 "nbformat_minor": 5
}
