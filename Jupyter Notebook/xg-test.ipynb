{
 "cells": [
  {
   "cell_type": "code",
   "execution_count": 2,
   "id": "90170913",
   "metadata": {},
   "outputs": [],
   "source": [
    "import xgboost as xgb"
   ]
  },
  {
   "cell_type": "code",
   "execution_count": 3,
   "id": "fba1f502",
   "metadata": {},
   "outputs": [],
   "source": [
    "# 创建特征矩阵和标签向量\n",
    "X = [[1, 2], [3, 4], [5, 6]]\n",
    "y = [1, 0, 1]"
   ]
  },
  {
   "cell_type": "code",
   "execution_count": 4,
   "id": "b0fd3c2d",
   "metadata": {},
   "outputs": [
    {
     "data": {
      "text/plain": [
       "<xgboost.core.DMatrix at 0x2ac560182b0>"
      ]
     },
     "execution_count": 4,
     "metadata": {},
     "output_type": "execute_result"
    }
   ],
   "source": [
    "# 将特征矩阵和标签向量转换为DMatrix格式\n",
    "dtrain = xgb.DMatrix(X, label=y)\n",
    "dtrain"
   ]
  },
  {
   "cell_type": "code",
   "execution_count": 5,
   "id": "f545af1b",
   "metadata": {},
   "outputs": [],
   "source": [
    "# 使用DMatrix训练模型\n",
    "params = {'objective': 'binary:logistic', 'max_depth': 2}\n",
    "model = xgb.train(params, dtrain)"
   ]
  },
  {
   "cell_type": "code",
   "execution_count": 9,
   "id": "3b6210a2",
   "metadata": {},
   "outputs": [],
   "source": [
    "dtest = xgb.DMatrix([[7, 8]])\n",
    "predictions = model.predict(dtest)"
   ]
  },
  {
   "cell_type": "code",
   "execution_count": 10,
   "id": "e2b01f81",
   "metadata": {},
   "outputs": [
    {
     "data": {
      "text/plain": [
       "array([0.5], dtype=float32)"
      ]
     },
     "execution_count": 10,
     "metadata": {},
     "output_type": "execute_result"
    }
   ],
   "source": [
    "predictions"
   ]
  },
  {
   "cell_type": "code",
   "execution_count": null,
   "id": "e0ebef75",
   "metadata": {},
   "outputs": [],
   "source": []
  }
 ],
 "metadata": {
  "kernelspec": {
   "display_name": "Python [conda env:Python3_8] *",
   "language": "python",
   "name": "conda-env-Python3_8-py"
  },
  "language_info": {
   "codemirror_mode": {
    "name": "ipython",
    "version": 3
   },
   "file_extension": ".py",
   "mimetype": "text/x-python",
   "name": "python",
   "nbconvert_exporter": "python",
   "pygments_lexer": "ipython3",
   "version": "3.8.12"
  }
 },
 "nbformat": 4,
 "nbformat_minor": 5
}
