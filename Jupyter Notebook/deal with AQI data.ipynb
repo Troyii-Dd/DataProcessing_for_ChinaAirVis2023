{
 "cells": [
  {
   "cell_type": "code",
   "execution_count": 1,
   "id": "99a72e78",
   "metadata": {},
   "outputs": [],
   "source": [
    "import pandas as pd\n",
    "pd.set_option('display.max_rows', 5)"
   ]
  },
  {
   "cell_type": "code",
   "execution_count": 2,
   "id": "fc7b2e42",
   "metadata": {},
   "outputs": [],
   "source": [
    "loc = pd.read_csv('./data-temp/CN-Reanalysis-daily-2013010100.csv', encoding='utf-8')\n",
    "df = pd.read_csv('./data-temp/AQI_daily.csv', encoding='utf-8')"
   ]
  },
  {
   "cell_type": "code",
   "execution_count": 4,
   "id": "de7de4ce",
   "metadata": {},
   "outputs": [],
   "source": [
    "loc.drop(loc.columns[[2,3,4,5,6,7,8,9,10,11,12]], axis=1, inplace=True)"
   ]
  },
  {
   "cell_type": "code",
   "execution_count": 5,
   "id": "c5e79a50",
   "metadata": {},
   "outputs": [],
   "source": [
    "loc = loc.loc[~loc['province'].str.contains('台湾')]"
   ]
  },
  {
   "cell_type": "code",
   "execution_count": 8,
   "id": "aaefe6c2",
   "metadata": {},
   "outputs": [],
   "source": [
    "loc.reset_index(inplace=True)"
   ]
  },
  {
   "cell_type": "code",
   "execution_count": 9,
   "id": "64725833",
   "metadata": {},
   "outputs": [
    {
     "data": {
      "text/html": [
       "<div>\n",
       "<style scoped>\n",
       "    .dataframe tbody tr th:only-of-type {\n",
       "        vertical-align: middle;\n",
       "    }\n",
       "\n",
       "    .dataframe tbody tr th {\n",
       "        vertical-align: top;\n",
       "    }\n",
       "\n",
       "    .dataframe thead th {\n",
       "        text-align: right;\n",
       "    }\n",
       "</style>\n",
       "<table border=\"1\" class=\"dataframe\">\n",
       "  <thead>\n",
       "    <tr style=\"text-align: right;\">\n",
       "      <th></th>\n",
       "      <th>index</th>\n",
       "      <th>province</th>\n",
       "      <th>city</th>\n",
       "      <th>lat</th>\n",
       "      <th>lon</th>\n",
       "    </tr>\n",
       "  </thead>\n",
       "  <tbody>\n",
       "    <tr>\n",
       "      <th>0</th>\n",
       "      <td>0</td>\n",
       "      <td>上海市</td>\n",
       "      <td>上海市</td>\n",
       "      <td>31.172800</td>\n",
       "      <td>121.420000</td>\n",
       "    </tr>\n",
       "    <tr>\n",
       "      <th>1</th>\n",
       "      <td>1</td>\n",
       "      <td>云南省</td>\n",
       "      <td>临沧市</td>\n",
       "      <td>23.934907</td>\n",
       "      <td>99.685833</td>\n",
       "    </tr>\n",
       "    <tr>\n",
       "      <th>...</th>\n",
       "      <td>...</td>\n",
       "      <td>...</td>\n",
       "      <td>...</td>\n",
       "      <td>...</td>\n",
       "      <td>...</td>\n",
       "    </tr>\n",
       "    <tr>\n",
       "      <th>367</th>\n",
       "      <td>368</td>\n",
       "      <td>黑龙江省</td>\n",
       "      <td>黑河市</td>\n",
       "      <td>49.267994</td>\n",
       "      <td>127.004389</td>\n",
       "    </tr>\n",
       "    <tr>\n",
       "      <th>368</th>\n",
       "      <td>369</td>\n",
       "      <td>黑龙江省</td>\n",
       "      <td>齐齐哈尔市</td>\n",
       "      <td>47.715327</td>\n",
       "      <td>124.570302</td>\n",
       "    </tr>\n",
       "  </tbody>\n",
       "</table>\n",
       "<p>369 rows × 5 columns</p>\n",
       "</div>"
      ],
      "text/plain": [
       "     index province   city        lat         lon\n",
       "0        0      上海市    上海市  31.172800  121.420000\n",
       "1        1      云南省    临沧市  23.934907   99.685833\n",
       "..     ...      ...    ...        ...         ...\n",
       "367    368     黑龙江省    黑河市  49.267994  127.004389\n",
       "368    369     黑龙江省  齐齐哈尔市  47.715327  124.570302\n",
       "\n",
       "[369 rows x 5 columns]"
      ]
     },
     "execution_count": 9,
     "metadata": {},
     "output_type": "execute_result"
    }
   ],
   "source": [
    "loc"
   ]
  },
  {
   "cell_type": "code",
   "execution_count": 11,
   "id": "9b7ae93f",
   "metadata": {},
   "outputs": [],
   "source": [
    "df.drop(df.columns[[2,3,4,5,6,7,10]], axis=1, inplace=True)\n",
    "df['date'] = pd.to_datetime(df['date'])"
   ]
  },
  {
   "cell_type": "code",
   "execution_count": 12,
   "id": "7c70ee23",
   "metadata": {},
   "outputs": [
    {
     "data": {
      "text/html": [
       "<div>\n",
       "<style scoped>\n",
       "    .dataframe tbody tr th:only-of-type {\n",
       "        vertical-align: middle;\n",
       "    }\n",
       "\n",
       "    .dataframe tbody tr th {\n",
       "        vertical-align: top;\n",
       "    }\n",
       "\n",
       "    .dataframe thead th {\n",
       "        text-align: right;\n",
       "    }\n",
       "</style>\n",
       "<table border=\"1\" class=\"dataframe\">\n",
       "  <thead>\n",
       "    <tr style=\"text-align: right;\">\n",
       "      <th></th>\n",
       "      <th>province</th>\n",
       "      <th>city</th>\n",
       "      <th>date</th>\n",
       "      <th>AQI</th>\n",
       "    </tr>\n",
       "  </thead>\n",
       "  <tbody>\n",
       "    <tr>\n",
       "      <th>0</th>\n",
       "      <td>上海市</td>\n",
       "      <td>上海市</td>\n",
       "      <td>2013-01-01</td>\n",
       "      <td>99</td>\n",
       "    </tr>\n",
       "    <tr>\n",
       "      <th>1</th>\n",
       "      <td>云南省</td>\n",
       "      <td>临沧市</td>\n",
       "      <td>2013-01-01</td>\n",
       "      <td>37</td>\n",
       "    </tr>\n",
       "    <tr>\n",
       "      <th>...</th>\n",
       "      <td>...</td>\n",
       "      <td>...</td>\n",
       "      <td>...</td>\n",
       "      <td>...</td>\n",
       "    </tr>\n",
       "    <tr>\n",
       "      <th>808477</th>\n",
       "      <td>黑龙江省</td>\n",
       "      <td>黑河市</td>\n",
       "      <td>2018-12-31</td>\n",
       "      <td>26</td>\n",
       "    </tr>\n",
       "    <tr>\n",
       "      <th>808478</th>\n",
       "      <td>黑龙江省</td>\n",
       "      <td>齐齐哈尔市</td>\n",
       "      <td>2018-12-31</td>\n",
       "      <td>33</td>\n",
       "    </tr>\n",
       "  </tbody>\n",
       "</table>\n",
       "<p>808479 rows × 4 columns</p>\n",
       "</div>"
      ],
      "text/plain": [
       "       province   city       date  AQI\n",
       "0           上海市    上海市 2013-01-01   99\n",
       "1           云南省    临沧市 2013-01-01   37\n",
       "...         ...    ...        ...  ...\n",
       "808477     黑龙江省    黑河市 2018-12-31   26\n",
       "808478     黑龙江省  齐齐哈尔市 2018-12-31   33\n",
       "\n",
       "[808479 rows x 4 columns]"
      ]
     },
     "execution_count": 12,
     "metadata": {},
     "output_type": "execute_result"
    }
   ],
   "source": [
    "df"
   ]
  },
  {
   "cell_type": "code",
   "execution_count": 13,
   "id": "53cf8e5d",
   "metadata": {},
   "outputs": [],
   "source": [
    "lat = loc['lat']"
   ]
  },
  {
   "cell_type": "code",
   "execution_count": 14,
   "id": "80083e84",
   "metadata": {},
   "outputs": [
    {
     "data": {
      "text/plain": [
       "31.1728"
      ]
     },
     "execution_count": 14,
     "metadata": {},
     "output_type": "execute_result"
    }
   ],
   "source": [
    "lat[0]"
   ]
  },
  {
   "cell_type": "code",
   "execution_count": 15,
   "id": "89d98e26",
   "metadata": {},
   "outputs": [],
   "source": [
    "# day: 2191\n",
    "lat_all = list()\n",
    "for i in range(2191):\n",
    "    for j in range(369):\n",
    "        lat_all.append(lat[j])"
   ]
  },
  {
   "cell_type": "code",
   "execution_count": 17,
   "id": "feb46fb2",
   "metadata": {},
   "outputs": [],
   "source": [
    "df['lat'] = lat_all"
   ]
  },
  {
   "cell_type": "code",
   "execution_count": 19,
   "id": "b1afb1db",
   "metadata": {},
   "outputs": [],
   "source": [
    "lon = loc['lon']\n",
    "lon_all = list()\n",
    "for i in range(2191):\n",
    "    for j in range(369):\n",
    "        lon_all.append(lon[j])\n",
    "df['lon'] = lon_all"
   ]
  },
  {
   "cell_type": "code",
   "execution_count": 20,
   "id": "f864c563",
   "metadata": {},
   "outputs": [
    {
     "data": {
      "text/html": [
       "<div>\n",
       "<style scoped>\n",
       "    .dataframe tbody tr th:only-of-type {\n",
       "        vertical-align: middle;\n",
       "    }\n",
       "\n",
       "    .dataframe tbody tr th {\n",
       "        vertical-align: top;\n",
       "    }\n",
       "\n",
       "    .dataframe thead th {\n",
       "        text-align: right;\n",
       "    }\n",
       "</style>\n",
       "<table border=\"1\" class=\"dataframe\">\n",
       "  <thead>\n",
       "    <tr style=\"text-align: right;\">\n",
       "      <th></th>\n",
       "      <th>province</th>\n",
       "      <th>city</th>\n",
       "      <th>date</th>\n",
       "      <th>AQI</th>\n",
       "      <th>lat</th>\n",
       "      <th>lon</th>\n",
       "    </tr>\n",
       "  </thead>\n",
       "  <tbody>\n",
       "    <tr>\n",
       "      <th>0</th>\n",
       "      <td>上海市</td>\n",
       "      <td>上海市</td>\n",
       "      <td>2013-01-01</td>\n",
       "      <td>99</td>\n",
       "      <td>31.172800</td>\n",
       "      <td>121.420000</td>\n",
       "    </tr>\n",
       "    <tr>\n",
       "      <th>1</th>\n",
       "      <td>云南省</td>\n",
       "      <td>临沧市</td>\n",
       "      <td>2013-01-01</td>\n",
       "      <td>37</td>\n",
       "      <td>23.934907</td>\n",
       "      <td>99.685833</td>\n",
       "    </tr>\n",
       "    <tr>\n",
       "      <th>...</th>\n",
       "      <td>...</td>\n",
       "      <td>...</td>\n",
       "      <td>...</td>\n",
       "      <td>...</td>\n",
       "      <td>...</td>\n",
       "      <td>...</td>\n",
       "    </tr>\n",
       "    <tr>\n",
       "      <th>808477</th>\n",
       "      <td>黑龙江省</td>\n",
       "      <td>黑河市</td>\n",
       "      <td>2018-12-31</td>\n",
       "      <td>26</td>\n",
       "      <td>49.267994</td>\n",
       "      <td>127.004389</td>\n",
       "    </tr>\n",
       "    <tr>\n",
       "      <th>808478</th>\n",
       "      <td>黑龙江省</td>\n",
       "      <td>齐齐哈尔市</td>\n",
       "      <td>2018-12-31</td>\n",
       "      <td>33</td>\n",
       "      <td>47.715327</td>\n",
       "      <td>124.570302</td>\n",
       "    </tr>\n",
       "  </tbody>\n",
       "</table>\n",
       "<p>808479 rows × 6 columns</p>\n",
       "</div>"
      ],
      "text/plain": [
       "       province   city       date  AQI        lat         lon\n",
       "0           上海市    上海市 2013-01-01   99  31.172800  121.420000\n",
       "1           云南省    临沧市 2013-01-01   37  23.934907   99.685833\n",
       "...         ...    ...        ...  ...        ...         ...\n",
       "808477     黑龙江省    黑河市 2018-12-31   26  49.267994  127.004389\n",
       "808478     黑龙江省  齐齐哈尔市 2018-12-31   33  47.715327  124.570302\n",
       "\n",
       "[808479 rows x 6 columns]"
      ]
     },
     "execution_count": 20,
     "metadata": {},
     "output_type": "execute_result"
    }
   ],
   "source": [
    "df"
   ]
  },
  {
   "cell_type": "code",
   "execution_count": 21,
   "id": "8df88cb5",
   "metadata": {},
   "outputs": [],
   "source": [
    "df.to_csv('temp.csv', encoding='utf-8-sig', index=False)"
   ]
  },
  {
   "cell_type": "code",
   "execution_count": 9,
   "id": "149811f0",
   "metadata": {},
   "outputs": [],
   "source": [
    "df = pd.read_csv('temp.csv', encoding='utf-8')"
   ]
  },
  {
   "cell_type": "code",
   "execution_count": 10,
   "id": "b571ffcb",
   "metadata": {},
   "outputs": [
    {
     "data": {
      "text/html": [
       "<div>\n",
       "<style scoped>\n",
       "    .dataframe tbody tr th:only-of-type {\n",
       "        vertical-align: middle;\n",
       "    }\n",
       "\n",
       "    .dataframe tbody tr th {\n",
       "        vertical-align: top;\n",
       "    }\n",
       "\n",
       "    .dataframe thead th {\n",
       "        text-align: right;\n",
       "    }\n",
       "</style>\n",
       "<table border=\"1\" class=\"dataframe\">\n",
       "  <thead>\n",
       "    <tr style=\"text-align: right;\">\n",
       "      <th></th>\n",
       "      <th>province</th>\n",
       "      <th>city</th>\n",
       "      <th>date</th>\n",
       "      <th>AQI</th>\n",
       "      <th>lat</th>\n",
       "      <th>lon</th>\n",
       "    </tr>\n",
       "  </thead>\n",
       "  <tbody>\n",
       "    <tr>\n",
       "      <th>0</th>\n",
       "      <td>上海市</td>\n",
       "      <td>上海市</td>\n",
       "      <td>2013-01-01</td>\n",
       "      <td>99</td>\n",
       "      <td>31.172800</td>\n",
       "      <td>121.420000</td>\n",
       "    </tr>\n",
       "    <tr>\n",
       "      <th>1</th>\n",
       "      <td>云南省</td>\n",
       "      <td>临沧市</td>\n",
       "      <td>2013-01-01</td>\n",
       "      <td>37</td>\n",
       "      <td>23.934907</td>\n",
       "      <td>99.685833</td>\n",
       "    </tr>\n",
       "    <tr>\n",
       "      <th>...</th>\n",
       "      <td>...</td>\n",
       "      <td>...</td>\n",
       "      <td>...</td>\n",
       "      <td>...</td>\n",
       "      <td>...</td>\n",
       "      <td>...</td>\n",
       "    </tr>\n",
       "    <tr>\n",
       "      <th>808477</th>\n",
       "      <td>黑龙江省</td>\n",
       "      <td>黑河市</td>\n",
       "      <td>2018-12-31</td>\n",
       "      <td>26</td>\n",
       "      <td>49.267994</td>\n",
       "      <td>127.004389</td>\n",
       "    </tr>\n",
       "    <tr>\n",
       "      <th>808478</th>\n",
       "      <td>黑龙江省</td>\n",
       "      <td>齐齐哈尔市</td>\n",
       "      <td>2018-12-31</td>\n",
       "      <td>33</td>\n",
       "      <td>47.715327</td>\n",
       "      <td>124.570302</td>\n",
       "    </tr>\n",
       "  </tbody>\n",
       "</table>\n",
       "<p>808479 rows × 6 columns</p>\n",
       "</div>"
      ],
      "text/plain": [
       "       province   city        date  AQI        lat         lon\n",
       "0           上海市    上海市  2013-01-01   99  31.172800  121.420000\n",
       "1           云南省    临沧市  2013-01-01   37  23.934907   99.685833\n",
       "...         ...    ...         ...  ...        ...         ...\n",
       "808477     黑龙江省    黑河市  2018-12-31   26  49.267994  127.004389\n",
       "808478     黑龙江省  齐齐哈尔市  2018-12-31   33  47.715327  124.570302\n",
       "\n",
       "[808479 rows x 6 columns]"
      ]
     },
     "execution_count": 10,
     "metadata": {},
     "output_type": "execute_result"
    }
   ],
   "source": [
    "df"
   ]
  },
  {
   "cell_type": "code",
   "execution_count": 11,
   "id": "024d07f4",
   "metadata": {},
   "outputs": [
    {
     "name": "stdout",
     "output_type": "stream",
     "text": [
      "<class 'pandas.core.frame.DataFrame'>\n",
      "RangeIndex: 808479 entries, 0 to 808478\n",
      "Data columns (total 6 columns):\n",
      " #   Column    Non-Null Count   Dtype  \n",
      "---  ------    --------------   -----  \n",
      " 0   province  808479 non-null  object \n",
      " 1   city      808479 non-null  object \n",
      " 2   date      808479 non-null  object \n",
      " 3   AQI       808479 non-null  int64  \n",
      " 4   lat       808479 non-null  float64\n",
      " 5   lon       808479 non-null  float64\n",
      "dtypes: float64(2), int64(1), object(3)\n",
      "memory usage: 37.0+ MB\n"
     ]
    }
   ],
   "source": [
    "df.info()"
   ]
  },
  {
   "cell_type": "code",
   "execution_count": 12,
   "id": "6c91e179",
   "metadata": {},
   "outputs": [
    {
     "data": {
      "text/html": [
       "<div>\n",
       "<style scoped>\n",
       "    .dataframe tbody tr th:only-of-type {\n",
       "        vertical-align: middle;\n",
       "    }\n",
       "\n",
       "    .dataframe tbody tr th {\n",
       "        vertical-align: top;\n",
       "    }\n",
       "\n",
       "    .dataframe thead th {\n",
       "        text-align: right;\n",
       "    }\n",
       "</style>\n",
       "<table border=\"1\" class=\"dataframe\">\n",
       "  <thead>\n",
       "    <tr style=\"text-align: right;\">\n",
       "      <th></th>\n",
       "      <th>province</th>\n",
       "      <th>city</th>\n",
       "      <th>date</th>\n",
       "      <th>AQI</th>\n",
       "      <th>lat</th>\n",
       "      <th>lon</th>\n",
       "    </tr>\n",
       "  </thead>\n",
       "  <tbody>\n",
       "    <tr>\n",
       "      <th>0</th>\n",
       "      <td>上海市</td>\n",
       "      <td>上海市</td>\n",
       "      <td>2013-01-01</td>\n",
       "      <td>99</td>\n",
       "      <td>31.172800</td>\n",
       "      <td>121.420000</td>\n",
       "    </tr>\n",
       "    <tr>\n",
       "      <th>1</th>\n",
       "      <td>云南省</td>\n",
       "      <td>临沧市</td>\n",
       "      <td>2013-01-01</td>\n",
       "      <td>37</td>\n",
       "      <td>23.934907</td>\n",
       "      <td>99.685833</td>\n",
       "    </tr>\n",
       "    <tr>\n",
       "      <th>...</th>\n",
       "      <td>...</td>\n",
       "      <td>...</td>\n",
       "      <td>...</td>\n",
       "      <td>...</td>\n",
       "      <td>...</td>\n",
       "      <td>...</td>\n",
       "    </tr>\n",
       "    <tr>\n",
       "      <th>367</th>\n",
       "      <td>黑龙江省</td>\n",
       "      <td>黑河市</td>\n",
       "      <td>2013-01-01</td>\n",
       "      <td>27</td>\n",
       "      <td>49.267994</td>\n",
       "      <td>127.004389</td>\n",
       "    </tr>\n",
       "    <tr>\n",
       "      <th>368</th>\n",
       "      <td>黑龙江省</td>\n",
       "      <td>齐齐哈尔市</td>\n",
       "      <td>2013-01-01</td>\n",
       "      <td>26</td>\n",
       "      <td>47.715327</td>\n",
       "      <td>124.570302</td>\n",
       "    </tr>\n",
       "  </tbody>\n",
       "</table>\n",
       "<p>369 rows × 6 columns</p>\n",
       "</div>"
      ],
      "text/plain": [
       "    province   city        date  AQI        lat         lon\n",
       "0        上海市    上海市  2013-01-01   99  31.172800  121.420000\n",
       "1        云南省    临沧市  2013-01-01   37  23.934907   99.685833\n",
       "..       ...    ...         ...  ...        ...         ...\n",
       "367     黑龙江省    黑河市  2013-01-01   27  49.267994  127.004389\n",
       "368     黑龙江省  齐齐哈尔市  2013-01-01   26  47.715327  124.570302\n",
       "\n",
       "[369 rows x 6 columns]"
      ]
     },
     "execution_count": 12,
     "metadata": {},
     "output_type": "execute_result"
    }
   ],
   "source": [
    "# 拆分df\n",
    "temp1 = df.iloc[0: 369]\n",
    "temp1"
   ]
  },
  {
   "cell_type": "code",
   "execution_count": 13,
   "id": "5f17e5fa",
   "metadata": {},
   "outputs": [
    {
     "data": {
      "text/html": [
       "<div>\n",
       "<style scoped>\n",
       "    .dataframe tbody tr th:only-of-type {\n",
       "        vertical-align: middle;\n",
       "    }\n",
       "\n",
       "    .dataframe tbody tr th {\n",
       "        vertical-align: top;\n",
       "    }\n",
       "\n",
       "    .dataframe thead th {\n",
       "        text-align: right;\n",
       "    }\n",
       "</style>\n",
       "<table border=\"1\" class=\"dataframe\">\n",
       "  <thead>\n",
       "    <tr style=\"text-align: right;\">\n",
       "      <th></th>\n",
       "      <th>province</th>\n",
       "      <th>city</th>\n",
       "      <th>date</th>\n",
       "      <th>AQI</th>\n",
       "      <th>lat</th>\n",
       "      <th>lon</th>\n",
       "    </tr>\n",
       "  </thead>\n",
       "  <tbody>\n",
       "    <tr>\n",
       "      <th>369</th>\n",
       "      <td>上海市</td>\n",
       "      <td>上海市</td>\n",
       "      <td>2013-01-02</td>\n",
       "      <td>76</td>\n",
       "      <td>31.172800</td>\n",
       "      <td>121.420000</td>\n",
       "    </tr>\n",
       "    <tr>\n",
       "      <th>370</th>\n",
       "      <td>云南省</td>\n",
       "      <td>临沧市</td>\n",
       "      <td>2013-01-02</td>\n",
       "      <td>35</td>\n",
       "      <td>23.934907</td>\n",
       "      <td>99.685833</td>\n",
       "    </tr>\n",
       "    <tr>\n",
       "      <th>...</th>\n",
       "      <td>...</td>\n",
       "      <td>...</td>\n",
       "      <td>...</td>\n",
       "      <td>...</td>\n",
       "      <td>...</td>\n",
       "      <td>...</td>\n",
       "    </tr>\n",
       "    <tr>\n",
       "      <th>736</th>\n",
       "      <td>黑龙江省</td>\n",
       "      <td>黑河市</td>\n",
       "      <td>2013-01-02</td>\n",
       "      <td>27</td>\n",
       "      <td>49.267994</td>\n",
       "      <td>127.004389</td>\n",
       "    </tr>\n",
       "    <tr>\n",
       "      <th>737</th>\n",
       "      <td>黑龙江省</td>\n",
       "      <td>齐齐哈尔市</td>\n",
       "      <td>2013-01-02</td>\n",
       "      <td>25</td>\n",
       "      <td>47.715327</td>\n",
       "      <td>124.570302</td>\n",
       "    </tr>\n",
       "  </tbody>\n",
       "</table>\n",
       "<p>369 rows × 6 columns</p>\n",
       "</div>"
      ],
      "text/plain": [
       "    province   city        date  AQI        lat         lon\n",
       "369      上海市    上海市  2013-01-02   76  31.172800  121.420000\n",
       "370      云南省    临沧市  2013-01-02   35  23.934907   99.685833\n",
       "..       ...    ...         ...  ...        ...         ...\n",
       "736     黑龙江省    黑河市  2013-01-02   27  49.267994  127.004389\n",
       "737     黑龙江省  齐齐哈尔市  2013-01-02   25  47.715327  124.570302\n",
       "\n",
       "[369 rows x 6 columns]"
      ]
     },
     "execution_count": 13,
     "metadata": {},
     "output_type": "execute_result"
    }
   ],
   "source": [
    "temp2 = df.iloc[369: 738]\n",
    "temp2"
   ]
  },
  {
   "cell_type": "code",
   "execution_count": 42,
   "id": "6b1844c7",
   "metadata": {},
   "outputs": [],
   "source": [
    "df['date'] = pd.to_datetime(df['date'])\n",
    "date = df['date'].drop_duplicates()"
   ]
  },
  {
   "cell_type": "code",
   "execution_count": null,
   "id": "b3e9028a",
   "metadata": {},
   "outputs": [],
   "source": [
    "date.reset_index()"
   ]
  },
  {
   "cell_type": "code",
   "execution_count": 47,
   "id": "fc9fbdf3",
   "metadata": {},
   "outputs": [
    {
     "data": {
      "text/plain": [
       "0        2013-01-01\n",
       "369      2013-01-02\n",
       "            ...    \n",
       "807741   2018-12-30\n",
       "808110   2018-12-31\n",
       "Name: date, Length: 2191, dtype: datetime64[ns]"
      ]
     },
     "execution_count": 47,
     "metadata": {},
     "output_type": "execute_result"
    }
   ],
   "source": [
    "date"
   ]
  },
  {
   "cell_type": "code",
   "execution_count": 48,
   "id": "5ab204a8",
   "metadata": {},
   "outputs": [],
   "source": [
    "year = date.dt.year"
   ]
  },
  {
   "cell_type": "code",
   "execution_count": 49,
   "id": "49813649",
   "metadata": {},
   "outputs": [
    {
     "data": {
      "text/plain": [
       "0         2013\n",
       "369       2013\n",
       "          ... \n",
       "807741    2018\n",
       "808110    2018\n",
       "Name: date, Length: 2191, dtype: int64"
      ]
     },
     "execution_count": 49,
     "metadata": {},
     "output_type": "execute_result"
    }
   ],
   "source": [
    "year"
   ]
  },
  {
   "cell_type": "code",
   "execution_count": 51,
   "id": "be870d90",
   "metadata": {},
   "outputs": [],
   "source": [
    "month = date.dt.month\n",
    "day = date.dt.day"
   ]
  },
  {
   "cell_type": "code",
   "execution_count": 52,
   "id": "6506bbfb",
   "metadata": {},
   "outputs": [],
   "source": [
    "year = list(year)\n",
    "month = list(month)\n",
    "day = list(day)"
   ]
  },
  {
   "cell_type": "code",
   "execution_count": 53,
   "id": "340cb2d9",
   "metadata": {},
   "outputs": [
    {
     "data": {
      "text/plain": [
       "2191"
      ]
     },
     "execution_count": 53,
     "metadata": {},
     "output_type": "execute_result"
    }
   ],
   "source": [
    "len(day)"
   ]
  },
  {
   "cell_type": "code",
   "execution_count": 55,
   "id": "0c782d79",
   "metadata": {},
   "outputs": [
    {
     "name": "stdout",
     "output_type": "stream",
     "text": [
      "20181231\n"
     ]
    }
   ],
   "source": [
    "year_ = year[2190]\n",
    "month_ = month[2190]\n",
    "day_ = day[2190]\n",
    "print(f'{year_}' + f'{month_:02d}' + f'{day_:02d}')"
   ]
  },
  {
   "cell_type": "code",
   "execution_count": 25,
   "id": "0267495e",
   "metadata": {},
   "outputs": [],
   "source": [
    "path = './Data/calAQI/sepAQI_city_daily/'"
   ]
  },
  {
   "cell_type": "code",
   "execution_count": 57,
   "id": "e71c25eb",
   "metadata": {},
   "outputs": [
    {
     "data": {
      "text/plain": [
       "'./Data/calAQI/sepAQI_city_daily/201812/CN-Reanalysis-daily-2018123100.csv'"
      ]
     },
     "execution_count": 57,
     "metadata": {},
     "output_type": "execute_result"
    }
   ],
   "source": [
    "path + f'{year_}' + f'{month_:02d}' + '/CN-Reanalysis-daily-' + f'{year_}' + f'{month_:02d}' + f'{day_:02d}' + '00.csv'"
   ]
  },
  {
   "cell_type": "code",
   "execution_count": 58,
   "id": "326d0091",
   "metadata": {},
   "outputs": [
    {
     "data": {
      "text/plain": [
       "808479"
      ]
     },
     "execution_count": 58,
     "metadata": {},
     "output_type": "execute_result"
    }
   ],
   "source": [
    "len(df.index)"
   ]
  },
  {
   "cell_type": "code",
   "execution_count": 98,
   "id": "bc04700d",
   "metadata": {},
   "outputs": [],
   "source": [
    "m = 0\n",
    "n = 369\n",
    "for i in range(2191):\n",
    "    temp = df.iloc[m: n]  # 被拆分的一段\n",
    "    m += 369\n",
    "    n += 369"
   ]
  },
  {
   "cell_type": "code",
   "execution_count": 99,
   "id": "73e4703c",
   "metadata": {},
   "outputs": [
    {
     "data": {
      "text/html": [
       "<div>\n",
       "<style scoped>\n",
       "    .dataframe tbody tr th:only-of-type {\n",
       "        vertical-align: middle;\n",
       "    }\n",
       "\n",
       "    .dataframe tbody tr th {\n",
       "        vertical-align: top;\n",
       "    }\n",
       "\n",
       "    .dataframe thead th {\n",
       "        text-align: right;\n",
       "    }\n",
       "</style>\n",
       "<table border=\"1\" class=\"dataframe\">\n",
       "  <thead>\n",
       "    <tr style=\"text-align: right;\">\n",
       "      <th></th>\n",
       "      <th>province</th>\n",
       "      <th>city</th>\n",
       "      <th>date</th>\n",
       "      <th>AQI</th>\n",
       "      <th>lat</th>\n",
       "      <th>lon</th>\n",
       "      <th>year</th>\n",
       "      <th>month</th>\n",
       "      <th>day</th>\n",
       "    </tr>\n",
       "  </thead>\n",
       "  <tbody>\n",
       "    <tr>\n",
       "      <th>808110</th>\n",
       "      <td>上海市</td>\n",
       "      <td>上海市</td>\n",
       "      <td>2018-12-31</td>\n",
       "      <td>43</td>\n",
       "      <td>31.172800</td>\n",
       "      <td>121.420000</td>\n",
       "      <td>2018</td>\n",
       "      <td>12</td>\n",
       "      <td>31</td>\n",
       "    </tr>\n",
       "    <tr>\n",
       "      <th>808111</th>\n",
       "      <td>云南省</td>\n",
       "      <td>临沧市</td>\n",
       "      <td>2018-12-31</td>\n",
       "      <td>42</td>\n",
       "      <td>23.934907</td>\n",
       "      <td>99.685833</td>\n",
       "      <td>2018</td>\n",
       "      <td>12</td>\n",
       "      <td>31</td>\n",
       "    </tr>\n",
       "    <tr>\n",
       "      <th>...</th>\n",
       "      <td>...</td>\n",
       "      <td>...</td>\n",
       "      <td>...</td>\n",
       "      <td>...</td>\n",
       "      <td>...</td>\n",
       "      <td>...</td>\n",
       "      <td>...</td>\n",
       "      <td>...</td>\n",
       "      <td>...</td>\n",
       "    </tr>\n",
       "    <tr>\n",
       "      <th>808477</th>\n",
       "      <td>黑龙江省</td>\n",
       "      <td>黑河市</td>\n",
       "      <td>2018-12-31</td>\n",
       "      <td>26</td>\n",
       "      <td>49.267994</td>\n",
       "      <td>127.004389</td>\n",
       "      <td>2018</td>\n",
       "      <td>12</td>\n",
       "      <td>31</td>\n",
       "    </tr>\n",
       "    <tr>\n",
       "      <th>808478</th>\n",
       "      <td>黑龙江省</td>\n",
       "      <td>齐齐哈尔市</td>\n",
       "      <td>2018-12-31</td>\n",
       "      <td>33</td>\n",
       "      <td>47.715327</td>\n",
       "      <td>124.570302</td>\n",
       "      <td>2018</td>\n",
       "      <td>12</td>\n",
       "      <td>31</td>\n",
       "    </tr>\n",
       "  </tbody>\n",
       "</table>\n",
       "<p>369 rows × 9 columns</p>\n",
       "</div>"
      ],
      "text/plain": [
       "       province   city       date  AQI        lat         lon  year  month  \\\n",
       "808110      上海市    上海市 2018-12-31   43  31.172800  121.420000  2018     12   \n",
       "808111      云南省    临沧市 2018-12-31   42  23.934907   99.685833  2018     12   \n",
       "...         ...    ...        ...  ...        ...         ...   ...    ...   \n",
       "808477     黑龙江省    黑河市 2018-12-31   26  49.267994  127.004389  2018     12   \n",
       "808478     黑龙江省  齐齐哈尔市 2018-12-31   33  47.715327  124.570302  2018     12   \n",
       "\n",
       "        day  \n",
       "808110   31  \n",
       "808111   31  \n",
       "...     ...  \n",
       "808477   31  \n",
       "808478   31  \n",
       "\n",
       "[369 rows x 9 columns]"
      ]
     },
     "execution_count": 99,
     "metadata": {},
     "output_type": "execute_result"
    }
   ],
   "source": [
    "temp"
   ]
  },
  {
   "cell_type": "code",
   "execution_count": null,
   "id": "9922866d",
   "metadata": {},
   "outputs": [],
   "source": []
  },
  {
   "cell_type": "code",
   "execution_count": null,
   "id": "b01247b4",
   "metadata": {},
   "outputs": [],
   "source": []
  },
  {
   "cell_type": "code",
   "execution_count": 4,
   "id": "45d9fcb8",
   "metadata": {},
   "outputs": [
    {
     "name": "stdout",
     "output_type": "stream",
     "text": [
      "Apprix Team DataFrame:\n",
      "       Name          Post Qualification\n",
      "0     Anish           CEO           MBA\n",
      "1  Rabindra           CTO            MS\n",
      "2    Manish  System Admin           MCA\n",
      "3     Samir    Consultant           PhD\n",
      "4     Binam      Engineer            BE\n"
     ]
    }
   ],
   "source": [
    "apprix_df = pd.DataFrame({\n",
    "    'Name': [\"Anish\",\"Rabindra\",\"Manish\",\"Samir\",\"Binam\"],\n",
    "    'Post': [\"CEO\",\"CTO\",\"System Admin\",\"Consultant\",\"Engineer\"],\n",
    "    'Qualification':[\"MBA\",\"MS\",\"MCA\",\"PhD\",\"BE\"]\n",
    "})\n",
    "\n",
    "print(\"Apprix Team DataFrame:\")\n",
    "print(apprix_df)"
   ]
  },
  {
   "cell_type": "code",
   "execution_count": 6,
   "id": "08847c0a",
   "metadata": {},
   "outputs": [
    {
     "name": "stdout",
     "output_type": "stream",
     "text": [
      "The DataFrames formed by splitting of Apprix Team DataFrame are:\n",
      "       Name Post Qualification\n",
      "0     Anish  CEO           MBA\n",
      "1  Rabindra  CTO            MS \n",
      "\n",
      "     Name          Post Qualification\n",
      "2  Manish  System Admin           MCA\n",
      "3   Samir    Consultant           PhD\n",
      "4   Binam      Engineer            BE\n"
     ]
    }
   ],
   "source": [
    "apprix_1 = apprix_df.iloc[:2,:]\n",
    "apprix_2 = apprix_df.iloc[2:,:]\n",
    "\n",
    "print(\"The DataFrames formed by splitting of Apprix Team DataFrame are:\")\n",
    "print(apprix_1,\"\\n\")\n",
    "print(apprix_2)"
   ]
  },
  {
   "cell_type": "code",
   "execution_count": 7,
   "id": "333e44bc",
   "metadata": {},
   "outputs": [
    {
     "name": "stdout",
     "output_type": "stream",
     "text": [
      "Group with Qualification MS:\n",
      "       Name Post Qualification\n",
      "1  Rabindra  CTO            MS \n",
      "\n",
      "Group with Qualification MBA:\n",
      "    Name Post Qualification\n",
      "0  Anish  CEO           MBA \n",
      "\n",
      "Group with Qualification PhD:\n",
      "    Name        Post Qualification\n",
      "3  Samir  Consultant           PhD\n"
     ]
    }
   ],
   "source": [
    "# groupby\n",
    "# 根据 Qualification 列的值将 apprix_df 分成三部分；Qualification 列值相同的行将被放在同一个组中。\n",
    "groups = apprix_df.groupby(apprix_df.Qualification)\n",
    "ms_df = groups.get_group(\"MS\")\n",
    "mba_df = groups.get_group(\"MBA\")\n",
    "phd_df = groups.get_group(\"PhD\")\n",
    "\n",
    "print(\"Group with Qualification MS:\")\n",
    "print(ms_df,\"\\n\")\n",
    "\n",
    "print(\"Group with Qualification MBA:\")\n",
    "print(mba_df,\"\\n\")\n",
    "\n",
    "print(\"Group with Qualification PhD:\")\n",
    "print(phd_df)"
   ]
  },
  {
   "cell_type": "code",
   "execution_count": 8,
   "id": "bd8f2fc0",
   "metadata": {},
   "outputs": [
    {
     "name": "stdout",
     "output_type": "stream",
     "text": [
      "Random split from the Apprix Team DataFrame:\n",
      "    Name      Post Qualification\n",
      "0  Anish       CEO           MBA\n",
      "4  Binam  Engineer            BE\n"
     ]
    }
   ],
   "source": [
    "# sample\n",
    "# 从 apprix_df 中随机抽取 40% 的行，然后显示由抽取的行形成的 DataFrame\n",
    "random_df = apprix_df.sample(frac=0.4, random_state=60)\n",
    "\n",
    "print(\"Random split from the Apprix Team DataFrame:\")\n",
    "print(random_df)"
   ]
  },
  {
   "cell_type": "code",
   "execution_count": null,
   "id": "cef2e42f",
   "metadata": {},
   "outputs": [],
   "source": []
  }
 ],
 "metadata": {
  "kernelspec": {
   "display_name": "Python [conda env:Python3_8] *",
   "language": "python",
   "name": "conda-env-Python3_8-py"
  },
  "language_info": {
   "codemirror_mode": {
    "name": "ipython",
    "version": 3
   },
   "file_extension": ".py",
   "mimetype": "text/x-python",
   "name": "python",
   "nbconvert_exporter": "python",
   "pygments_lexer": "ipython3",
   "version": "3.8.12"
  }
 },
 "nbformat": 4,
 "nbformat_minor": 5
}
