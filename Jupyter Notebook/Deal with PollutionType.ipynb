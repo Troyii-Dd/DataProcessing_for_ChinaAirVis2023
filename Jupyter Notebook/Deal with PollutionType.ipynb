{
 "cells": [
  {
   "cell_type": "code",
   "execution_count": 1,
   "id": "9d5e5d97",
   "metadata": {},
   "outputs": [],
   "source": [
    "import pandas as pd"
   ]
  },
  {
   "cell_type": "code",
   "execution_count": 2,
   "id": "2fffbfca",
   "metadata": {},
   "outputs": [],
   "source": [
    "df = pd.read_csv('./data-temp/PollutionType.csv', encoding='utf-8')"
   ]
  },
  {
   "cell_type": "code",
   "execution_count": 10,
   "id": "01371a15",
   "metadata": {},
   "outputs": [],
   "source": [
    "df['province'] = df['province'].map(lambda x: x.rstrip('省'))\n",
    "df['province'] = df['province'].map(lambda x: x.rstrip('自治区'))\n",
    "df['province'] = df['province'].map(lambda x: x.rstrip('特别行政区'))"
   ]
  },
  {
   "cell_type": "code",
   "execution_count": 13,
   "id": "1ccb81ff",
   "metadata": {},
   "outputs": [],
   "source": [
    "df['province'] = df['province'].map(lambda x: x.rstrip('市'))\n",
    "df['province'] = df['province'].map(lambda x: x.rstrip('回族'))\n",
    "df['province'] = df['province'].map(lambda x: x.rstrip('壮族'))\n",
    "df['province'] = df['province'].map(lambda x: x.rstrip('维吾尔'))"
   ]
  },
  {
   "cell_type": "code",
   "execution_count": 15,
   "id": "3097c566",
   "metadata": {},
   "outputs": [
    {
     "data": {
      "text/html": [
       "<div>\n",
       "<style scoped>\n",
       "    .dataframe tbody tr th:only-of-type {\n",
       "        vertical-align: middle;\n",
       "    }\n",
       "\n",
       "    .dataframe tbody tr th {\n",
       "        vertical-align: top;\n",
       "    }\n",
       "\n",
       "    .dataframe thead th {\n",
       "        text-align: right;\n",
       "    }\n",
       "</style>\n",
       "<table border=\"1\" class=\"dataframe\">\n",
       "  <thead>\n",
       "    <tr style=\"text-align: right;\">\n",
       "      <th></th>\n",
       "      <th>province</th>\n",
       "      <th>date</th>\n",
       "      <th>Type</th>\n",
       "    </tr>\n",
       "  </thead>\n",
       "  <tbody>\n",
       "    <tr>\n",
       "      <th>0</th>\n",
       "      <td>上海</td>\n",
       "      <td>2013-01-01</td>\n",
       "      <td>偏燃煤型</td>\n",
       "    </tr>\n",
       "    <tr>\n",
       "      <th>1</th>\n",
       "      <td>云南</td>\n",
       "      <td>2013-01-01</td>\n",
       "      <td>其他型</td>\n",
       "    </tr>\n",
       "    <tr>\n",
       "      <th>2</th>\n",
       "      <td>内蒙古</td>\n",
       "      <td>2013-01-01</td>\n",
       "      <td>其他型</td>\n",
       "    </tr>\n",
       "    <tr>\n",
       "      <th>3</th>\n",
       "      <td>北京</td>\n",
       "      <td>2013-01-01</td>\n",
       "      <td>其他型</td>\n",
       "    </tr>\n",
       "    <tr>\n",
       "      <th>4</th>\n",
       "      <td>台湾</td>\n",
       "      <td>2013-01-01</td>\n",
       "      <td>其他型</td>\n",
       "    </tr>\n",
       "    <tr>\n",
       "      <th>...</th>\n",
       "      <td>...</td>\n",
       "      <td>...</td>\n",
       "      <td>...</td>\n",
       "    </tr>\n",
       "    <tr>\n",
       "      <th>72298</th>\n",
       "      <td>重庆</td>\n",
       "      <td>2018-12-31</td>\n",
       "      <td>其他型</td>\n",
       "    </tr>\n",
       "    <tr>\n",
       "      <th>72299</th>\n",
       "      <td>陕西</td>\n",
       "      <td>2018-12-31</td>\n",
       "      <td>其他型</td>\n",
       "    </tr>\n",
       "    <tr>\n",
       "      <th>72300</th>\n",
       "      <td>青海</td>\n",
       "      <td>2018-12-31</td>\n",
       "      <td>其他型</td>\n",
       "    </tr>\n",
       "    <tr>\n",
       "      <th>72301</th>\n",
       "      <td>香港</td>\n",
       "      <td>2018-12-31</td>\n",
       "      <td>标准型</td>\n",
       "    </tr>\n",
       "    <tr>\n",
       "      <th>72302</th>\n",
       "      <td>黑龙江</td>\n",
       "      <td>2018-12-31</td>\n",
       "      <td>标准型</td>\n",
       "    </tr>\n",
       "  </tbody>\n",
       "</table>\n",
       "<p>72303 rows × 3 columns</p>\n",
       "</div>"
      ],
      "text/plain": [
       "      province        date  Type\n",
       "0           上海  2013-01-01  偏燃煤型\n",
       "1           云南  2013-01-01   其他型\n",
       "2          内蒙古  2013-01-01   其他型\n",
       "3           北京  2013-01-01   其他型\n",
       "4           台湾  2013-01-01   其他型\n",
       "...        ...         ...   ...\n",
       "72298       重庆  2018-12-31   其他型\n",
       "72299       陕西  2018-12-31   其他型\n",
       "72300       青海  2018-12-31   其他型\n",
       "72301       香港  2018-12-31   标准型\n",
       "72302      黑龙江  2018-12-31   标准型\n",
       "\n",
       "[72303 rows x 3 columns]"
      ]
     },
     "execution_count": 15,
     "metadata": {},
     "output_type": "execute_result"
    }
   ],
   "source": [
    "df"
   ]
  },
  {
   "cell_type": "code",
   "execution_count": 16,
   "id": "c09ad99a",
   "metadata": {},
   "outputs": [
    {
     "data": {
      "text/plain": [
       "72303"
      ]
     },
     "execution_count": 16,
     "metadata": {},
     "output_type": "execute_result"
    }
   ],
   "source": [
    "len(df)"
   ]
  },
  {
   "cell_type": "code",
   "execution_count": 17,
   "id": "46807f6e",
   "metadata": {},
   "outputs": [
    {
     "data": {
      "text/plain": [
       "0        偏燃煤型\n",
       "1         其他型\n",
       "2         其他型\n",
       "3         其他型\n",
       "4         其他型\n",
       "         ... \n",
       "72298     其他型\n",
       "72299     其他型\n",
       "72300     其他型\n",
       "72301     标准型\n",
       "72302     标准型\n",
       "Name: Type, Length: 72303, dtype: object"
      ]
     },
     "execution_count": 17,
     "metadata": {},
     "output_type": "execute_result"
    }
   ],
   "source": [
    "df['Type']"
   ]
  },
  {
   "cell_type": "code",
   "execution_count": 18,
   "id": "96874e28",
   "metadata": {},
   "outputs": [
    {
     "data": {
      "text/plain": [
       "'偏燃煤型'"
      ]
     },
     "execution_count": 18,
     "metadata": {},
     "output_type": "execute_result"
    }
   ],
   "source": [
    "df['Type'][0]"
   ]
  },
  {
   "cell_type": "code",
   "execution_count": 20,
   "id": "53b489e8",
   "metadata": {},
   "outputs": [],
   "source": [
    "value = []\n",
    "for i in range(len(df)):\n",
    "    if df['Type'][i] == '其他型':\n",
    "        value.append(0)\n",
    "    elif df['Type'][i] == '标准型':\n",
    "        value.append(1)\n",
    "    elif df['Type'][i] == '偏二次型':\n",
    "        value.append(2)\n",
    "    elif df['Type'][i] == '偏沙尘型':\n",
    "        value.append(3)\n",
    "    elif df['Type'][i] == '偏机动车型':\n",
    "        value.append(4)\n",
    "    elif df['Type'][i] == '偏燃煤型':\n",
    "        value.append(5)\n",
    "    elif df['Type'][i] == '偏烟花型':\n",
    "        value.append(6)\n",
    "    elif df['Type'][i] == '偏钢铁型':\n",
    "        value.append(7)"
   ]
  },
  {
   "cell_type": "code",
   "execution_count": 21,
   "id": "a30e2d06",
   "metadata": {},
   "outputs": [],
   "source": [
    "df['value'] = value"
   ]
  },
  {
   "cell_type": "code",
   "execution_count": 25,
   "id": "c5a60b0e",
   "metadata": {},
   "outputs": [],
   "source": [
    "df.rename(columns={'province':'name', 'Type': 'type'}, inplace=True)"
   ]
  },
  {
   "cell_type": "code",
   "execution_count": 26,
   "id": "439a746f",
   "metadata": {},
   "outputs": [
    {
     "data": {
      "text/html": [
       "<div>\n",
       "<style scoped>\n",
       "    .dataframe tbody tr th:only-of-type {\n",
       "        vertical-align: middle;\n",
       "    }\n",
       "\n",
       "    .dataframe tbody tr th {\n",
       "        vertical-align: top;\n",
       "    }\n",
       "\n",
       "    .dataframe thead th {\n",
       "        text-align: right;\n",
       "    }\n",
       "</style>\n",
       "<table border=\"1\" class=\"dataframe\">\n",
       "  <thead>\n",
       "    <tr style=\"text-align: right;\">\n",
       "      <th></th>\n",
       "      <th>name</th>\n",
       "      <th>date</th>\n",
       "      <th>type</th>\n",
       "      <th>value</th>\n",
       "    </tr>\n",
       "  </thead>\n",
       "  <tbody>\n",
       "    <tr>\n",
       "      <th>0</th>\n",
       "      <td>上海</td>\n",
       "      <td>2013-01-01</td>\n",
       "      <td>偏燃煤型</td>\n",
       "      <td>5</td>\n",
       "    </tr>\n",
       "    <tr>\n",
       "      <th>1</th>\n",
       "      <td>云南</td>\n",
       "      <td>2013-01-01</td>\n",
       "      <td>其他型</td>\n",
       "      <td>0</td>\n",
       "    </tr>\n",
       "    <tr>\n",
       "      <th>2</th>\n",
       "      <td>内蒙古</td>\n",
       "      <td>2013-01-01</td>\n",
       "      <td>其他型</td>\n",
       "      <td>0</td>\n",
       "    </tr>\n",
       "    <tr>\n",
       "      <th>3</th>\n",
       "      <td>北京</td>\n",
       "      <td>2013-01-01</td>\n",
       "      <td>其他型</td>\n",
       "      <td>0</td>\n",
       "    </tr>\n",
       "    <tr>\n",
       "      <th>4</th>\n",
       "      <td>台湾</td>\n",
       "      <td>2013-01-01</td>\n",
       "      <td>其他型</td>\n",
       "      <td>0</td>\n",
       "    </tr>\n",
       "    <tr>\n",
       "      <th>...</th>\n",
       "      <td>...</td>\n",
       "      <td>...</td>\n",
       "      <td>...</td>\n",
       "      <td>...</td>\n",
       "    </tr>\n",
       "    <tr>\n",
       "      <th>72298</th>\n",
       "      <td>重庆</td>\n",
       "      <td>2018-12-31</td>\n",
       "      <td>其他型</td>\n",
       "      <td>0</td>\n",
       "    </tr>\n",
       "    <tr>\n",
       "      <th>72299</th>\n",
       "      <td>陕西</td>\n",
       "      <td>2018-12-31</td>\n",
       "      <td>其他型</td>\n",
       "      <td>0</td>\n",
       "    </tr>\n",
       "    <tr>\n",
       "      <th>72300</th>\n",
       "      <td>青海</td>\n",
       "      <td>2018-12-31</td>\n",
       "      <td>其他型</td>\n",
       "      <td>0</td>\n",
       "    </tr>\n",
       "    <tr>\n",
       "      <th>72301</th>\n",
       "      <td>香港</td>\n",
       "      <td>2018-12-31</td>\n",
       "      <td>标准型</td>\n",
       "      <td>1</td>\n",
       "    </tr>\n",
       "    <tr>\n",
       "      <th>72302</th>\n",
       "      <td>黑龙江</td>\n",
       "      <td>2018-12-31</td>\n",
       "      <td>标准型</td>\n",
       "      <td>1</td>\n",
       "    </tr>\n",
       "  </tbody>\n",
       "</table>\n",
       "<p>72303 rows × 4 columns</p>\n",
       "</div>"
      ],
      "text/plain": [
       "      name        date  type  value\n",
       "0       上海  2013-01-01  偏燃煤型      5\n",
       "1       云南  2013-01-01   其他型      0\n",
       "2      内蒙古  2013-01-01   其他型      0\n",
       "3       北京  2013-01-01   其他型      0\n",
       "4       台湾  2013-01-01   其他型      0\n",
       "...    ...         ...   ...    ...\n",
       "72298   重庆  2018-12-31   其他型      0\n",
       "72299   陕西  2018-12-31   其他型      0\n",
       "72300   青海  2018-12-31   其他型      0\n",
       "72301   香港  2018-12-31   标准型      1\n",
       "72302  黑龙江  2018-12-31   标准型      1\n",
       "\n",
       "[72303 rows x 4 columns]"
      ]
     },
     "execution_count": 26,
     "metadata": {},
     "output_type": "execute_result"
    }
   ],
   "source": [
    "df"
   ]
  },
  {
   "cell_type": "code",
   "execution_count": 28,
   "id": "859cf015",
   "metadata": {},
   "outputs": [],
   "source": [
    "df.to_json('CauseMap.json', orient='records', force_ascii=False)"
   ]
  },
  {
   "cell_type": "code",
   "execution_count": null,
   "id": "b4ac7b93",
   "metadata": {},
   "outputs": [],
   "source": []
  }
 ],
 "metadata": {
  "kernelspec": {
   "display_name": "Python [conda env:Python3_8] *",
   "language": "python",
   "name": "conda-env-Python3_8-py"
  },
  "language_info": {
   "codemirror_mode": {
    "name": "ipython",
    "version": 3
   },
   "file_extension": ".py",
   "mimetype": "text/x-python",
   "name": "python",
   "nbconvert_exporter": "python",
   "pygments_lexer": "ipython3",
   "version": "3.8.12"
  }
 },
 "nbformat": 4,
 "nbformat_minor": 5
}
