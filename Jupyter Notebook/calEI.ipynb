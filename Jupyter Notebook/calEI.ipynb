{
 "cells": [
  {
   "cell_type": "code",
   "execution_count": 1,
   "id": "5c87cce9",
   "metadata": {},
   "outputs": [],
   "source": [
    "import pandas as pd\n",
    "import numpy as np\n",
    "import math"
   ]
  },
  {
   "cell_type": "code",
   "execution_count": null,
   "id": "c5cd89e5",
   "metadata": {},
   "outputs": [],
   "source": [
    "# df = pd.read_csv('./data-temp/daily.csv', encoding='utf-8')\n",
    "df = pd.read_csv('./data-temp/daily_p.csv', encoding='utf-8') # province data\n",
    "df.drop(df.columns[[0]], axis=1, inplace=True)\n",
    "df['date'] = pd.to_datetime(df['date'])"
   ]
  },
  {
   "cell_type": "code",
   "execution_count": null,
   "id": "70d80960",
   "metadata": {},
   "outputs": [],
   "source": [
    "df.drop(['U','V','temp','rh','psfc'], axis='columns', inplace=True)"
   ]
  },
  {
   "cell_type": "code",
   "execution_count": null,
   "id": "0fd786dd",
   "metadata": {},
   "outputs": [],
   "source": [
    "pd.set_option('display.max_rows', 5)"
   ]
  },
  {
   "cell_type": "code",
   "execution_count": null,
   "id": "94c26091",
   "metadata": {},
   "outputs": [],
   "source": [
    "df"
   ]
  },
  {
   "cell_type": "code",
   "execution_count": null,
   "id": "f9e6b5db",
   "metadata": {},
   "outputs": [],
   "source": [
    "P_sum = df[['pm2.5','pm10','so2','no2','co','o3']].sum(axis=1)"
   ]
  },
  {
   "cell_type": "code",
   "execution_count": null,
   "id": "0e7f0d7d",
   "metadata": {},
   "outputs": [],
   "source": [
    "# 计算每个城市在所有日期的污染物百分比成分谱（归一化）\n",
    "df['P_pm25'] = df['pm2.5'].iloc[:] / P_sum\n",
    "# df['P_pm10'] = df['pm10'].iloc[:] / P_sum\n",
    "# df['P_so2'] = df['so2'].iloc[:] / P_sum\n",
    "# df['P_no2'] = df['no2'].iloc[:] / P_sum\n",
    "# df['P_co'] = df['co'].iloc[:] / P_sum\n",
    "# df['P_o3'] = df['o3'].iloc[:] / P_sum"
   ]
  },
  {
   "cell_type": "code",
   "execution_count": null,
   "id": "f079d03b",
   "metadata": {},
   "outputs": [],
   "source": [
    "df['year'] = df['date'].dt.year\n",
    "df['month'] = df['date'].dt.month\n",
    "df['day'] = df['date'].dt.day"
   ]
  },
  {
   "cell_type": "code",
   "execution_count": null,
   "id": "458b92d3",
   "metadata": {},
   "outputs": [],
   "source": [
    "df"
   ]
  },
  {
   "cell_type": "markdown",
   "id": "50f952dc",
   "metadata": {},
   "source": [
    "city = df['city']\n",
    "city = city.drop_duplicates()\n",
    "city = list(city)"
   ]
  },
  {
   "cell_type": "code",
   "execution_count": null,
   "id": "94e6c2db",
   "metadata": {},
   "outputs": [],
   "source": [
    "prov = df['province']\n",
    "prov = prov.drop_duplicates()\n",
    "prov = list(prov)"
   ]
  },
  {
   "cell_type": "code",
   "execution_count": null,
   "id": "626eabb7",
   "metadata": {},
   "outputs": [],
   "source": [
    "month_31 = [1,3,5,7,8,10,12]"
   ]
  },
  {
   "cell_type": "code",
   "execution_count": null,
   "id": "38a58184",
   "metadata": {},
   "outputs": [],
   "source": [
    "df.info()"
   ]
  },
  {
   "cell_type": "code",
   "execution_count": null,
   "id": "c526843f",
   "metadata": {},
   "outputs": [],
   "source": [
    "df.head(3)"
   ]
  },
  {
   "cell_type": "code",
   "execution_count": null,
   "id": "fc44019f",
   "metadata": {},
   "outputs": [],
   "source": [
    "# len(city)\n",
    "len(prov)"
   ]
  },
  {
   "cell_type": "code",
   "execution_count": null,
   "id": "b6a5b7b6",
   "metadata": {},
   "outputs": [],
   "source": [
    "# 3.0_\n",
    "# 计算某市这个月的pm2.5百分比成分谱`均值`\n",
    "sum_ = 0\n",
    "P_pm25_ = list()\n",
    "for i in range(len(city)):\n",
    "    for j in range(len(df['city'])):  \n",
    "        if df['city'][j] == city[i]:  # 选取某市的数据 \n",
    "            if df['year'][j] == 2016:  # 闰年\n",
    "                if df['month'][j] in month_31:  # 31天的月份\n",
    "                    sum_ += df['P_pm25'][j]                    \n",
    "                    # 算完一个月，计数器清零\n",
    "                    if df['day'][j] == 31:\n",
    "                        P_pm25_.append([df['city'][j], df['year'][j], df['month'][j], sum_/31])  # 均值\n",
    "                        sum_ = 0\n",
    "                elif df['month'][j] == 2:  # 闰年2月\n",
    "                    sum_ += df['P_pm25'][j]\n",
    "                    if df['day'][j] == 29:\n",
    "                        P_pm25_.append([df['city'][j], df['year'][j], df['month'][j], sum_/29])\n",
    "                        sum_ = 0\n",
    "                else:  # 30天的月份\n",
    "                    sum_ += df['P_pm25'][j]\n",
    "                    if df['day'][j] == 30:\n",
    "                        P_pm25_.append([df['city'][j], df['year'][j], df['month'][j], sum_/30])\n",
    "                        sum_ = 0\n",
    "            else:  # 非闰年\n",
    "                if df['month'][j] in month_31:  # 31天的月份\n",
    "                    sum_ += df['P_pm25'][j]\n",
    "                    if df['day'][j] == 31:\n",
    "                        P_pm25_.append([df['city'][j], df['year'][j], df['month'][j], sum_/31])\n",
    "                        sum_ = 0\n",
    "                elif df['month'][j] == 2:  # 非闰年2月\n",
    "                    sum_ += df['P_pm25'][j]\n",
    "                    if df['day'][j] == 28:\n",
    "                        P_pm25_.append([df['city'][j], df['year'][j], df['month'][j], sum_/28])\n",
    "                        sum_ = 0\n",
    "                else:  # 30天的月份\n",
    "                    sum_ += df['P_pm25'][j]\n",
    "                    if df['day'][j] == 30:\n",
    "                        P_pm25_.append([df['city'][j], df['year'][j], df['month'][j], sum_/30])\n",
    "                        sum_ = 0"
   ]
  },
  {
   "cell_type": "code",
   "execution_count": null,
   "id": "80753ca4",
   "metadata": {},
   "outputs": [],
   "source": [
    "# 计算某省这个月的pm2.5百分比成分谱`均值`\n",
    "sum_ = 0\n",
    "P_pm25_ = list()\n",
    "for i in range(len(prov)):\n",
    "    for j in range(len(df['province'])):  \n",
    "        if df['province'][j] == prov[i]:  # 选取某省的数据 \n",
    "            if df['year'][j] == 2016:  # 闰年\n",
    "                if df['month'][j] in month_31:  # 31天的月份\n",
    "                    sum_ += df['P_pm25'][j]                    \n",
    "                    # 算完一个月，计数器清零\n",
    "                    if df['day'][j] == 31:\n",
    "                        P_pm25_.append([df['province'][j], df['year'][j], df['month'][j], sum_/31])  # 均值\n",
    "                        sum_ = 0\n",
    "                elif df['month'][j] == 2:  # 闰年2月\n",
    "                    sum_ += df['P_pm25'][j]\n",
    "                    if df['day'][j] == 29:\n",
    "                        P_pm25_.append([df['province'][j], df['year'][j], df['month'][j], sum_/29])\n",
    "                        sum_ = 0\n",
    "                else:  # 30天的月份\n",
    "                    sum_ += df['P_pm25'][j]\n",
    "                    if df['day'][j] == 30:\n",
    "                        P_pm25_.append([df['province'][j], df['year'][j], df['month'][j], sum_/30])\n",
    "                        sum_ = 0\n",
    "            else:  # 非闰年\n",
    "                if df['month'][j] in month_31:  # 31天的月份\n",
    "                    sum_ += df['P_pm25'][j]\n",
    "                    if df['day'][j] == 31:\n",
    "                        P_pm25_.append([df['province'][j], df['year'][j], df['month'][j], sum_/31])\n",
    "                        sum_ = 0\n",
    "                elif df['month'][j] == 2:  # 非闰年2月\n",
    "                    sum_ += df['P_pm25'][j]\n",
    "                    if df['day'][j] == 28:\n",
    "                        P_pm25_.append([df['province'][j], df['year'][j], df['month'][j], sum_/28])\n",
    "                        sum_ = 0\n",
    "                else:  # 30天的月份\n",
    "                    sum_ += df['P_pm25'][j]\n",
    "                    if df['day'][j] == 30:\n",
    "                        P_pm25_.append([df['province'][j], df['year'][j], df['month'][j], sum_/30])\n",
    "                        sum_ = 0"
   ]
  },
  {
   "cell_type": "markdown",
   "id": "18cc9c4a",
   "metadata": {},
   "source": [
    "P_pm25_ = pd.DataFrame(P_pm25_)\n",
    "P_pm25_.columns = ['city','year','month','P_pm25_']"
   ]
  },
  {
   "cell_type": "code",
   "execution_count": null,
   "id": "bd399b89",
   "metadata": {},
   "outputs": [],
   "source": [
    "P_pm25_ = pd.DataFrame(P_pm25_)\n",
    "P_pm25_.columns = ['prov','year','month','P_pm25_']"
   ]
  },
  {
   "cell_type": "code",
   "execution_count": null,
   "id": "4f98d368",
   "metadata": {},
   "outputs": [],
   "source": [
    "P_pm25_.to_csv('P_pm25_.csv', encoding='utf-8-sig', index=False)"
   ]
  },
  {
   "cell_type": "code",
   "execution_count": null,
   "id": "0d44666f",
   "metadata": {},
   "outputs": [],
   "source": [
    "P_pm25_ = pd.read_csv('./P_pm25_.csv', encoding='utf-8')"
   ]
  },
  {
   "cell_type": "code",
   "execution_count": null,
   "id": "dd49ef51",
   "metadata": {},
   "outputs": [],
   "source": [
    "P_pm25_"
   ]
  },
  {
   "cell_type": "code",
   "execution_count": null,
   "id": "f65a1f5e",
   "metadata": {},
   "outputs": [],
   "source": [
    "# 计算某市这个月的pm2.5百分比成分谱`标准差`\n",
    "sum_ = 0\n",
    "S_pm25 = list()\n",
    "for i in range(len(city)):\n",
    "    for j in range(len(df['city'])):\n",
    "        if df['city'][j] == city[i]:  # 选取某市的数据\n",
    "                if df['year'][j] == 2016:  # 闰年\n",
    "                    if df['month'][j] in month_31:  # 31天的月份\n",
    "                        for k in range(len(P_pm25_['month'])):\n",
    "                            if df['city'][j] == P_pm25_['city'][k] and \\\n",
    "                                df['year'][j] == P_pm25_['year'][k] and \\\n",
    "                                df['month'][j] == P_pm25_['month'][k]:  # 某市某年月的数据一一对应\n",
    "                                sum_ += math.pow(df['P_pm25'][j] - P_pm25_['P_pm25_'][k], 2)  # 平方和\n",
    "                                # 算完一个月，计数器清零\n",
    "                                if df['day'][j] == 31:\n",
    "                                    # 标准差                                    \n",
    "                                    S_pm25.append(math.sqrt(sum_/30))\n",
    "                                    sum_ = 0  # 计数器清零\n",
    "                    elif df['month'][j] == 2:  # 闰年2月\n",
    "                        for k in range(len(P_pm25_['month'])):\n",
    "                            if df['city'][j] == P_pm25_['city'][k] and \\\n",
    "                                df['year'][j] == P_pm25_['year'][k] and \\\n",
    "                                df['month'][j] == P_pm25_['month'][k]:\n",
    "                                sum_ += math.pow(df['P_pm25'][j] - P_pm25_['P_pm25_'][k], 2)\n",
    "                                if df['day'][j] == 29:\n",
    "                                    S_pm25.append(math.sqrt(sum_/28))\n",
    "                                    sum_ = 0\n",
    "                    else:  # 30天的月份\n",
    "                        for k in range(len(P_pm25_['month'])):\n",
    "                            if df['city'][j] == P_pm25_['city'][k] and \\\n",
    "                                df['year'][j] == P_pm25_['year'][k] and \\\n",
    "                                df['month'][j] == P_pm25_['month'][k]:\n",
    "                                sum_ += math.pow(df['P_pm25'][j] - P_pm25_['P_pm25_'][k], 2)\n",
    "                                if df['day'][j] == 30:\n",
    "                                    S_pm25.append(math.sqrt(sum_/29))\n",
    "                                    sum_ = 0\n",
    "                else:  # 非闰年\n",
    "                    if df['month'][j] in month_31:  # 31天的月份\n",
    "                        for k in range(len(P_pm25_['month'])):\n",
    "                            if df['city'][j] == P_pm25_['city'][k] and \\\n",
    "                                df['year'][j] == P_pm25_['year'][k] and \\\n",
    "                                df['month'][j] == P_pm25_['month'][k]:\n",
    "                                sum_ += math.pow(df['P_pm25'][j] - P_pm25_['P_pm25_'][k], 2)\n",
    "                                if df['day'][j] == 31:\n",
    "                                    S_pm25.append(math.sqrt(sum_/30))\n",
    "                                    sum_ = 0\n",
    "                    elif df['month'][j] == 2:  # 非闰年2月\n",
    "                        for k in range(len(P_pm25_['month'])):\n",
    "                            if df['city'][j] == P_pm25_['city'][k] and \\\n",
    "                                df['year'][j] == P_pm25_['year'][k] and \\\n",
    "                                df['month'][j] == P_pm25_['month'][k]:\n",
    "                                sum_ += math.pow(df['P_pm25'][j] - P_pm25_['P_pm25_'][k], 2)\n",
    "                                if df['day'][j] == 28:\n",
    "                                    S_pm25.append(math.sqrt(sum_/27))\n",
    "                                    sum_ = 0\n",
    "                    else:  # 30天的月份\n",
    "                        for k in range(len(P_pm25_['month'])):\n",
    "                            if df['city'][j] == P_pm25_['city'][k] and \\\n",
    "                                df['year'][j] == P_pm25_['year'][k] and \\\n",
    "                                df['month'][j] == P_pm25_['month'][k]:\n",
    "                                sum_ += math.pow(df['P_pm25'][j] - P_pm25_['P_pm25_'][k], 2)\n",
    "                                if df['day'][j] == 30:\n",
    "                                    S_pm25.append(math.sqrt(sum_/29))\n",
    "                                    sum_ = 0\n"
   ]
  },
  {
   "cell_type": "code",
   "execution_count": null,
   "id": "eade752a",
   "metadata": {},
   "outputs": [],
   "source": [
    "# 计算某省这个月的pm2.5百分比成分谱`标准差`\n",
    "sum_ = 0\n",
    "S_pm25 = list()\n",
    "for i in range(len(prov)):\n",
    "    for j in range(len(df['province'])):\n",
    "        if df['province'][j] == prov[i]:  # 选取某省的数据\n",
    "                if df['year'][j] == 2016:  # 闰年\n",
    "                    if df['month'][j] in month_31:  # 31天的月份\n",
    "                        for k in range(len(P_pm25_['month'])):\n",
    "                            if df['province'][j] == P_pm25_['prov'][k] and \\\n",
    "                                df['year'][j] == P_pm25_['year'][k] and \\\n",
    "                                df['month'][j] == P_pm25_['month'][k]:  # 某省某年月的数据一一对应\n",
    "                                sum_ += math.pow(df['P_pm25'][j] - P_pm25_['P_pm25_'][k], 2)  # 平方和\n",
    "                                # 算完一个月，计数器清零\n",
    "                                if df['day'][j] == 31:\n",
    "                                    # 标准差                                    \n",
    "                                    S_pm25.append(math.sqrt(sum_/30))\n",
    "                                    sum_ = 0  # 计数器清零\n",
    "                    elif df['month'][j] == 2:  # 闰年2月\n",
    "                        for k in range(len(P_pm25_['month'])):\n",
    "                            if df['province'][j] == P_pm25_['prov'][k] and \\\n",
    "                                df['year'][j] == P_pm25_['year'][k] and \\\n",
    "                                df['month'][j] == P_pm25_['month'][k]:\n",
    "                                sum_ += math.pow(df['P_pm25'][j] - P_pm25_['P_pm25_'][k], 2)\n",
    "                                if df['day'][j] == 29:\n",
    "                                    S_pm25.append(math.sqrt(sum_/28))\n",
    "                                    sum_ = 0\n",
    "                    else:  # 30天的月份\n",
    "                        for k in range(len(P_pm25_['month'])):\n",
    "                            if df['province'][j] == P_pm25_['prov'][k] and \\\n",
    "                                df['year'][j] == P_pm25_['year'][k] and \\\n",
    "                                df['month'][j] == P_pm25_['month'][k]:\n",
    "                                sum_ += math.pow(df['P_pm25'][j] - P_pm25_['P_pm25_'][k], 2)\n",
    "                                if df['day'][j] == 30:\n",
    "                                    S_pm25.append(math.sqrt(sum_/29))\n",
    "                                    sum_ = 0\n",
    "                else:  # 非闰年\n",
    "                    if df['month'][j] in month_31:  # 31天的月份\n",
    "                        for k in range(len(P_pm25_['month'])):\n",
    "                            if df['province'][j] == P_pm25_['prov'][k] and \\\n",
    "                                df['year'][j] == P_pm25_['year'][k] and \\\n",
    "                                df['month'][j] == P_pm25_['month'][k]:\n",
    "                                sum_ += math.pow(df['P_pm25'][j] - P_pm25_['P_pm25_'][k], 2)\n",
    "                                if df['day'][j] == 31:\n",
    "                                    S_pm25.append(math.sqrt(sum_/30))\n",
    "                                    sum_ = 0\n",
    "                    elif df['month'][j] == 2:  # 非闰年2月\n",
    "                        for k in range(len(P_pm25_['month'])):\n",
    "                            if df['province'][j] == P_pm25_['prov'][k] and \\\n",
    "                                df['year'][j] == P_pm25_['year'][k] and \\\n",
    "                                df['month'][j] == P_pm25_['month'][k]:\n",
    "                                sum_ += math.pow(df['P_pm25'][j] - P_pm25_['P_pm25_'][k], 2)\n",
    "                                if df['day'][j] == 28:\n",
    "                                    S_pm25.append(math.sqrt(sum_/27))\n",
    "                                    sum_ = 0\n",
    "                    else:  # 30天的月份\n",
    "                        for k in range(len(P_pm25_['month'])):\n",
    "                            if df['province'][j] == P_pm25_['prov'][k] and \\\n",
    "                                df['year'][j] == P_pm25_['year'][k] and \\\n",
    "                                df['month'][j] == P_pm25_['month'][k]:\n",
    "                                sum_ += math.pow(df['P_pm25'][j] - P_pm25_['P_pm25_'][k], 2)\n",
    "                                if df['day'][j] == 30:\n",
    "                                    S_pm25.append(math.sqrt(sum_/29))\n",
    "                                    sum_ = 0\n"
   ]
  },
  {
   "cell_type": "code",
   "execution_count": null,
   "id": "7e4cdfce",
   "metadata": {},
   "outputs": [],
   "source": [
    "S_pm25 = pd.DataFrame(S_pm25, columns=['S_pm25'])"
   ]
  },
  {
   "cell_type": "code",
   "execution_count": null,
   "id": "613b9977",
   "metadata": {},
   "outputs": [],
   "source": [
    "S_pm25"
   ]
  },
  {
   "cell_type": "code",
   "execution_count": null,
   "id": "4c53bfd4",
   "metadata": {},
   "outputs": [],
   "source": [
    "PS_pm25 = P_pm25_\n",
    "PS_pm25['S_pm25'] = S_pm25['S_pm25']"
   ]
  },
  {
   "cell_type": "code",
   "execution_count": null,
   "id": "183e1e57",
   "metadata": {},
   "outputs": [],
   "source": [
    "PS_pm25"
   ]
  },
  {
   "cell_type": "code",
   "execution_count": null,
   "id": "ed40dd8c",
   "metadata": {},
   "outputs": [],
   "source": [
    "PS_pm25.to_csv('PS_pm25.csv', encoding='utf-8-sig', index=False)"
   ]
  },
  {
   "cell_type": "code",
   "execution_count": 3,
   "id": "a7f63fdb",
   "metadata": {},
   "outputs": [],
   "source": [
    "PS_pm25 = pd.read_csv('./PS_pm25.csv', encoding='utf-8')"
   ]
  },
  {
   "cell_type": "code",
   "execution_count": null,
   "id": "2f838701",
   "metadata": {},
   "outputs": [],
   "source": [
    "# PS_pm25 = PS_pm25.dropna()"
   ]
  },
  {
   "cell_type": "code",
   "execution_count": 4,
   "id": "863499eb",
   "metadata": {},
   "outputs": [],
   "source": [
    "Min_pm25 = list()\n",
    "Max_pm25 = list()"
   ]
  },
  {
   "cell_type": "code",
   "execution_count": 5,
   "id": "7b091fe4",
   "metadata": {},
   "outputs": [],
   "source": [
    "for i in range(len(PS_pm25['P_pm25_'])):\n",
    "    Min_pm25.append((PS_pm25['P_pm25_'][i] - PS_pm25['S_pm25'][i]) / PS_pm25['P_pm25_'][i])\n",
    "    Max_pm25.append((PS_pm25['P_pm25_'][i] + PS_pm25['S_pm25'][i]) / PS_pm25['P_pm25_'][i])"
   ]
  },
  {
   "cell_type": "code",
   "execution_count": 6,
   "id": "c2917dd5",
   "metadata": {},
   "outputs": [],
   "source": [
    "PS_pm25['Min_pm25'] = pd.DataFrame(Min_pm25)\n",
    "PS_pm25['Max_pm25'] = pd.DataFrame(Max_pm25)"
   ]
  },
  {
   "cell_type": "code",
   "execution_count": 7,
   "id": "aee87133",
   "metadata": {},
   "outputs": [
    {
     "data": {
      "text/html": [
       "<div>\n",
       "<style scoped>\n",
       "    .dataframe tbody tr th:only-of-type {\n",
       "        vertical-align: middle;\n",
       "    }\n",
       "\n",
       "    .dataframe tbody tr th {\n",
       "        vertical-align: top;\n",
       "    }\n",
       "\n",
       "    .dataframe thead th {\n",
       "        text-align: right;\n",
       "    }\n",
       "</style>\n",
       "<table border=\"1\" class=\"dataframe\">\n",
       "  <thead>\n",
       "    <tr style=\"text-align: right;\">\n",
       "      <th></th>\n",
       "      <th>prov</th>\n",
       "      <th>year</th>\n",
       "      <th>month</th>\n",
       "      <th>P_pm25_</th>\n",
       "      <th>S_pm25</th>\n",
       "      <th>Min_pm25</th>\n",
       "      <th>Max_pm25</th>\n",
       "    </tr>\n",
       "  </thead>\n",
       "  <tbody>\n",
       "    <tr>\n",
       "      <th>0</th>\n",
       "      <td>上海市</td>\n",
       "      <td>2013</td>\n",
       "      <td>1</td>\n",
       "      <td>0.274826</td>\n",
       "      <td>0.050506</td>\n",
       "      <td>0.816225</td>\n",
       "      <td>1.183775</td>\n",
       "    </tr>\n",
       "    <tr>\n",
       "      <th>1</th>\n",
       "      <td>上海市</td>\n",
       "      <td>2013</td>\n",
       "      <td>2</td>\n",
       "      <td>0.230067</td>\n",
       "      <td>0.055070</td>\n",
       "      <td>0.760634</td>\n",
       "      <td>1.239366</td>\n",
       "    </tr>\n",
       "    <tr>\n",
       "      <th>2</th>\n",
       "      <td>上海市</td>\n",
       "      <td>2013</td>\n",
       "      <td>3</td>\n",
       "      <td>0.197633</td>\n",
       "      <td>0.050447</td>\n",
       "      <td>0.744745</td>\n",
       "      <td>1.255255</td>\n",
       "    </tr>\n",
       "    <tr>\n",
       "      <th>3</th>\n",
       "      <td>上海市</td>\n",
       "      <td>2013</td>\n",
       "      <td>4</td>\n",
       "      <td>0.192312</td>\n",
       "      <td>0.040473</td>\n",
       "      <td>0.789544</td>\n",
       "      <td>1.210456</td>\n",
       "    </tr>\n",
       "    <tr>\n",
       "      <th>4</th>\n",
       "      <td>上海市</td>\n",
       "      <td>2013</td>\n",
       "      <td>5</td>\n",
       "      <td>0.205180</td>\n",
       "      <td>0.042089</td>\n",
       "      <td>0.794866</td>\n",
       "      <td>1.205134</td>\n",
       "    </tr>\n",
       "    <tr>\n",
       "      <th>...</th>\n",
       "      <td>...</td>\n",
       "      <td>...</td>\n",
       "      <td>...</td>\n",
       "      <td>...</td>\n",
       "      <td>...</td>\n",
       "      <td>...</td>\n",
       "      <td>...</td>\n",
       "    </tr>\n",
       "    <tr>\n",
       "      <th>2371</th>\n",
       "      <td>黑龙江省</td>\n",
       "      <td>2018</td>\n",
       "      <td>8</td>\n",
       "      <td>0.120941</td>\n",
       "      <td>0.015567</td>\n",
       "      <td>0.871287</td>\n",
       "      <td>1.128713</td>\n",
       "    </tr>\n",
       "    <tr>\n",
       "      <th>2372</th>\n",
       "      <td>黑龙江省</td>\n",
       "      <td>2018</td>\n",
       "      <td>9</td>\n",
       "      <td>0.108554</td>\n",
       "      <td>0.024046</td>\n",
       "      <td>0.778489</td>\n",
       "      <td>1.221511</td>\n",
       "    </tr>\n",
       "    <tr>\n",
       "      <th>2373</th>\n",
       "      <td>黑龙江省</td>\n",
       "      <td>2018</td>\n",
       "      <td>10</td>\n",
       "      <td>0.133000</td>\n",
       "      <td>0.039548</td>\n",
       "      <td>0.702645</td>\n",
       "      <td>1.297355</td>\n",
       "    </tr>\n",
       "    <tr>\n",
       "      <th>2374</th>\n",
       "      <td>黑龙江省</td>\n",
       "      <td>2018</td>\n",
       "      <td>11</td>\n",
       "      <td>0.161378</td>\n",
       "      <td>0.042575</td>\n",
       "      <td>0.736180</td>\n",
       "      <td>1.263820</td>\n",
       "    </tr>\n",
       "    <tr>\n",
       "      <th>2375</th>\n",
       "      <td>黑龙江省</td>\n",
       "      <td>2018</td>\n",
       "      <td>12</td>\n",
       "      <td>0.174339</td>\n",
       "      <td>0.065620</td>\n",
       "      <td>0.623607</td>\n",
       "      <td>1.376393</td>\n",
       "    </tr>\n",
       "  </tbody>\n",
       "</table>\n",
       "<p>2376 rows × 7 columns</p>\n",
       "</div>"
      ],
      "text/plain": [
       "      prov  year  month   P_pm25_    S_pm25  Min_pm25  Max_pm25\n",
       "0      上海市  2013      1  0.274826  0.050506  0.816225  1.183775\n",
       "1      上海市  2013      2  0.230067  0.055070  0.760634  1.239366\n",
       "2      上海市  2013      3  0.197633  0.050447  0.744745  1.255255\n",
       "3      上海市  2013      4  0.192312  0.040473  0.789544  1.210456\n",
       "4      上海市  2013      5  0.205180  0.042089  0.794866  1.205134\n",
       "...    ...   ...    ...       ...       ...       ...       ...\n",
       "2371  黑龙江省  2018      8  0.120941  0.015567  0.871287  1.128713\n",
       "2372  黑龙江省  2018      9  0.108554  0.024046  0.778489  1.221511\n",
       "2373  黑龙江省  2018     10  0.133000  0.039548  0.702645  1.297355\n",
       "2374  黑龙江省  2018     11  0.161378  0.042575  0.736180  1.263820\n",
       "2375  黑龙江省  2018     12  0.174339  0.065620  0.623607  1.376393\n",
       "\n",
       "[2376 rows x 7 columns]"
      ]
     },
     "execution_count": 7,
     "metadata": {},
     "output_type": "execute_result"
    }
   ],
   "source": [
    "PS_pm25"
   ]
  },
  {
   "cell_type": "code",
   "execution_count": 9,
   "id": "58026958",
   "metadata": {},
   "outputs": [],
   "source": [
    "PS_pm25.to_csv('PS_pm25_fin.csv', encoding='utf-8-sig', index=False)"
   ]
  },
  {
   "cell_type": "code",
   "execution_count": null,
   "id": "fab009d5",
   "metadata": {},
   "outputs": [],
   "source": [
    "# city\n",
    "C_pm25 = list()\n",
    "for i in range(len(city)):\n",
    "    for j in range(len(df['city'])):\n",
    "        if df['city'][j] == city[i]:\n",
    "            for k in range(len(PS_pm25['city'])):\n",
    "                if df['city'][j] == PS_pm25['city'][k] and \\\n",
    "                        df['year'][j] == PS_pm25['year'][k] and \\\n",
    "                        df['month'][j] == PS_pm25['month'][k]:\n",
    "                    C_pm25.append([df['city'][j], df['year'][j], \n",
    "                                   df['month'][j], df['day'][j], \n",
    "                                   df['P_pm25'][j]/PS_pm25['P_pm25_'][k]])"
   ]
  },
  {
   "cell_type": "code",
   "execution_count": null,
   "id": "31adc048",
   "metadata": {},
   "outputs": [],
   "source": [
    "# province\n",
    "C_pm25 = list()\n",
    "for i in range(len(prov)):\n",
    "    for j in range(len(df['province'])):\n",
    "        if df['province'][j] == prov[i]:\n",
    "            for k in range(len(PS_pm25['prov'])):\n",
    "                if df['province'][j] == PS_pm25['prov'][k] and \\\n",
    "                        df['year'][j] == PS_pm25['year'][k] and \\\n",
    "                        df['month'][j] == PS_pm25['month'][k]:\n",
    "                    C_pm25.append(df['P_pm25'][j]/PS_pm25['P_pm25_'][k])"
   ]
  },
  {
   "cell_type": "code",
   "execution_count": null,
   "id": "933114d5",
   "metadata": {},
   "outputs": [],
   "source": [
    "df['C_pm25'] = C_pm25"
   ]
  },
  {
   "cell_type": "code",
   "execution_count": null,
   "id": "33d19c5f",
   "metadata": {},
   "outputs": [],
   "source": [
    "df"
   ]
  },
  {
   "cell_type": "code",
   "execution_count": null,
   "id": "c96f7cc2",
   "metadata": {},
   "outputs": [],
   "source": [
    "df.drop(['P_pm25', 'year', 'month', 'day', 'pm2.5', 'pm10', 'so2', 'no2', 'co', 'o3'], axis=1, inplace=True)"
   ]
  },
  {
   "cell_type": "code",
   "execution_count": null,
   "id": "b1173883",
   "metadata": {},
   "outputs": [],
   "source": [
    "df"
   ]
  },
  {
   "cell_type": "code",
   "execution_count": null,
   "id": "3fdae2a9",
   "metadata": {},
   "outputs": [],
   "source": [
    "df.to_csv('EI_pm25_daily.csv', encoding='utf-8-sig', index=False)"
   ]
  },
  {
   "cell_type": "code",
   "execution_count": null,
   "id": "d6f326d8",
   "metadata": {},
   "outputs": [],
   "source": []
  },
  {
   "cell_type": "code",
   "execution_count": null,
   "id": "9ab15608",
   "metadata": {},
   "outputs": [],
   "source": []
  },
  {
   "cell_type": "markdown",
   "id": "274d8c4c",
   "metadata": {},
   "source": [
    "```\n",
    "for i in range(len(df['city'])):\n",
    "    if df['city'][i] in city:\n",
    "        print(df['city'][i],df['date'][i])\n",
    "```"
   ]
  },
  {
   "cell_type": "markdown",
   "id": "c1dc8c52",
   "metadata": {},
   "source": [
    "```\n",
    "for i in range(len(df['city'])):\n",
    "    for j in range(len(df['city'])):\n",
    "        if df['city'][j] == city[i]:\n",
    "            print(df['city'][j],df['date'][j])\n",
    "```"
   ]
  },
  {
   "cell_type": "markdown",
   "id": "e585757d",
   "metadata": {},
   "source": [
    "```\n",
    "# 1.0\n",
    "month_31 = [1,3,5,7,8,10,12]\n",
    "for i in range(len(df['date'])):\n",
    "    if df['year'][i] == 2016:\n",
    "        if df['month'][i] in month_31:\n",
    "            print(31)\n",
    "        elif df['month'][i] == 2:\n",
    "            print(29)\n",
    "        else:\n",
    "            print(30)\n",
    "    else:\n",
    "        if df['month'][i] in month_31:\n",
    "            print(31)\n",
    "        elif df['month'][i] == 2:\n",
    "            print(28)\n",
    "        else:\n",
    "            print(30)\n",
    "```"
   ]
  },
  {
   "cell_type": "markdown",
   "id": "dcb1a2bc",
   "metadata": {},
   "source": [
    "```\n",
    "# 2.0\n",
    "for i in range(len(df['city'])):\n",
    "    if df['city'][i] in city:\n",
    "        for j in range(len(df['date'])):\n",
    "            if df['year'][j] == 2016:  # 闰年\n",
    "                if df['month'][j] in month_31:\n",
    "                    print(df['city'][i],df['year'][j],df['month'][j],31)\n",
    "                elif df['month'][j] == 2:\n",
    "                    print(df['city'][i],df['year'][j],df['month'][j],29)\n",
    "                else:\n",
    "                    print(df['city'][i],df['year'][j],df['month'][j],30)\n",
    "            else:\n",
    "                if df['month'][j] in month_31:\n",
    "                    print(df['city'][i],df['year'][j],df['month'][j],31)\n",
    "                elif df['month'][j] == 2:\n",
    "                    print(df['city'][i],df['year'][j],df['month'][j],28)\n",
    "                else:\n",
    "                    print(df['city'][i],df['year'][j],df['month'][j],30)\n",
    "```"
   ]
  },
  {
   "cell_type": "code",
   "execution_count": null,
   "id": "32b20c0e",
   "metadata": {},
   "outputs": [],
   "source": []
  },
  {
   "cell_type": "code",
   "execution_count": null,
   "id": "e9ecf7c9",
   "metadata": {},
   "outputs": [],
   "source": [
    "t = [[1,2,3],[4,5,6],[7,8,9]]\n",
    "df = pd.DataFrame(t)"
   ]
  },
  {
   "cell_type": "code",
   "execution_count": null,
   "id": "70a851b5",
   "metadata": {},
   "outputs": [],
   "source": [
    "df['Row_sum'] = df.apply(lambda x: x.sum(), axis=1)  # 按行求和，添加为新列\n",
    "df.loc['Col_sum'] = df.apply(lambda x: x.sum())  # 各列求和，添加新的行\n",
    "df"
   ]
  },
  {
   "cell_type": "code",
   "execution_count": null,
   "id": "79b92161",
   "metadata": {},
   "outputs": [],
   "source": [
    "df['sum'] = df.iloc[:,:2].sum(axis=1)  # 作用于所有行，前2列求和，生成新列\n",
    "df"
   ]
  },
  {
   "cell_type": "code",
   "execution_count": null,
   "id": "5394e903",
   "metadata": {},
   "outputs": [],
   "source": [
    "df.loc['Col_sum1'] = df.iloc[:2,:].sum(axis=0) # 作用于所有列，前2行求和，生成新行\n",
    "df"
   ]
  },
  {
   "cell_type": "code",
   "execution_count": null,
   "id": "68742253",
   "metadata": {},
   "outputs": [],
   "source": [
    "df.loc['Col_sum2'] = df.iloc[0:2,:].sum(axis=1) # 对0，1行按行求和，生成新行\n",
    "df"
   ]
  },
  {
   "cell_type": "code",
   "execution_count": null,
   "id": "713fcebf",
   "metadata": {},
   "outputs": [],
   "source": []
  },
  {
   "cell_type": "code",
   "execution_count": null,
   "id": "881bef0e",
   "metadata": {},
   "outputs": [],
   "source": [
    "df = pd.DataFrame({'A':[1,2,3],\n",
    "                   'B':[4,5,6],\n",
    "                   'C':[7,8,9],\n",
    "                   'D':[1,3,5],\n",
    "                   'E':[5,3,6],\n",
    "                   'F':[7,4,3]})"
   ]
  },
  {
   "cell_type": "code",
   "execution_count": null,
   "id": "dc7dc627",
   "metadata": {},
   "outputs": [],
   "source": [
    "print(df)"
   ]
  },
  {
   "cell_type": "code",
   "execution_count": null,
   "id": "d89e0574",
   "metadata": {},
   "outputs": [],
   "source": [
    "print(df.iloc[:, :-1])"
   ]
  },
  {
   "cell_type": "code",
   "execution_count": null,
   "id": "6cdb0c57",
   "metadata": {},
   "outputs": [],
   "source": [
    "print(df.iloc[:, 1:-1])"
   ]
  },
  {
   "cell_type": "code",
   "execution_count": null,
   "id": "cf25ed6d",
   "metadata": {},
   "outputs": [],
   "source": [
    "print(df.iloc[0:2:2])"
   ]
  },
  {
   "cell_type": "code",
   "execution_count": null,
   "id": "61d262c2",
   "metadata": {},
   "outputs": [],
   "source": [
    "print(df.iloc[0:3:2])  # 切片"
   ]
  },
  {
   "cell_type": "code",
   "execution_count": null,
   "id": "90e2cfc4",
   "metadata": {},
   "outputs": [],
   "source": []
  },
  {
   "cell_type": "code",
   "execution_count": null,
   "id": "647a9dab",
   "metadata": {},
   "outputs": [],
   "source": [
    "a = np.array([[1,2,3],[4,5,6],[7,8,9]])\n",
    "df1 = pd.DataFrame(a,index=['row0','row1','row2'],columns=list('ABC'))\n",
    "print(df1)"
   ]
  },
  {
   "cell_type": "code",
   "execution_count": null,
   "id": "ac8f3472",
   "metadata": {},
   "outputs": [],
   "source": [
    "# 选取df1中A列包含数字1的行\n",
    "df1 = df1[df1['A'].isin([1])]\n",
    "print(df1)"
   ]
  },
  {
   "cell_type": "code",
   "execution_count": null,
   "id": "ee757cf2",
   "metadata": {},
   "outputs": [],
   "source": [
    "# 通过~取反，选取不包含数字1的行\n",
    "df2 = df2[~df2['A'].isin([1])]\n",
    "print(df2)"
   ]
  },
  {
   "cell_type": "code",
   "execution_count": null,
   "id": "89accc00",
   "metadata": {},
   "outputs": [],
   "source": []
  },
  {
   "cell_type": "code",
   "execution_count": null,
   "id": "c6e5a8f0",
   "metadata": {},
   "outputs": [],
   "source": [
    "df1 = pd.DataFrame({'alpha':['A','B','B','C','D','E'],\n",
    "                    'beta':['a','a','b','c','c','e'],\n",
    "                    'feature1':[1,1,2,3,3,1],\n",
    "                    'feature2':['low','medium','medium','high','low','high']})\n",
    "df1"
   ]
  },
  {
   "cell_type": "code",
   "execution_count": null,
   "id": "f8696f6f",
   "metadata": {},
   "outputs": [],
   "source": [
    "df2 = pd.DataFrame({'alpha':['A','E','B','C'],\n",
    "                    'beta':['d','e','b','c'],\n",
    "                    'pazham':['apple','orange','pine','pear'],\n",
    "                    'kilo':['high','low','high','medium'],\n",
    "                    'price':np.array([5,6,5,7])})\n",
    "df2"
   ]
  },
  {
   "cell_type": "code",
   "execution_count": null,
   "id": "6ff13c12",
   "metadata": {},
   "outputs": [],
   "source": [
    "df7 = pd.merge(df1,df2,on=['alpha','beta'],how='inner')\n",
    "df7"
   ]
  },
  {
   "cell_type": "code",
   "execution_count": null,
   "id": "6580b539",
   "metadata": {},
   "outputs": [],
   "source": []
  }
 ],
 "metadata": {
  "kernelspec": {
   "display_name": "Python [conda env:Python3_8] *",
   "language": "python",
   "name": "conda-env-Python3_8-py"
  },
  "language_info": {
   "codemirror_mode": {
    "name": "ipython",
    "version": 3
   },
   "file_extension": ".py",
   "mimetype": "text/x-python",
   "name": "python",
   "nbconvert_exporter": "python",
   "pygments_lexer": "ipython3",
   "version": "3.8.12"
  }
 },
 "nbformat": 4,
 "nbformat_minor": 5
}
