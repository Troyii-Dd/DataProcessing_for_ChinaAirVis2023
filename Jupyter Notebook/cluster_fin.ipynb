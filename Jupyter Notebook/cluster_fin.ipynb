{
 "cells": [
  {
   "cell_type": "code",
   "execution_count": null,
   "metadata": {},
   "outputs": [],
   "source": [
    "import os\n",
    "import pandas as pd\n",
    "import numpy as np\n",
    "from sklearn.cluster import KMeans"
   ]
  },
  {
   "cell_type": "code",
   "execution_count": null,
   "metadata": {},
   "outputs": [],
   "source": [
    "list = []\n",
    "re_list = []\n",
    "with open(\"dir.txt\",'r') as d:\n",
    "    list = d.readlines()[:-1]\n",
    "for l in list:\n",
    "    l = l[:-1]\n",
    "    re_list.append(l)\n",
    "re_list"
   ]
  },
  {
   "cell_type": "code",
   "execution_count": null,
   "metadata": {},
   "outputs": [],
   "source": [
    "filename = []\n",
    "dir_pathname = \"./cluster1/\"\n",
    "for l in re_list:\n",
    "    l = l[-41:-35]\n",
    "    l = dir_pathname+l\n",
    "    filename.append(l)\n",
    "\n",
    "def mkdir(path):\n",
    "    folder = os.path.exists(path)\n",
    "    if not folder:  # 判断是否存在文件夹，如果不存在则创建为文件夹\n",
    "        os.makedirs(path)  # makedirs 创建文件时如果路径不存在会创建这个路径\n",
    "\n",
    "for p in filename:\n",
    "    mkdir(p)"
   ]
  },
  {
   "cell_type": "code",
   "execution_count": null,
   "metadata": {},
   "outputs": [],
   "source": [
    "p = \"./201812/CN-Reanalysis-daily-2018123100.csv\"\n",
    "sfilename = p[-14:]\n",
    "dir = \"./cluster1/201812\"\n",
    "fin_filename = dir + \"/\" + sfilename\n",
    "df_data = pd.read_csv(p)\n",
    "X = df_data.drop(columns=[\"lat\",\"lon\",\"AQI\",\"Major pollutants\",\"id\"])\n",
    "X = np.array(X)\n",
    "kmeans = KMeans(n_clusters=2).fit(X)\n",
    "df_data['cluster'] = kmeans.labels_\n",
    "dd = df_data[[\"lat\",\"lon\",\"cluster\"]]\n",
    "dd.to_csv(fin_filename, index=False)"
   ]
  },
  {
   "cell_type": "code",
   "execution_count": null,
   "metadata": {},
   "outputs": [],
   "source": [
    "for p, dir in zip(re_list,filename):\n",
    "    try:\n",
    "        sfilename = p[-14:]\n",
    "        fin_filename = dir + \"/\" + sfilename\n",
    "        # print(fin_filename)\n",
    "        df_data = pd.read_csv(p)\n",
    "        X = df_data.drop(columns=[\"lat\",\"lon\",\"AQI\",\"Major pollutants\",\"id\"])\n",
    "        X = np.array(X)\n",
    "        kmeansp = kmeans.predict(X)\n",
    "        df_data['cluster'] = kmeansp\n",
    "        dd = df_data[[\"lat\",\"lon\",\"cluster\"]]\n",
    "        dd.to_csv(fin_filename,index=False)\n",
    "    except Exception as e:\n",
    "        pass\n",
    "    continue"
   ]
  }
 ],
 "metadata": {
  "interpreter": {
   "hash": "13111f494e6ebc1524ade641c93be0c72e955777feacba29664e4dc2ee24faea"
  },
  "kernelspec": {
   "display_name": "Python 3 (ipykernel)",
   "language": "python",
   "name": "python3"
  },
  "language_info": {
   "codemirror_mode": {
    "name": "ipython",
    "version": 3
   },
   "file_extension": ".py",
   "mimetype": "text/x-python",
   "name": "python",
   "nbconvert_exporter": "python",
   "pygments_lexer": "ipython3",
   "version": "3.8.12"
  }
 },
 "nbformat": 4,
 "nbformat_minor": 2
}
