{
 "cells": [
  {
   "cell_type": "code",
   "execution_count": null,
   "id": "60476eec",
   "metadata": {},
   "outputs": [],
   "source": [
    "import pandas as pd\n",
    "import math\n",
    "import numpy as np"
   ]
  },
  {
   "cell_type": "code",
   "execution_count": null,
   "id": "2b0f3e73",
   "metadata": {},
   "outputs": [],
   "source": [
    "df = pd.read_csv('./data-temp/daily.csv', encoding='utf-8')"
   ]
  },
  {
   "cell_type": "code",
   "execution_count": null,
   "id": "bc7dc66d",
   "metadata": {},
   "outputs": [],
   "source": [
    "df.drop(df.columns[[0]], axis=1, inplace=True)"
   ]
  },
  {
   "cell_type": "code",
   "execution_count": null,
   "id": "d133a3d6",
   "metadata": {},
   "outputs": [],
   "source": [
    "df.drop(['pm2.5','pm10','so2','no2','co','o3'], axis='columns', inplace=True)"
   ]
  },
  {
   "cell_type": "code",
   "execution_count": null,
   "id": "f04e1d8d",
   "metadata": {},
   "outputs": [],
   "source": [
    "df.head(3)"
   ]
  },
  {
   "cell_type": "code",
   "execution_count": null,
   "id": "1c60af92",
   "metadata": {},
   "outputs": [],
   "source": [
    "temp_C = df['temp'] - 273.15"
   ]
  },
  {
   "cell_type": "code",
   "execution_count": null,
   "id": "8578c79d",
   "metadata": {},
   "outputs": [],
   "source": [
    "df['temp_C'] = temp_C"
   ]
  },
  {
   "cell_type": "code",
   "execution_count": null,
   "id": "c19f5b8f",
   "metadata": {},
   "outputs": [],
   "source": [
    "df.drop('temp', axis=1, inplace=True)\n",
    "df.rename(columns={'temp_C': 'temp'}, inplace=True)"
   ]
  },
  {
   "cell_type": "code",
   "execution_count": null,
   "id": "b728f0ea",
   "metadata": {},
   "outputs": [],
   "source": [
    "df.head(3)"
   ]
  },
  {
   "cell_type": "code",
   "execution_count": null,
   "id": "c334722f",
   "metadata": {},
   "outputs": [],
   "source": [
    "# 计算日均风速\n",
    "# speed = math.sqrt(U ** 2 + V ** 2)\n",
    "U = df['U']\n",
    "V = df['V']\n",
    "U2 = U ** 2\n",
    "V2 = V ** 2"
   ]
  },
  {
   "cell_type": "code",
   "execution_count": null,
   "id": "3d550963",
   "metadata": {},
   "outputs": [],
   "source": [
    "ws = list(np.zeros(len(U2)))  # 风速"
   ]
  },
  {
   "cell_type": "code",
   "execution_count": null,
   "id": "65ac585c",
   "metadata": {},
   "outputs": [],
   "source": [
    "for i in range(len(U2)):\n",
    "    ws[i]= math.sqrt(U2[i] + V2[i])\n",
    "df['ws'] = ws"
   ]
  },
  {
   "cell_type": "code",
   "execution_count": null,
   "id": "087db6dc",
   "metadata": {},
   "outputs": [],
   "source": [
    "# 计算风向\n",
    "deg = 180.0 / math.pi\n",
    "wd = 180.0 + deg * np.arctan2(U, V)\n",
    "df['wd'] = wd"
   ]
  },
  {
   "cell_type": "code",
   "execution_count": null,
   "id": "b8615878",
   "metadata": {},
   "outputs": [],
   "source": [
    "# 判断风向\n",
    "# 东北风：0-90\n",
    "# 东南风：90-180\n",
    "# 西南风：180-270\n",
    "# 西北风：270-360\n",
    "wd_ = list(np.zeros(len(wd)))\n",
    "for i in range(len(wd)):\n",
    "    if 0 < wd[i] < 90:\n",
    "        wd_[i] = '东北风'\n",
    "    elif 90 < wd[i] < 180:\n",
    "        wd_[i] = '东南风'\n",
    "    elif 180 < wd[i] < 270:\n",
    "        wd_[i] = '西南风'\n",
    "    elif 270 < wd[i] < 360:\n",
    "        wd_[i] = '西北风'\n",
    "    elif wd[i] == 0 or wd[i] == 360:\n",
    "        wd_[i] = '正北风'\n",
    "    elif wd[i] == 90:\n",
    "        wd_[i] = '正东风'\n",
    "    elif wd[i] == 180:\n",
    "        wd_[i] = '正南风'\n",
    "    elif wd[i] == 270:\n",
    "        wd_[i] = '正西风'"
   ]
  },
  {
   "cell_type": "code",
   "execution_count": null,
   "id": "111daa1c",
   "metadata": {},
   "outputs": [],
   "source": [
    "df['wd_'] = wd_"
   ]
  },
  {
   "cell_type": "code",
   "execution_count": null,
   "id": "dfc579fc",
   "metadata": {},
   "outputs": [],
   "source": [
    "df.head(3)"
   ]
  },
  {
   "cell_type": "code",
   "execution_count": null,
   "id": "ad713a12",
   "metadata": {},
   "outputs": [],
   "source": [
    "df.drop(['U','V'], axis=1, inplace=True)"
   ]
  },
  {
   "cell_type": "code",
   "execution_count": null,
   "id": "1fc2f96f",
   "metadata": {},
   "outputs": [],
   "source": [
    "df1 = df[['province', 'city', 'ws', 'wd', 'wd_', 'date']]\n",
    "df2 = df[['province', 'city', 'temp_C', 'date']]"
   ]
  },
  {
   "cell_type": "code",
   "execution_count": null,
   "id": "66e6ea50",
   "metadata": {},
   "outputs": [],
   "source": [
    "df1.head(3)"
   ]
  },
  {
   "cell_type": "code",
   "execution_count": null,
   "id": "580853c2",
   "metadata": {},
   "outputs": [],
   "source": [
    "df2.head(3)"
   ]
  },
  {
   "cell_type": "code",
   "execution_count": null,
   "id": "8ca05e90",
   "metadata": {},
   "outputs": [],
   "source": []
  }
 ],
 "metadata": {
  "kernelspec": {
   "display_name": "Python [conda env:Python3_8] *",
   "language": "python",
   "name": "conda-env-Python3_8-py"
  },
  "language_info": {
   "codemirror_mode": {
    "name": "ipython",
    "version": 3
   },
   "file_extension": ".py",
   "mimetype": "text/x-python",
   "name": "python",
   "nbconvert_exporter": "python",
   "pygments_lexer": "ipython3",
   "version": "3.8.12"
  }
 },
 "nbformat": 4,
 "nbformat_minor": 5
}
