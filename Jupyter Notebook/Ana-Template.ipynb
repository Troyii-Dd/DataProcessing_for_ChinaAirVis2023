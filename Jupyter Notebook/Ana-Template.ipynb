{
 "cells": [
  {
   "cell_type": "code",
   "execution_count": 1,
   "id": "0fb494cd",
   "metadata": {},
   "outputs": [],
   "source": [
    "import pandas as pd"
   ]
  },
  {
   "cell_type": "code",
   "execution_count": 2,
   "id": "ab1b78f5",
   "metadata": {},
   "outputs": [],
   "source": [
    "# 逆地理编码+修改直辖市/直辖县名称 --> Template\n",
    "df = pd.read_csv('./data-temp/template.csv', encoding='utf-8')"
   ]
  },
  {
   "cell_type": "code",
   "execution_count": 3,
   "id": "3271e13d",
   "metadata": {
    "scrolled": false
   },
   "outputs": [
    {
     "name": "stdout",
     "output_type": "stream",
     "text": [
      "<class 'pandas.core.frame.DataFrame'>\n",
      "RangeIndex: 42249 entries, 0 to 42248\n",
      "Data columns (total 15 columns):\n",
      " #   Column         Non-Null Count  Dtype  \n",
      "---  ------         --------------  -----  \n",
      " 0   PM2.5(微克每立方米)  42249 non-null  float64\n",
      " 1   PM10(微克每立方米)   42249 non-null  float64\n",
      " 2   SO2(微克每立方米)    42249 non-null  float64\n",
      " 3   NO2(微克每立方米)    42249 non-null  float64\n",
      " 4   CO(毫克每立方米)     42249 non-null  float64\n",
      " 5   O3(微克每立方米)     42249 non-null  float64\n",
      " 6   U(m/s)         42249 non-null  float64\n",
      " 7   V(m/s)         42249 non-null  float64\n",
      " 8   TEMP(K)        42249 non-null  float64\n",
      " 9   RH(%)          42249 non-null  float64\n",
      " 10  PSFC(Pa)       42249 non-null  float64\n",
      " 11  lat            42249 non-null  float64\n",
      " 12  lon            42249 non-null  float64\n",
      " 13  province       42249 non-null  object \n",
      " 14  city           42249 non-null  object \n",
      "dtypes: float64(13), object(2)\n",
      "memory usage: 4.8+ MB\n"
     ]
    }
   ],
   "source": [
    "df.info()"
   ]
  },
  {
   "cell_type": "code",
   "execution_count": null,
   "id": "119a0753",
   "metadata": {},
   "outputs": [],
   "source": []
  },
  {
   "cell_type": "code",
   "execution_count": 4,
   "id": "29bc5b01",
   "metadata": {},
   "outputs": [
    {
     "data": {
      "text/plain": [
       "41877"
      ]
     },
     "execution_count": 4,
     "metadata": {},
     "output_type": "execute_result"
    }
   ],
   "source": [
    "df1 = df[['province', 'city']]\n",
    "df1.duplicated().sum()"
   ]
  },
  {
   "cell_type": "markdown",
   "id": "a102e031",
   "metadata": {},
   "source": [
    "```\n",
    "# 显示所有列\n",
    "pd.set_option('display.max_columns', None)\n",
    "# 显示所有行\n",
    "pd.set_option('display.max_rows', None)\n",
    "```"
   ]
  },
  {
   "cell_type": "code",
   "execution_count": 8,
   "id": "a5ad49f1",
   "metadata": {},
   "outputs": [
    {
     "data": {
      "text/html": [
       "<div>\n",
       "<style scoped>\n",
       "    .dataframe tbody tr th:only-of-type {\n",
       "        vertical-align: middle;\n",
       "    }\n",
       "\n",
       "    .dataframe tbody tr th {\n",
       "        vertical-align: top;\n",
       "    }\n",
       "\n",
       "    .dataframe thead th {\n",
       "        text-align: right;\n",
       "    }\n",
       "</style>\n",
       "<table border=\"1\" class=\"dataframe\">\n",
       "  <thead>\n",
       "    <tr style=\"text-align: right;\">\n",
       "      <th></th>\n",
       "      <th>province</th>\n",
       "      <th>city</th>\n",
       "    </tr>\n",
       "  </thead>\n",
       "  <tbody>\n",
       "  </tbody>\n",
       "</table>\n",
       "</div>"
      ],
      "text/plain": [
       "Empty DataFrame\n",
       "Columns: [province, city]\n",
       "Index: []"
      ]
     },
     "execution_count": 8,
     "metadata": {},
     "output_type": "execute_result"
    }
   ],
   "source": [
    "df1[df1.province.str.startswith('[]')]"
   ]
  },
  {
   "cell_type": "code",
   "execution_count": 11,
   "id": "3a800fca",
   "metadata": {
    "scrolled": false
   },
   "outputs": [
    {
     "data": {
      "text/html": [
       "<div>\n",
       "<style scoped>\n",
       "    .dataframe tbody tr th:only-of-type {\n",
       "        vertical-align: middle;\n",
       "    }\n",
       "\n",
       "    .dataframe tbody tr th {\n",
       "        vertical-align: top;\n",
       "    }\n",
       "\n",
       "    .dataframe thead th {\n",
       "        text-align: right;\n",
       "    }\n",
       "</style>\n",
       "<table border=\"1\" class=\"dataframe\">\n",
       "  <thead>\n",
       "    <tr style=\"text-align: right;\">\n",
       "      <th></th>\n",
       "      <th>province</th>\n",
       "      <th>city</th>\n",
       "    </tr>\n",
       "  </thead>\n",
       "  <tbody>\n",
       "    <tr>\n",
       "      <th>953</th>\n",
       "      <td>台湾省</td>\n",
       "      <td>[]</td>\n",
       "    </tr>\n",
       "    <tr>\n",
       "      <th>1059</th>\n",
       "      <td>台湾省</td>\n",
       "      <td>[]</td>\n",
       "    </tr>\n",
       "    <tr>\n",
       "      <th>1177</th>\n",
       "      <td>台湾省</td>\n",
       "      <td>[]</td>\n",
       "    </tr>\n",
       "    <tr>\n",
       "      <th>1297</th>\n",
       "      <td>台湾省</td>\n",
       "      <td>[]</td>\n",
       "    </tr>\n",
       "    <tr>\n",
       "      <th>1298</th>\n",
       "      <td>台湾省</td>\n",
       "      <td>[]</td>\n",
       "    </tr>\n",
       "    <tr>\n",
       "      <th>...</th>\n",
       "      <td>...</td>\n",
       "      <td>...</td>\n",
       "    </tr>\n",
       "    <tr>\n",
       "      <th>4110</th>\n",
       "      <td>台湾省</td>\n",
       "      <td>[]</td>\n",
       "    </tr>\n",
       "    <tr>\n",
       "      <th>4250</th>\n",
       "      <td>台湾省</td>\n",
       "      <td>[]</td>\n",
       "    </tr>\n",
       "    <tr>\n",
       "      <th>4251</th>\n",
       "      <td>台湾省</td>\n",
       "      <td>[]</td>\n",
       "    </tr>\n",
       "    <tr>\n",
       "      <th>4252</th>\n",
       "      <td>台湾省</td>\n",
       "      <td>[]</td>\n",
       "    </tr>\n",
       "    <tr>\n",
       "      <th>4391</th>\n",
       "      <td>台湾省</td>\n",
       "      <td>[]</td>\n",
       "    </tr>\n",
       "  </tbody>\n",
       "</table>\n",
       "<p>158 rows × 2 columns</p>\n",
       "</div>"
      ],
      "text/plain": [
       "     province city\n",
       "953       台湾省   []\n",
       "1059      台湾省   []\n",
       "1177      台湾省   []\n",
       "1297      台湾省   []\n",
       "1298      台湾省   []\n",
       "...       ...  ...\n",
       "4110      台湾省   []\n",
       "4250      台湾省   []\n",
       "4251      台湾省   []\n",
       "4252      台湾省   []\n",
       "4391      台湾省   []\n",
       "\n",
       "[158 rows x 2 columns]"
      ]
     },
     "execution_count": 11,
     "metadata": {},
     "output_type": "execute_result"
    }
   ],
   "source": [
    "df1[df1.city.str.startswith('[]')]"
   ]
  },
  {
   "cell_type": "code",
   "execution_count": 7,
   "id": "62082424",
   "metadata": {},
   "outputs": [],
   "source": [
    "df1 = df1.drop(df1[df1['province'] == '[]'].index)"
   ]
  },
  {
   "cell_type": "code",
   "execution_count": 10,
   "id": "0d0482cc",
   "metadata": {},
   "outputs": [],
   "source": [
    "df1 = df1.drop(df1[(df1['city'] == '[]') & (df1['province'] != '台湾省')].index)"
   ]
  },
  {
   "cell_type": "code",
   "execution_count": null,
   "id": "888e157b",
   "metadata": {},
   "outputs": [],
   "source": []
  },
  {
   "cell_type": "code",
   "execution_count": 12,
   "id": "8741f034",
   "metadata": {},
   "outputs": [],
   "source": [
    "df = df.drop(df[df['province'] == '[]'].index)\n",
    "df = df.drop(df[(df['city'] == '[]') & (df['province'] != '台湾省')].index)"
   ]
  },
  {
   "cell_type": "code",
   "execution_count": 13,
   "id": "eb42239c",
   "metadata": {},
   "outputs": [
    {
     "name": "stdout",
     "output_type": "stream",
     "text": [
      "<class 'pandas.core.frame.DataFrame'>\n",
      "MultiIndex: 370 entries, ('上海市', '上海市') to ('黑龙江省', '齐齐哈尔市')\n",
      "Data columns (total 13 columns):\n",
      " #   Column         Non-Null Count  Dtype  \n",
      "---  ------         --------------  -----  \n",
      " 0   PM2.5(微克每立方米)  370 non-null    float64\n",
      " 1   PM10(微克每立方米)   370 non-null    float64\n",
      " 2   SO2(微克每立方米)    370 non-null    float64\n",
      " 3   NO2(微克每立方米)    370 non-null    float64\n",
      " 4   CO(毫克每立方米)     370 non-null    float64\n",
      " 5   O3(微克每立方米)     370 non-null    float64\n",
      " 6   U(m/s)         370 non-null    float64\n",
      " 7   V(m/s)         370 non-null    float64\n",
      " 8   TEMP(K)        370 non-null    float64\n",
      " 9   RH(%)          370 non-null    float64\n",
      " 10  PSFC(Pa)       370 non-null    float64\n",
      " 11  lat            370 non-null    float64\n",
      " 12  lon            370 non-null    float64\n",
      "dtypes: float64(13)\n",
      "memory usage: 41.9+ KB\n"
     ]
    }
   ],
   "source": [
    "df = df.groupby(['province', 'city']).mean()\n",
    "df.info()"
   ]
  },
  {
   "cell_type": "code",
   "execution_count": null,
   "id": "c906e6a8",
   "metadata": {},
   "outputs": [],
   "source": []
  },
  {
   "cell_type": "code",
   "execution_count": 14,
   "id": "32abe22d",
   "metadata": {},
   "outputs": [
    {
     "name": "stdout",
     "output_type": "stream",
     "text": [
      "<class 'pandas.core.frame.DataFrame'>\n",
      "RangeIndex: 370 entries, 0 to 369\n",
      "Data columns (total 15 columns):\n",
      " #   Column         Non-Null Count  Dtype  \n",
      "---  ------         --------------  -----  \n",
      " 0   province       370 non-null    object \n",
      " 1   city           370 non-null    object \n",
      " 2   PM2.5(微克每立方米)  370 non-null    float64\n",
      " 3   PM10(微克每立方米)   370 non-null    float64\n",
      " 4   SO2(微克每立方米)    370 non-null    float64\n",
      " 5   NO2(微克每立方米)    370 non-null    float64\n",
      " 6   CO(毫克每立方米)     370 non-null    float64\n",
      " 7   O3(微克每立方米)     370 non-null    float64\n",
      " 8   U(m/s)         370 non-null    float64\n",
      " 9   V(m/s)         370 non-null    float64\n",
      " 10  TEMP(K)        370 non-null    float64\n",
      " 11  RH(%)          370 non-null    float64\n",
      " 12  PSFC(Pa)       370 non-null    float64\n",
      " 13  lat            370 non-null    float64\n",
      " 14  lon            370 non-null    float64\n",
      "dtypes: float64(13), object(2)\n",
      "memory usage: 43.5+ KB\n"
     ]
    }
   ],
   "source": [
    "df2 = pd.read_csv('./data-temp/CN-Reanalysis-daily-2013010300.csv', encoding='utf-8')\n",
    "df2.info()"
   ]
  },
  {
   "cell_type": "code",
   "execution_count": null,
   "id": "c11872ad",
   "metadata": {},
   "outputs": [],
   "source": []
  }
 ],
 "metadata": {
  "kernelspec": {
   "display_name": "Python [conda env:Python3_8] *",
   "language": "python",
   "name": "conda-env-Python3_8-py"
  },
  "language_info": {
   "codemirror_mode": {
    "name": "ipython",
    "version": 3
   },
   "file_extension": ".py",
   "mimetype": "text/x-python",
   "name": "python",
   "nbconvert_exporter": "python",
   "pygments_lexer": "ipython3",
   "version": "3.8.12"
  }
 },
 "nbformat": 4,
 "nbformat_minor": 5
}
